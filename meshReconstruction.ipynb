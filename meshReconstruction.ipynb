{
 "cells": [
  {
   "cell_type": "code",
   "execution_count": 2,
   "metadata": {},
   "outputs": [],
   "source": [
    "import trimesh"
   ]
  },
  {
   "cell_type": "code",
   "execution_count": null,
   "metadata": {},
   "outputs": [],
   "source": [
    "import meshLibrary.AnyModelRayMarch\n",
    "import importlib"
   ]
  },
  {
   "cell_type": "code",
   "execution_count": 66,
   "metadata": {},
   "outputs": [
    {
     "name": "stdout",
     "output_type": "stream",
     "text": [
      "-1\n"
     ]
    }
   ],
   "source": [
    "importlib.reload(meshLibrary.AnyModelRayMarch)\n",
    "mrt = meshLibrary.AnyModelRayMarch.ModelRayTrace(\"COLLADA dae geometry files/Connected Home Dae - Trimesh\")"
   ]
  },
  {
   "cell_type": "code",
   "execution_count": 5,
   "metadata": {},
   "outputs": [
    {
     "name": "stdout",
     "output_type": "stream",
     "text": [
      "[204, 5152, 5160, 5191, 19655, 19657, 19923, 23985, 28728, 28738, 29064, 33528, 40389, 42053, 50661, 51651, 51823, 56566, 56738, 61002, 65266, 70238, 70252, 71714, 71774, 77386, 77911, 77993, 78656, 83120, 89576, 89730, 89934, 104228, 112836, 117808, 124264, 124418, 125004, 126836, 126844, 128600, 143064, 143074, 144906, 144920, 145043, 145629, 145660, 145662, 145988, 147999, 148059, 154920, 155182, 159244, 164856, 165381, 179675, 179829, 181585, 184017, 185479, 187143, 189154, 189277, 194225, 194888, 194970, 195960, 196114, 198546]\n",
      "[1 1]\n",
      "['Decor', 'Gutters', 'Door', 'Driveway', 'Handles', 'Terrain', 'Clock', 'Metal', 'Furniture', 'Backsplash', 'Monitor', 'Seats', 'Bedding', 'Metal', 'Metal', 'Counters', 'TV', 'Furniture', 'TV', 'Wood', 'Wood', 'Chairs', 'Doors', 'Couch', 'Glass', 'Ceramic', 'Floors', 'Brick', 'Fiberglass', 'Seats', 'Metal', 'Walls', 'Decor', 'Wood', 'Metal', 'Chairs', 'Metal', 'Roof', 'Wood', 'Frames', 'Door', 'Glass', 'Handles', 'Backsplash', 'Frames', 'Doors', 'Walls', 'Wood', 'Driveway', 'Terrain', 'Monitor', 'Wood', 'Glass', 'Bedding', 'Clock', 'Metal', 'Ceramic', 'Floors', 'Wood', 'Walls', 'Glass', 'Frames', 'Couch', 'Metal', 'Wood', 'Walls', 'Gutters', 'Fiberglass', 'Brick', 'Counters', 'Roof', 'Frames']\n"
     ]
    }
   ],
   "source": [
    "print(mrt.materialIdx)\n",
    "print(mrt.faceIdxToMaterial[205:207])\n",
    "print(mrt.materials)"
   ]
  },
  {
   "cell_type": "code",
   "execution_count": null,
   "metadata": {},
   "outputs": [],
   "source": [
    "importlib.reload(meshLibrary.AnyModelRayMarch)\n",
    "attenuationCoeffs = meshLibrary.AnyModelRayMarch.AttenuationCoefficients(\"Reflection Coefficients\", {\"Terrain\": \"Wood\", \"Driveway\" : \"Concrete\"})"
   ]
  },
  {
   "cell_type": "code",
   "execution_count": 7,
   "metadata": {},
   "outputs": [
    {
     "name": "stdout",
     "output_type": "stream",
     "text": [
      "Nums:  [10.1      -8.432738 -8.432738]\n",
      "[ 0.14345847 -8.432738  ]\n"
     ]
    }
   ],
   "source": [
    "print(attenuationCoeffs.getAttenuationCoeff(\"Plastic\", 10.01, decibels=False, degrees=True, parallelPortion=0.8))"
   ]
  },
  {
   "cell_type": "code",
   "execution_count": 67,
   "metadata": {},
   "outputs": [
    {
     "name": "stdout",
     "output_type": "stream",
     "text": [
      "Intersections:  [[0. 0. 0.]]\n",
      "Ray Index:  [0]\n",
      "Face Index:  [145660]\n",
      "Face indices: [145660     -1]\n",
      "[275724 275725 275726]\n",
      "[ 0.  0. -1.]\n",
      "49\n",
      "Intersections:  [[0.         0.49963652 0.00072696]]\n",
      "Ray Index:  [0]\n",
      "Face Index:  [145634]\n",
      "Direction is [ 0  1 -2]; normal is [ 0  0 -1]\n",
      "Scaled dot product is 0.8944271909999159\n"
     ]
    },
    {
     "data": {
      "text/plain": [
       "array([inf +0.j, nan+nanj])"
      ]
     },
     "execution_count": 67,
     "metadata": {},
     "output_type": "execute_result"
    }
   ],
   "source": [
    "# print(mrt.rays.mesh.vertices[0])\n",
    "importlib.reload(meshLibrary.AnyModelRayMarch)\n",
    "didHit, intersections, normals, face_indices = mrt.RayTrace([[0, 0, 0], [0, 3, -1]], [[-0.1, 1, -1], [1, 0, 0]], other=True)\n",
    "print(\"Face indices:\", face_indices)\n",
    "\n",
    "print(mrt.rays.mesh.faces[face_indices[0]])\n",
    "print(mrt.combinedMesh.face_normals[face_indices[0]])\n",
    "print(mrt.faceIdxToMaterial[face_indices[0]])\n",
    "mrt.getMaterial(face_indices[0])\n",
    "fname = mrt.filenames[mrt.getMaterial(face_indices[0])]\n",
    "mrt.getFileMaterial(fname)\n",
    "# mrt.combinedMesh.show()\n",
    "\n",
    "meshLibrary.AnyModelRayMarch.simulateRays(mrt, attenuationCoeffs, [[0, 0, 1], [0, 3, 0]], [[0, 1, -2], [1, 0, 0]])"
   ]
  },
  {
   "cell_type": "code",
   "execution_count": 76,
   "metadata": {},
   "outputs": [
    {
     "name": "stdout",
     "output_type": "stream",
     "text": [
      "[[0 1 2]\n",
      " [3 4 5]]\n"
     ]
    }
   ],
   "source": [
    "mesh1 = trimesh.Trimesh(vertices=[[0, 0, 0], [1, 0, 0], [0, 1, 0]], faces=[[0, 1, 2]])\n",
    "mesh2 = trimesh.Trimesh(vertices=[[0, 0, 2], [1, 0, 2], [0, 1, 2]], faces=[[0, 1, 2]])\n",
    "\n",
    "mesh1 += mesh2\n",
    "# mesh1.add_vertex( [[0, 0, 0], [0, 3, 0]])\n",
    "# add a face to the mesh1 with vertices (0, 0, 0), (1, 1, 1), and (1, 2, 1)\n",
    "# mesh1.add_face([[0, 0, 0], [0, 3, 0], [1, 1, 1]])\n",
    "mesh1.show()\n",
    "print(mesh1.faces)\n",
    "# mesh1.show()"
   ]
  },
  {
   "cell_type": "code",
   "execution_count": null,
   "metadata": {},
   "outputs": [],
   "source": []
  }
 ],
 "metadata": {
  "kernelspec": {
   "display_name": ".venv",
   "language": "python",
   "name": "python3"
  },
  "language_info": {
   "codemirror_mode": {
    "name": "ipython",
    "version": 3
   },
   "file_extension": ".py",
   "mimetype": "text/x-python",
   "name": "python",
   "nbconvert_exporter": "python",
   "pygments_lexer": "ipython3",
   "version": "3.12.7"
  }
 },
 "nbformat": 4,
 "nbformat_minor": 2
}
