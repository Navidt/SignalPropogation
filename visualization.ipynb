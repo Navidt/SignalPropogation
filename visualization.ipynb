{
 "cells": [
  {
   "cell_type": "code",
   "execution_count": 99,
   "metadata": {},
   "outputs": [],
   "source": [
    "import rosbag\n",
    "import numpy as np\n",
    "import sys\n",
    "import csi_utils.constants as constants\n",
    "import csi_utils.transform_utils as transform_utils\n",
    "import csi_utils.pipeline_utils as pipeline_utils\n",
    "import csi_utils.comp_utils as comp_utils\n",
    "import matplotlib.pyplot as plt\n",
    "import matplotlib.colors as mc\n",
    "from matplotlib.backends.backend_agg import FigureCanvasAgg as FigureCanvas\n",
    "from matplotlib.figure import Figure\n",
    "from matplotlib.cm import ScalarMappable\n",
    "import mne"
   ]
  },
  {
   "cell_type": "code",
   "execution_count": 100,
   "metadata": {},
   "outputs": [],
   "source": [
    "# Define variables to store your data\n",
    "comp = np.load(\"192.168.43.1-157.npy\")\n",
    "apply_nts = True\n",
    "idx = 0\n",
    "valid_tx_ant = [0,1,2,3]\n",
    "# mne.beamformer.rap_music()"
   ]
  },
  {
   "cell_type": "code",
   "execution_count": 101,
   "metadata": {},
   "outputs": [],
   "source": [
    "def draw_channel_image_4x4(channel_1, channel_2):\n",
    "    print(\"afad\")\n",
    "    num_tx_slots = channel_1.shape[2]\n",
    "    num_rx_slots = channel_1.shape[1]\n",
    "    tx_ant_labels = [f\"Tx Ant {i}\" for i in range(num_tx_slots)]\n",
    "    rx_ant_labels = [f\"Rx Ant {i}\" for i in range(num_rx_slots)]\n",
    "    fig, axs = plt.subplots(num_tx_slots*2, num_rx_slots, figsize=(24, 24),\n",
    "                            gridspec_kw={'height_ratios': [1, 0.7] * num_tx_slots})\n",
    "    # add tick for phase plot\n",
    "    y_tick_positions = [-np.pi, -np.pi/2, 0, np.pi/2, np.pi]\n",
    "    y_tick_labels = [r'$-\\pi$', r'$-\\frac{\\pi}{2}$', '0', r'$\\frac{\\pi}{2}$', r'$\\pi$']\n",
    "    amplitude_1 = (np.abs(channel_1))\n",
    "    amplitude_2 = (np.abs(channel_2))\n",
    "    min_amp = min(np.min(amplitude_1), np.min(amplitude_2))\n",
    "    max_amp = max(np.max(amplitude_1), np.max(amplitude_2))\n",
    "    phase_1 = np.unwrap(np.angle(channel_1))\n",
    "    phase_2 = np.unwrap(np.angle(channel_2))\n",
    "    min_phase = min(np.min(phase_1), np.min(phase_2))\n",
    "    max_phase = max(np.max(phase_1), np.max(phase_2))\n",
    "    print(min_phase, max_phase)\n",
    "    for i in range(0, num_tx_slots*2, 2):\n",
    "        for j in range(num_rx_slots):\n",
    "            if i == 0:\n",
    "                # Place Rx antenna labels at the top\n",
    "                axs[i, j].set_title(f\"Rx Ant {j}\", fontsize=16)\n",
    "            if j == 0:\n",
    "                # Place Tx antenna labels on the left \n",
    "                axs[i, j].text(-0.2, 0, f\"Tx Ant {i//2}\", va='center', ha='center',\n",
    "                               rotation='vertical', transform=axs[i, 0].transAxes, fontsize=16)\n",
    "            # plot magnitude\n",
    "            axs[i, j].set_xlabel(\"Subcarrier indices\")\n",
    "            axs[i, j].set_ylabel(\"Magnitude (dB)\")\n",
    "            axs[i, j].set_ylim(min_amp-10, max_amp+10)\n",
    "            # axs[i, j].plot(20*np.log10(np.abs(channel_1[:, j, i//2])),\n",
    "            #                label=\"LOS\")\n",
    "            axs[i, j].plot((np.abs(channel_1[:, j, i//2])),\n",
    "                           label=\"LOS\")\n",
    "            # axs[i, j].plot(20*np.log10(np.abs(channel_2[:, j, i//2])),\n",
    "                        #    label=\"NLOS\")\n",
    "            axs[i, j].legend()\n",
    "            # plot phase\n",
    "            axs[i+1, j].set_xlabel(\"Subcarrier indices\")\n",
    "            axs[i+1, j].set_ylabel(\"Phase (deg)\")\n",
    "            axs[i+1, j].set_ylim(min_phase, max_phase)\n",
    "            axs[i+1, j].set_yticks(y_tick_positions)\n",
    "            axs[i+1, j].set_yticklabels(y_tick_labels)\n",
    "            # don't wrap \n",
    "            # axs[i+1, j].plot(np.angle(channel_1[:, j, i//2]),\n",
    "            #                  label=\"LOS\")\n",
    "            # axs[i+1, j].plot(np.angle(channel_2[:, j, i//2]),\n",
    "            #                  label=\"NLOS\")\n",
    "            axs[i+1, j].plot(np.unwrap(np.angle(channel_1[:, j, i//2])),\n",
    "                             label=\"LOS\")\n",
    "            axs[i+1, j].plot(np.unwrap(np.angle(channel_2[:, j, i//2])),\n",
    "                             label=\"NLOS2\")\n",
    "            axs[i+1, j].legend() \n",
    "    fig.set_tight_layout(True)   \n",
    "    plt.savefig('40 157 los vs nlos.png')\n",
    "    plt.show()\n",
    "   \n",
    "\n",
    "def draw_amplitude_4x4(channel, figure_title=\"\"):\n",
    "    print(\"afad\")\n",
    "    num_tx_slots = channel.shape[2]\n",
    "    num_rx_slots = channel.shape[1]\n",
    "    fig, axs = plt.subplots(num_tx_slots, num_rx_slots, figsize=(24, 24),\n",
    "                            sharey=True, layout='constrained')\n",
    "    fig.suptitle(figure_title, fontsize=24)\n",
    "    # add tick for phase plot\n",
    "    amplitude = (np.abs(channel))\n",
    "    min_amp = np.min(amplitude)\n",
    "    max_amp = np.max(amplitude)\n",
    "    for i in range(num_tx_slots):\n",
    "        for j in range(num_rx_slots):\n",
    "            if i == 0:\n",
    "                # Place Rx antenna labels at the top\n",
    "                axs[i, j].set_title(f\"Rx Ant {j}\", fontsize=16)\n",
    "            if j == 0:\n",
    "                # Place Tx antenna labels on the left \n",
    "                axs[i, j].text(-0.2, 0.5, f\"Tx Ant {i}\", va='center', ha='center',\n",
    "                               rotation='vertical', transform=axs[i, 0].transAxes, fontsize=16)\n",
    "                \n",
    "            # plot magnitude\n",
    "            axs[i, j].set_xlabel(\"Subcarrier indices\")\n",
    "            axs[i, j].set_ylabel(\"Magnitude\")\n",
    "            axs[i, j].set_ylim(min_amp-10, max_amp+10)\n",
    "            axs[i, j].plot((np.abs(channel[:, j, i])),\n",
    "                           label=\"LOS\")\n",
    "            axs[i, j].legend()\n",
    "    fig.set_tight_layout(True)   \n",
    "    # plt.savefig('40 157 los vs nlos.png')\n",
    "    plt.show()"
   ]
  },
  {
   "cell_type": "code",
   "execution_count": 102,
   "metadata": {},
   "outputs": [],
   "source": [
    "def draw_amplitudes_4x4(bag, figure_title=\"\", average=False, fig=None, axs=None, show=True, min_a=None, max_a=None):\n",
    "    print(\"afad\")\n",
    "    num_tx_slots = 4\n",
    "    num_rx_slots = 4\n",
    "    tx_ant_labels = [f\"Tx Ant {i}\" for i in range(num_tx_slots)]\n",
    "    rx_ant_labels = [f\"Rx Ant {i}\" for i in range(num_rx_slots)]\n",
    "    if (fig is None):\n",
    "        fig, axs = plt.subplots(num_tx_slots, num_rx_slots, figsize=(24, 24),\n",
    "                            sharey=True, layout='constrained')\n",
    "        fig.suptitle(figure_title, fontsize=24)\n",
    "    # add tick for phase plot\n",
    "    y_tick_positions = [-np.pi, -np.pi/2, 0, np.pi/2, np.pi]\n",
    "    y_tick_labels = [r'$-\\pi$', r'$-\\frac{\\pi}{2}$', '0', r'$\\frac{\\pi}{2}$', r'$\\pi$']\n",
    "    # amplitude = (np.abs(channel))\n",
    "    min_amp = 1000\n",
    "    max_amp = -1000\n",
    "    # phase = np.unwrap(np.angle(channel))\n",
    "    # min_phase = np.min(phase)\n",
    "    # max_phase = np.max(phase)\n",
    "    \n",
    "    for i in range(num_tx_slots):\n",
    "        for j in range(num_rx_slots):\n",
    "                if i == 0:\n",
    "                    # Place Rx antenna labels at the top\n",
    "                    axs[i, j].set_title(f\"Rx Ant {j}\", fontsize=16)\n",
    "                if j == 0:\n",
    "                # Place Tx antenna labels on the left \n",
    "                    axs[i, j].text(-0.2, 0.5, f\"Tx Ant {i}\", va='center', ha='center',\n",
    "                rotation='vertical', transform=axs[i, 0].transAxes, fontsize=16)\n",
    "                k = 20\n",
    "                if not average:\n",
    "                    for data in bag:\n",
    "                        channel = pipeline_utils.extract_csi(data[1], None, False, valid_tx_ant)\n",
    "                        amplitude = (np.abs(channel))\n",
    "                        min_amp = min(np.min(amplitude), min_amp)\n",
    "                        max_amp = max(np.max(amplitude), max_amp)\n",
    "                        # axs[i, j].plot((np.abs(channel[:, j, i])), label=\"l\")\n",
    "                        axs[i, j].plot((amplitude[:, j, i]), label=\"l\")\n",
    "                        k += 1\n",
    "                        if k == 30:\n",
    "                            break\n",
    "                else:\n",
    "                    totalValues = None\n",
    "                    for data in bag:\n",
    "                        channel = pipeline_utils.extract_csi(data[1], None, False, valid_tx_ant)\n",
    "                        if totalValues is None:\n",
    "                            totalValues = channel\n",
    "                        else:\n",
    "                            totalValues += channel\n",
    "                        k += 1\n",
    "                        if k == 30:\n",
    "                            break\n",
    "                    amplitude = (np.abs(totalValues))\n",
    "                    min_amp = min(np.min(amplitude), min_amp)\n",
    "                    max_amp = max(np.max(amplitude), max_amp)\n",
    "                    # axs[i, j].plot((np.abs(channel[:, j, i])), label=\"l\")\n",
    "                    axs[i, j].plot((amplitude[:, j, i]), label=\"l\")\n",
    "                     \n",
    "\n",
    "                    \n",
    "                # plot magnitude\n",
    "                axs[i, j].set_xlabel(\"Subcarrier indices\")\n",
    "                axs[i, j].set_ylabel(\"Magnitude\")\n",
    "                if (min_a != None):\n",
    "                     min_amp = min_a\n",
    "                if (max_a != None):\n",
    "                     max_amp = max_a\n",
    "                mi, ma = axs[i, j].get_ylim()\n",
    "                axs[i, j].set_ylim(min(mi,min_amp-10), max(ma, max_amp+10))\n",
    "\n",
    "                # axs[i, j].legend()\n",
    "    fig.set_tight_layout(True)   \n",
    "    # plt.savefig('40 157 los vs nlos.png')\n",
    "    if show:\n",
    "        plt.show()"
   ]
  },
  {
   "cell_type": "code",
   "execution_count": 103,
   "metadata": {},
   "outputs": [],
   "source": [
    "def compare_amplitudes_4x4(bags, figure_title=\"\"):\n",
    "    fig, axs = plt.subplots(4, 4, figsize=(24, 24),\n",
    "                            sharey=True, layout='constrained')\n",
    "    fig.suptitle(figure_title, fontsize=24)\n",
    "    for bag in bags:\n",
    "        print(\"drawing bag\")\n",
    "        draw_amplitudes_4x4(bag, \"\", True, fig, axs, False)\n",
    "    for i in range(4):\n",
    "        for j in range(4):\n",
    "            axs[i, j].legend([f\"Location {k}\" for k in range(1, 6)])\n",
    "    plt.show()"
   ]
  },
  {
   "cell_type": "code",
   "execution_count": 104,
   "metadata": {},
   "outputs": [],
   "source": [
    "# headon = rosbag.Bag(\"../HeadOn.bag\")\n",
    "# ninetydeg = rosbag.Bag(\"../90deg2.bag\")\n",
    "# fortyfive = rosbag.Bag(\"../45deg.bag\")\n",
    "# nfortyfive = rosbag.Bag(\"../n45deg.bag\")\n",
    "import tqdm\n",
    "#smooth over last n packets according to algo\n",
    "smoothing_window = 1\n",
    "#aoa search space\n",
    "theta_space = np.linspace(-np.pi/2,np.pi/2,360)\n",
    "#tof search space\n",
    "tof_space = np.linspace(-40,40,240)\n",
    "\n",
    "#antenna position (interleaved x-y), see antennas.md\n",
    "rx_pos = np.asarray([0,  0,\n",
    "    0,  -0.06,\n",
    "    0,  -0.03,\n",
    "    0,  -0.09]).reshape((-1,2))\n",
    "channels = {}\n",
    "times = {}\n",
    "aoas = {}\n",
    "rssis = {}\n",
    "profs = {}\n",
    "aoa_sensors = {}\n"
   ]
  },
  {
   "cell_type": "code",
   "execution_count": 127,
   "metadata": {},
   "outputs": [],
   "source": [
    "def get_angle_profiles(bag, algorithm, subcarriers = range(0, 50)):\n",
    "  \"\"\"Returns a list of [(time, [angles], [profile])] for each packet\n",
    "\n",
    "  Arguments:\n",
    "  - bag: The bag with csi data to get the angle profiles from\n",
    "  - algorithm: The algorithm to use to get the angle likelihood (\"music\", \"aoa\", \"fft\")\n",
    "  - subcarriers: The subcarriers to use for the algorithm. Should be a subset of the integers from 0 to 49\n",
    "  \"\"\"\n",
    "  print(\"ALGORITHM:\", algorithm)\n",
    "  num = 0\n",
    "  data = []\n",
    "  aoa_sensor = None\n",
    "  if algorithm == \"music\":\n",
    "    aoa_sensor = transform_utils.music_aoa_sensor_1d(rx_pos, theta_space, smoothing_window)\n",
    "    aoa_sensor.prof_dim = 4\n",
    "  elif algorithm == \"aoa\":\n",
    "    aoa_sensor = transform_utils.aoa_sensor_1d(rx_pos, theta_space, smoothing_window)\n",
    "  elif algorithm == \"fft\":\n",
    "    aoa_sensor = transform_utils.fft_aoa_sensor(rx_pos, theta_space, smoothing_window)\n",
    "  elif algorithm == \"othermusic\":\n",
    "    tofs = np.linspace(-40, 40, 180)\n",
    "    aoa_sensor = transform_utils.full_music_aoa_sensor(rx_pos, theta_space, tofs, smoothing_window)\n",
    "  for topic, msg, t in tqdm.tqdm(bag.read_messages('/csi')):\n",
    "      csi = pipeline_utils.extract_csi(msg, comp)\n",
    "      if num == 1:\n",
    "        print(csi.shape)\n",
    "      #assuming this does not change\n",
    "      if algorithm == \"othermusic\":\n",
    "        res = aoa_sensor(csi, (msg.chan, msg.bw*1e6))\n",
    "        print(\"Channel:\", msg.chan, \" BW:\", msg.bw*1e6)\n",
    "      else:\n",
    "        res = aoa_sensor.run(csi,(msg.chan,msg.bw*1e6), subcarriers=subcarriers)\n",
    "      num += 1\n",
    "      data.append((t.to_sec(), theta_space * 180 / np.pi, res[1]))\n",
    "  print(\"Packets:\", num)\n",
    "  return data\n",
    "\n",
    "def plot_angle_profiles(data, title, savename=None):\n",
    "  \"\"\"Plots a list of [(time, [angles], [profile])]\"\"\"\n",
    "  fig, ax = plt.subplots()\n",
    "  plt.title(title)\n",
    "  plt.ylabel(\"Angle (degrees)\")\n",
    "  plt.xlabel(\"Time\")\n",
    "  for time, angles, profile in data:\n",
    "    ax.scatter([time] * len(angles), angles, c=profile, s=10)\n",
    "  if savename is not None:\n",
    "    plt.savefig(savename)\n",
    "  plt.show()"
   ]
  },
  {
   "cell_type": "code",
   "execution_count": 129,
   "metadata": {},
   "outputs": [
    {
     "name": "stdout",
     "output_type": "stream",
     "text": [
      "ALGORITHM: music\n"
     ]
    },
    {
     "name": "stderr",
     "output_type": "stream",
     "text": [
      "311it [00:00, 3307.70it/s]\n"
     ]
    },
    {
     "name": "stdout",
     "output_type": "stream",
     "text": [
      "(50, 4, 4)\n",
      "Packets: 311\n",
      "ALGORITHM: music\n"
     ]
    },
    {
     "name": "stderr",
     "output_type": "stream",
     "text": [
      "311it [00:00, 3188.86it/s]\n"
     ]
    },
    {
     "name": "stdout",
     "output_type": "stream",
     "text": [
      "(50, 4, 4)\n",
      "Packets: 311\n",
      "ALGORITHM: music\n"
     ]
    },
    {
     "name": "stderr",
     "output_type": "stream",
     "text": [
      "0it [00:00, ?it/s]"
     ]
    },
    {
     "name": "stdout",
     "output_type": "stream",
     "text": [
      "(50, 4, 4)\n"
     ]
    },
    {
     "name": "stderr",
     "output_type": "stream",
     "text": [
      "231it [00:00, 2922.68it/s]\n"
     ]
    },
    {
     "name": "stdout",
     "output_type": "stream",
     "text": [
      "Packets: 231\n",
      "ALGORITHM: aoa\n"
     ]
    },
    {
     "name": "stderr",
     "output_type": "stream",
     "text": [
      "0it [00:00, ?it/s]"
     ]
    },
    {
     "name": "stdout",
     "output_type": "stream",
     "text": [
      "(50, 4, 4)\n"
     ]
    },
    {
     "name": "stderr",
     "output_type": "stream",
     "text": [
      "231it [00:00, 2859.01it/s]\n"
     ]
    },
    {
     "name": "stdout",
     "output_type": "stream",
     "text": [
      "Packets: 231\n",
      "ALGORITHM: music\n"
     ]
    },
    {
     "name": "stderr",
     "output_type": "stream",
     "text": [
      "0it [00:00, ?it/s]"
     ]
    },
    {
     "name": "stdout",
     "output_type": "stream",
     "text": [
      "(50, 4, 4)\n"
     ]
    },
    {
     "name": "stderr",
     "output_type": "stream",
     "text": [
      "408it [00:00, 3128.84it/s]\n"
     ]
    },
    {
     "name": "stdout",
     "output_type": "stream",
     "text": [
      "Packets: 408\n",
      "ALGORITHM: aoa\n"
     ]
    },
    {
     "name": "stderr",
     "output_type": "stream",
     "text": [
      "0it [00:00, ?it/s]"
     ]
    },
    {
     "name": "stdout",
     "output_type": "stream",
     "text": [
      "(50, 4, 4)\n"
     ]
    },
    {
     "name": "stderr",
     "output_type": "stream",
     "text": [
      "408it [00:00, 3104.01it/s]\n"
     ]
    },
    {
     "name": "stdout",
     "output_type": "stream",
     "text": [
      "Packets: 408\n",
      "ALGORITHM: othermusic\n"
     ]
    },
    {
     "name": "stderr",
     "output_type": "stream",
     "text": [
      "0it [00:00, ?it/s]"
     ]
    },
    {
     "name": "stdout",
     "output_type": "stream",
     "text": [
      "Channel: 157  BW: 20000000.0\n",
      "(50, 4, 4)\n"
     ]
    },
    {
     "name": "stderr",
     "output_type": "stream",
     "text": [
      "2it [00:00, 15.08it/s]"
     ]
    },
    {
     "name": "stdout",
     "output_type": "stream",
     "text": [
      "Channel: 157  BW: 20000000.0\n",
      "Channel: 157  BW: 20000000.0\n"
     ]
    },
    {
     "name": "stderr",
     "output_type": "stream",
     "text": [
      "4it [00:00, 14.26it/s]"
     ]
    },
    {
     "name": "stdout",
     "output_type": "stream",
     "text": [
      "Channel: 157  BW: 20000000.0\n",
      "Channel: 157  BW: 20000000.0\n"
     ]
    },
    {
     "name": "stderr",
     "output_type": "stream",
     "text": [
      "6it [00:00, 14.61it/s]"
     ]
    },
    {
     "name": "stdout",
     "output_type": "stream",
     "text": [
      "Channel: 157  BW: 20000000.0\n",
      "Channel: 157  BW: 20000000.0\n"
     ]
    },
    {
     "name": "stderr",
     "output_type": "stream",
     "text": [
      "8it [00:00, 14.48it/s]"
     ]
    },
    {
     "name": "stdout",
     "output_type": "stream",
     "text": [
      "Channel: 157  BW: 20000000.0\n",
      "Channel: 157  BW: 20000000.0\n"
     ]
    },
    {
     "name": "stderr",
     "output_type": "stream",
     "text": [
      "10it [00:00, 13.61it/s]"
     ]
    },
    {
     "name": "stdout",
     "output_type": "stream",
     "text": [
      "Channel: 157  BW: 20000000.0\n",
      "Channel: 157  BW: 20000000.0\n"
     ]
    },
    {
     "name": "stderr",
     "output_type": "stream",
     "text": [
      "12it [00:00, 13.89it/s]"
     ]
    },
    {
     "name": "stdout",
     "output_type": "stream",
     "text": [
      "Channel: 157  BW: 20000000.0\n",
      "Channel: 157  BW: 20000000.0\n"
     ]
    },
    {
     "name": "stderr",
     "output_type": "stream",
     "text": [
      "14it [00:00, 14.14it/s]"
     ]
    },
    {
     "name": "stdout",
     "output_type": "stream",
     "text": [
      "Channel: 157  BW: 20000000.0\n",
      "Channel: 157  BW: 20000000.0\n",
      "Channel: 157  BW: 20000000.0\n"
     ]
    },
    {
     "name": "stderr",
     "output_type": "stream",
     "text": [
      "16it [00:01, 14.34it/s]"
     ]
    },
    {
     "name": "stdout",
     "output_type": "stream",
     "text": [
      "Channel: 157  BW: 20000000.0\n"
     ]
    },
    {
     "name": "stderr",
     "output_type": "stream",
     "text": [
      "20it [00:01, 14.55it/s]"
     ]
    },
    {
     "name": "stdout",
     "output_type": "stream",
     "text": [
      "Channel: 157  BW: 20000000.0\n",
      "Channel: 157  BW: 20000000.0\n",
      "Channel: 157  BW: 20000000.0\n",
      "Channel: 157  BW: 20000000.0\n"
     ]
    },
    {
     "name": "stderr",
     "output_type": "stream",
     "text": [
      "24it [00:01, 15.21it/s]"
     ]
    },
    {
     "name": "stdout",
     "output_type": "stream",
     "text": [
      "Channel: 157  BW: 20000000.0\n",
      "Channel: 157  BW: 20000000.0\n",
      "Channel: 157  BW: 20000000.0\n"
     ]
    },
    {
     "name": "stderr",
     "output_type": "stream",
     "text": [
      "28it [00:01, 15.20it/s]"
     ]
    },
    {
     "name": "stdout",
     "output_type": "stream",
     "text": [
      "Channel: 157  BW: 20000000.0\n",
      "Channel: 157  BW: 20000000.0\n",
      "Channel: 157  BW: 20000000.0\n",
      "Channel: 157  BW: 20000000.0\n"
     ]
    },
    {
     "name": "stderr",
     "output_type": "stream",
     "text": [
      "32it [00:02, 15.65it/s]"
     ]
    },
    {
     "name": "stdout",
     "output_type": "stream",
     "text": [
      "Channel: 157  BW: 20000000.0\n",
      "Channel: 157  BW: 20000000.0\n",
      "Channel: 157  BW: 20000000.0\n",
      "Channel: 157  BW: 20000000.0\n"
     ]
    },
    {
     "name": "stderr",
     "output_type": "stream",
     "text": [
      "36it [00:02, 15.81it/s]"
     ]
    },
    {
     "name": "stdout",
     "output_type": "stream",
     "text": [
      "Channel: 157  BW: 20000000.0\n",
      "Channel: 157  BW: 20000000.0\n",
      "Channel: 157  BW: 20000000.0\n",
      "Channel: 157  BW: 20000000.0\n"
     ]
    },
    {
     "name": "stderr",
     "output_type": "stream",
     "text": [
      "38it [00:02, 15.15it/s]"
     ]
    },
    {
     "name": "stdout",
     "output_type": "stream",
     "text": [
      "Channel: 157  BW: 20000000.0\n",
      "Channel: 157  BW: 20000000.0\n",
      "Channel: 157  BW: 20000000.0\n"
     ]
    },
    {
     "name": "stderr",
     "output_type": "stream",
     "text": [
      "42it [00:02, 15.52it/s]"
     ]
    },
    {
     "name": "stdout",
     "output_type": "stream",
     "text": [
      "Channel: 157  BW: 20000000.0\n",
      "Channel: 157  BW: 20000000.0\n",
      "Channel: 157  BW: 20000000.0\n",
      "Channel: 157  BW: 20000000.0\n"
     ]
    },
    {
     "name": "stderr",
     "output_type": "stream",
     "text": [
      "46it [00:03, 15.09it/s]"
     ]
    },
    {
     "name": "stdout",
     "output_type": "stream",
     "text": [
      "Channel: 157  BW: 20000000.0\n",
      "Channel: 157  BW: 20000000.0\n",
      "Channel: 157  BW: 20000000.0\n",
      "Channel: 157  BW: 20000000.0\n"
     ]
    },
    {
     "name": "stderr",
     "output_type": "stream",
     "text": [
      "50it [00:03, 15.69it/s]"
     ]
    },
    {
     "name": "stdout",
     "output_type": "stream",
     "text": [
      "Channel: 157  BW: 20000000.0\n",
      "Channel: 157  BW: 20000000.0\n",
      "Channel: 157  BW: 20000000.0\n",
      "Channel: 157  BW: 20000000.0\n"
     ]
    },
    {
     "name": "stderr",
     "output_type": "stream",
     "text": [
      "54it [00:03, 16.22it/s]"
     ]
    },
    {
     "name": "stdout",
     "output_type": "stream",
     "text": [
      "Channel: 157  BW: 20000000.0\n",
      "Channel: 157  BW: 20000000.0\n",
      "Channel: 157  BW: 20000000.0\n",
      "Channel: 157  BW: 20000000.0\n"
     ]
    },
    {
     "name": "stderr",
     "output_type": "stream",
     "text": [
      "58it [00:03, 15.14it/s]"
     ]
    },
    {
     "name": "stdout",
     "output_type": "stream",
     "text": [
      "Channel: 157  BW: 20000000.0\n",
      "Channel: 157  BW: 20000000.0\n",
      "Channel: 157  BW: 20000000.0\n"
     ]
    },
    {
     "name": "stderr",
     "output_type": "stream",
     "text": [
      "62it [00:04, 15.78it/s]"
     ]
    },
    {
     "name": "stdout",
     "output_type": "stream",
     "text": [
      "Channel: 157  BW: 20000000.0\n",
      "Channel: 157  BW: 20000000.0\n",
      "Channel: 157  BW: 20000000.0\n",
      "Channel: 157  BW: 20000000.0\n"
     ]
    },
    {
     "name": "stderr",
     "output_type": "stream",
     "text": [
      "66it [00:04, 16.02it/s]"
     ]
    },
    {
     "name": "stdout",
     "output_type": "stream",
     "text": [
      "Channel: 157  BW: 20000000.0\n",
      "Channel: 157  BW: 20000000.0\n",
      "Channel: 157  BW: 20000000.0\n",
      "Channel: 157  BW: 20000000.0\n"
     ]
    },
    {
     "name": "stderr",
     "output_type": "stream",
     "text": [
      "70it [00:04, 15.80it/s]"
     ]
    },
    {
     "name": "stdout",
     "output_type": "stream",
     "text": [
      "Channel: 157  BW: 20000000.0\n",
      "Channel: 157  BW: 20000000.0\n",
      "Channel: 157  BW: 20000000.0\n",
      "Channel: 157  BW: 20000000.0\n"
     ]
    },
    {
     "name": "stderr",
     "output_type": "stream",
     "text": [
      "74it [00:04, 15.39it/s]"
     ]
    },
    {
     "name": "stdout",
     "output_type": "stream",
     "text": [
      "Channel: 157  BW: 20000000.0\n",
      "Channel: 157  BW: 20000000.0\n",
      "Channel: 157  BW: 20000000.0\n",
      "Channel: 157  BW: 20000000.0\n"
     ]
    },
    {
     "name": "stderr",
     "output_type": "stream",
     "text": [
      "78it [00:05, 15.66it/s]"
     ]
    },
    {
     "name": "stdout",
     "output_type": "stream",
     "text": [
      "Channel: 157  BW: 20000000.0\n",
      "Channel: 157  BW: 20000000.0\n",
      "Channel: 157  BW: 20000000.0\n",
      "Channel: 157  BW: 20000000.0\n"
     ]
    },
    {
     "name": "stderr",
     "output_type": "stream",
     "text": [
      "82it [00:05, 15.53it/s]"
     ]
    },
    {
     "name": "stdout",
     "output_type": "stream",
     "text": [
      "Channel: 157  BW: 20000000.0\n",
      "Channel: 157  BW: 20000000.0\n",
      "Channel: 157  BW: 20000000.0\n",
      "Channel: 157  BW: 20000000.0\n"
     ]
    },
    {
     "name": "stderr",
     "output_type": "stream",
     "text": [
      "86it [00:05, 15.99it/s]"
     ]
    },
    {
     "name": "stdout",
     "output_type": "stream",
     "text": [
      "Channel: 157  BW: 20000000.0\n",
      "Channel: 157  BW: 20000000.0\n",
      "Channel: 157  BW: 20000000.0\n",
      "Channel: 157  BW: 20000000.0\n"
     ]
    },
    {
     "name": "stderr",
     "output_type": "stream",
     "text": [
      "90it [00:05, 16.95it/s]"
     ]
    },
    {
     "name": "stdout",
     "output_type": "stream",
     "text": [
      "Channel: 157  BW: 20000000.0\n",
      "Channel: 157  BW: 20000000.0\n",
      "Channel: 157  BW: 20000000.0\n",
      "Channel: 157  BW: 20000000.0\n"
     ]
    },
    {
     "name": "stderr",
     "output_type": "stream",
     "text": [
      "94it [00:06, 16.47it/s]"
     ]
    },
    {
     "name": "stdout",
     "output_type": "stream",
     "text": [
      "Channel: 157  BW: 20000000.0\n",
      "Channel: 157  BW: 20000000.0\n",
      "Channel: 157  BW: 20000000.0\n",
      "Channel: 157  BW: 20000000.0\n"
     ]
    },
    {
     "name": "stderr",
     "output_type": "stream",
     "text": [
      "98it [00:06, 16.99it/s]"
     ]
    },
    {
     "name": "stdout",
     "output_type": "stream",
     "text": [
      "Channel: 157  BW: 20000000.0\n",
      "Channel: 157  BW: 20000000.0\n",
      "Channel: 157  BW: 20000000.0\n",
      "Channel: 157  BW: 20000000.0\n"
     ]
    },
    {
     "name": "stderr",
     "output_type": "stream",
     "text": [
      "100it [00:06, 16.15it/s]"
     ]
    },
    {
     "name": "stdout",
     "output_type": "stream",
     "text": [
      "Channel: 157  BW: 20000000.0\n",
      "Channel: 157  BW: 20000000.0\n",
      "Channel: 157  BW: 20000000.0\n"
     ]
    },
    {
     "name": "stderr",
     "output_type": "stream",
     "text": [
      "104it [00:06, 16.21it/s]"
     ]
    },
    {
     "name": "stdout",
     "output_type": "stream",
     "text": [
      "Channel: 157  BW: 20000000.0\n",
      "Channel: 157  BW: 20000000.0\n",
      "Channel: 157  BW: 20000000.0\n",
      "Channel: 157  BW: 20000000.0\n"
     ]
    },
    {
     "name": "stderr",
     "output_type": "stream",
     "text": [
      "108it [00:06, 15.23it/s]"
     ]
    },
    {
     "name": "stdout",
     "output_type": "stream",
     "text": [
      "Channel: 157  BW: 20000000.0\n",
      "Channel: 157  BW: 20000000.0\n",
      "Channel: 157  BW: 20000000.0\n",
      "Channel: 157  BW: 20000000.0\n"
     ]
    },
    {
     "name": "stderr",
     "output_type": "stream",
     "text": [
      "112it [00:07, 16.16it/s]"
     ]
    },
    {
     "name": "stdout",
     "output_type": "stream",
     "text": [
      "Channel: 157  BW: 20000000.0\n",
      "Channel: 157  BW: 20000000.0\n",
      "Channel: 157  BW: 20000000.0\n",
      "Channel: 157  BW: 20000000.0\n"
     ]
    },
    {
     "name": "stderr",
     "output_type": "stream",
     "text": [
      "116it [00:07, 15.74it/s]"
     ]
    },
    {
     "name": "stdout",
     "output_type": "stream",
     "text": [
      "Channel: 157  BW: 20000000.0\n",
      "Channel: 157  BW: 20000000.0\n",
      "Channel: 157  BW: 20000000.0\n",
      "Channel: 157  BW: 20000000.0\n"
     ]
    },
    {
     "name": "stderr",
     "output_type": "stream",
     "text": [
      "120it [00:07, 15.99it/s]"
     ]
    },
    {
     "name": "stdout",
     "output_type": "stream",
     "text": [
      "Channel: 157  BW: 20000000.0\n",
      "Channel: 157  BW: 20000000.0\n",
      "Channel: 157  BW: 20000000.0\n",
      "Channel: 157  BW: 20000000.0\n"
     ]
    },
    {
     "name": "stderr",
     "output_type": "stream",
     "text": [
      "124it [00:07, 16.05it/s]"
     ]
    },
    {
     "name": "stdout",
     "output_type": "stream",
     "text": [
      "Channel: 157  BW: 20000000.0\n",
      "Channel: 157  BW: 20000000.0\n",
      "Channel: 157  BW: 20000000.0\n",
      "Channel: 157  BW: 20000000.0\n"
     ]
    },
    {
     "name": "stderr",
     "output_type": "stream",
     "text": [
      "128it [00:08, 14.59it/s]"
     ]
    },
    {
     "name": "stdout",
     "output_type": "stream",
     "text": [
      "Channel: 157  BW: 20000000.0\n",
      "Channel: 157  BW: 20000000.0\n",
      "Channel: 157  BW: 20000000.0\n"
     ]
    },
    {
     "name": "stderr",
     "output_type": "stream",
     "text": [
      "132it [00:08, 14.62it/s]"
     ]
    },
    {
     "name": "stdout",
     "output_type": "stream",
     "text": [
      "Channel: 157  BW: 20000000.0\n",
      "Channel: 157  BW: 20000000.0\n",
      "Channel: 157  BW: 20000000.0\n",
      "Channel: 157  BW: 20000000.0\n"
     ]
    },
    {
     "name": "stderr",
     "output_type": "stream",
     "text": [
      "136it [00:08, 15.36it/s]"
     ]
    },
    {
     "name": "stdout",
     "output_type": "stream",
     "text": [
      "Channel: 157  BW: 20000000.0\n",
      "Channel: 157  BW: 20000000.0\n",
      "Channel: 157  BW: 20000000.0\n",
      "Channel: 157  BW: 20000000.0\n"
     ]
    },
    {
     "name": "stderr",
     "output_type": "stream",
     "text": [
      "140it [00:09, 15.32it/s]"
     ]
    },
    {
     "name": "stdout",
     "output_type": "stream",
     "text": [
      "Channel: 157  BW: 20000000.0\n",
      "Channel: 157  BW: 20000000.0\n",
      "Channel: 157  BW: 20000000.0\n",
      "Channel: 157  BW: 20000000.0\n"
     ]
    },
    {
     "name": "stderr",
     "output_type": "stream",
     "text": [
      "144it [00:09, 15.52it/s]"
     ]
    },
    {
     "name": "stdout",
     "output_type": "stream",
     "text": [
      "Channel: 157  BW: 20000000.0\n",
      "Channel: 157  BW: 20000000.0\n",
      "Channel: 157  BW: 20000000.0\n",
      "Channel: 157  BW: 20000000.0\n"
     ]
    },
    {
     "name": "stderr",
     "output_type": "stream",
     "text": [
      "148it [00:09, 15.66it/s]"
     ]
    },
    {
     "name": "stdout",
     "output_type": "stream",
     "text": [
      "Channel: 157  BW: 20000000.0\n",
      "Channel: 157  BW: 20000000.0\n",
      "Channel: 157  BW: 20000000.0\n",
      "Channel: 157  BW: 20000000.0\n"
     ]
    },
    {
     "name": "stderr",
     "output_type": "stream",
     "text": [
      "150it [00:09, 15.51it/s]"
     ]
    },
    {
     "name": "stdout",
     "output_type": "stream",
     "text": [
      "Channel: 157  BW: 20000000.0\n",
      "Channel: 157  BW: 20000000.0\n",
      "Channel: 157  BW: 20000000.0\n"
     ]
    },
    {
     "name": "stderr",
     "output_type": "stream",
     "text": [
      "154it [00:09, 14.24it/s]"
     ]
    },
    {
     "name": "stdout",
     "output_type": "stream",
     "text": [
      "Channel: 157  BW: 20000000.0\n",
      "Channel: 157  BW: 20000000.0\n",
      "Channel: 157  BW: 20000000.0\n"
     ]
    },
    {
     "name": "stderr",
     "output_type": "stream",
     "text": [
      "158it [00:10, 14.59it/s]"
     ]
    },
    {
     "name": "stdout",
     "output_type": "stream",
     "text": [
      "Channel: 157  BW: 20000000.0\n",
      "Channel: 157  BW: 20000000.0\n",
      "Channel: 157  BW: 20000000.0\n",
      "Channel: 157  BW: 20000000.0\n"
     ]
    },
    {
     "name": "stderr",
     "output_type": "stream",
     "text": [
      "162it [00:10, 15.56it/s]"
     ]
    },
    {
     "name": "stdout",
     "output_type": "stream",
     "text": [
      "Channel: 157  BW: 20000000.0\n",
      "Channel: 157  BW: 20000000.0\n",
      "Channel: 157  BW: 20000000.0\n",
      "Channel: 157  BW: 20000000.0\n"
     ]
    },
    {
     "name": "stderr",
     "output_type": "stream",
     "text": [
      "166it [00:10, 15.55it/s]"
     ]
    },
    {
     "name": "stdout",
     "output_type": "stream",
     "text": [
      "Channel: 157  BW: 20000000.0\n",
      "Channel: 157  BW: 20000000.0\n",
      "Channel: 157  BW: 20000000.0\n",
      "Channel: 157  BW: 20000000.0\n"
     ]
    },
    {
     "name": "stderr",
     "output_type": "stream",
     "text": [
      "170it [00:11, 15.93it/s]"
     ]
    },
    {
     "name": "stdout",
     "output_type": "stream",
     "text": [
      "Channel: 157  BW: 20000000.0\n",
      "Channel: 157  BW: 20000000.0\n",
      "Channel: 157  BW: 20000000.0\n",
      "Channel: 157  BW: 20000000.0\n"
     ]
    },
    {
     "name": "stderr",
     "output_type": "stream",
     "text": [
      "172it [00:11, 15.53it/s]"
     ]
    },
    {
     "name": "stdout",
     "output_type": "stream",
     "text": [
      "Channel: 157  BW: 20000000.0\n",
      "Channel: 157  BW: 20000000.0\n",
      "Channel: 157  BW: 20000000.0\n"
     ]
    },
    {
     "name": "stderr",
     "output_type": "stream",
     "text": [
      "176it [00:11, 14.94it/s]"
     ]
    },
    {
     "name": "stdout",
     "output_type": "stream",
     "text": [
      "Channel: 157  BW: 20000000.0\n",
      "Channel: 157  BW: 20000000.0\n",
      "Channel: 157  BW: 20000000.0\n",
      "Channel: 157  BW: 20000000.0\n"
     ]
    },
    {
     "name": "stderr",
     "output_type": "stream",
     "text": [
      "180it [00:11, 13.90it/s]"
     ]
    },
    {
     "name": "stdout",
     "output_type": "stream",
     "text": [
      "Channel: 157  BW: 20000000.0\n",
      "Channel: 157  BW: 20000000.0\n",
      "Channel: 157  BW: 20000000.0\n"
     ]
    },
    {
     "name": "stderr",
     "output_type": "stream",
     "text": [
      "184it [00:11, 14.52it/s]"
     ]
    },
    {
     "name": "stdout",
     "output_type": "stream",
     "text": [
      "Channel: 157  BW: 20000000.0\n",
      "Channel: 157  BW: 20000000.0\n",
      "Channel: 157  BW: 20000000.0\n",
      "Channel: 157  BW: 20000000.0\n"
     ]
    },
    {
     "name": "stderr",
     "output_type": "stream",
     "text": [
      "188it [00:12, 15.12it/s]"
     ]
    },
    {
     "name": "stdout",
     "output_type": "stream",
     "text": [
      "Channel: 157  BW: 20000000.0\n",
      "Channel: 157  BW: 20000000.0\n",
      "Channel: 157  BW: 20000000.0\n",
      "Channel: 157  BW: 20000000.0\n"
     ]
    },
    {
     "name": "stderr",
     "output_type": "stream",
     "text": [
      "190it [00:12, 15.08it/s]"
     ]
    },
    {
     "name": "stdout",
     "output_type": "stream",
     "text": [
      "Channel: 157  BW: 20000000.0\n",
      "Channel: 157  BW: 20000000.0\n",
      "Channel: 157  BW: 20000000.0\n"
     ]
    },
    {
     "name": "stderr",
     "output_type": "stream",
     "text": [
      "194it [00:12, 14.94it/s]"
     ]
    },
    {
     "name": "stdout",
     "output_type": "stream",
     "text": [
      "Channel: 157  BW: 20000000.0\n",
      "Channel: 157  BW: 20000000.0\n",
      "Channel: 157  BW: 20000000.0\n",
      "Channel: 157  BW: 20000000.0\n"
     ]
    },
    {
     "name": "stderr",
     "output_type": "stream",
     "text": [
      "198it [00:12, 14.75it/s]"
     ]
    },
    {
     "name": "stdout",
     "output_type": "stream",
     "text": [
      "Channel: 157  BW: 20000000.0\n",
      "Channel: 157  BW: 20000000.0\n",
      "Channel: 157  BW: 20000000.0\n"
     ]
    },
    {
     "name": "stderr",
     "output_type": "stream",
     "text": [
      "202it [00:13, 14.84it/s]"
     ]
    },
    {
     "name": "stdout",
     "output_type": "stream",
     "text": [
      "Channel: 157  BW: 20000000.0\n",
      "Channel: 157  BW: 20000000.0\n",
      "Channel: 157  BW: 20000000.0\n",
      "Channel: 157  BW: 20000000.0\n"
     ]
    },
    {
     "name": "stderr",
     "output_type": "stream",
     "text": [
      "204it [00:13, 14.94it/s]"
     ]
    },
    {
     "name": "stdout",
     "output_type": "stream",
     "text": [
      "Channel: 157  BW: 20000000.0\n",
      "Channel: 157  BW: 20000000.0\n",
      "Channel: 157  BW: 20000000.0\n"
     ]
    },
    {
     "name": "stderr",
     "output_type": "stream",
     "text": [
      "208it [00:13, 15.17it/s]"
     ]
    },
    {
     "name": "stdout",
     "output_type": "stream",
     "text": [
      "Channel: 157  BW: 20000000.0\n",
      "Channel: 157  BW: 20000000.0\n",
      "Channel: 157  BW: 20000000.0\n",
      "Channel: 157  BW: 20000000.0\n"
     ]
    },
    {
     "name": "stderr",
     "output_type": "stream",
     "text": [
      "212it [00:13, 14.32it/s]"
     ]
    },
    {
     "name": "stdout",
     "output_type": "stream",
     "text": [
      "Channel: 157  BW: 20000000.0\n",
      "Channel: 157  BW: 20000000.0\n",
      "Channel: 157  BW: 20000000.0\n"
     ]
    },
    {
     "name": "stderr",
     "output_type": "stream",
     "text": [
      "214it [00:14, 14.58it/s]"
     ]
    },
    {
     "name": "stdout",
     "output_type": "stream",
     "text": [
      "Channel: 157  BW: 20000000.0\n",
      "Channel: 157  BW: 20000000.0\n",
      "Channel: 157  BW: 20000000.0\n"
     ]
    },
    {
     "name": "stderr",
     "output_type": "stream",
     "text": [
      "218it [00:14, 14.48it/s]"
     ]
    },
    {
     "name": "stdout",
     "output_type": "stream",
     "text": [
      "Channel: 157  BW: 20000000.0\n",
      "Channel: 157  BW: 20000000.0\n",
      "Channel: 157  BW: 20000000.0\n"
     ]
    },
    {
     "name": "stderr",
     "output_type": "stream",
     "text": [
      "220it [00:14, 14.47it/s]"
     ]
    },
    {
     "name": "stdout",
     "output_type": "stream",
     "text": [
      "Channel: 157  BW: 20000000.0\n",
      "Channel: 157  BW: 20000000.0\n",
      "Channel: 157  BW: 20000000.0\n"
     ]
    },
    {
     "name": "stderr",
     "output_type": "stream",
     "text": [
      "224it [00:14, 14.95it/s]"
     ]
    },
    {
     "name": "stdout",
     "output_type": "stream",
     "text": [
      "Channel: 157  BW: 20000000.0\n",
      "Channel: 157  BW: 20000000.0\n",
      "Channel: 157  BW: 20000000.0\n",
      "Channel: 157  BW: 20000000.0\n"
     ]
    },
    {
     "name": "stderr",
     "output_type": "stream",
     "text": [
      "228it [00:14, 14.51it/s]"
     ]
    },
    {
     "name": "stdout",
     "output_type": "stream",
     "text": [
      "Channel: 157  BW: 20000000.0\n",
      "Channel: 157  BW: 20000000.0\n",
      "Channel: 157  BW: 20000000.0\n"
     ]
    },
    {
     "name": "stderr",
     "output_type": "stream",
     "text": [
      "230it [00:15, 14.80it/s]"
     ]
    },
    {
     "name": "stdout",
     "output_type": "stream",
     "text": [
      "Channel: 157  BW: 20000000.0\n",
      "Channel: 157  BW: 20000000.0\n",
      "Channel: 157  BW: 20000000.0\n"
     ]
    },
    {
     "name": "stderr",
     "output_type": "stream",
     "text": [
      "234it [00:15, 14.79it/s]"
     ]
    },
    {
     "name": "stdout",
     "output_type": "stream",
     "text": [
      "Channel: 157  BW: 20000000.0\n",
      "Channel: 157  BW: 20000000.0\n",
      "Channel: 157  BW: 20000000.0\n"
     ]
    },
    {
     "name": "stderr",
     "output_type": "stream",
     "text": [
      "236it [00:15, 14.70it/s]"
     ]
    },
    {
     "name": "stdout",
     "output_type": "stream",
     "text": [
      "Channel: 157  BW: 20000000.0\n",
      "Channel: 157  BW: 20000000.0\n",
      "Channel: 157  BW: 20000000.0\n"
     ]
    },
    {
     "name": "stderr",
     "output_type": "stream",
     "text": [
      "240it [00:15, 13.70it/s]"
     ]
    },
    {
     "name": "stdout",
     "output_type": "stream",
     "text": [
      "Channel: 157  BW: 20000000.0\n",
      "Channel: 157  BW: 20000000.0\n",
      "Channel: 157  BW: 20000000.0\n",
      "Channel: 157  BW: 20000000.0\n"
     ]
    },
    {
     "name": "stderr",
     "output_type": "stream",
     "text": [
      "244it [00:16, 14.15it/s]"
     ]
    },
    {
     "name": "stdout",
     "output_type": "stream",
     "text": [
      "Channel: 157  BW: 20000000.0\n",
      "Channel: 157  BW: 20000000.0\n",
      "Channel: 157  BW: 20000000.0\n"
     ]
    },
    {
     "name": "stderr",
     "output_type": "stream",
     "text": [
      "248it [00:16, 14.47it/s]"
     ]
    },
    {
     "name": "stdout",
     "output_type": "stream",
     "text": [
      "Channel: 157  BW: 20000000.0\n",
      "Channel: 157  BW: 20000000.0\n",
      "Channel: 157  BW: 20000000.0\n",
      "Channel: 157  BW: 20000000.0\n"
     ]
    },
    {
     "name": "stderr",
     "output_type": "stream",
     "text": [
      "252it [00:16, 14.86it/s]"
     ]
    },
    {
     "name": "stdout",
     "output_type": "stream",
     "text": [
      "Channel: 157  BW: 20000000.0\n",
      "Channel: 157  BW: 20000000.0\n",
      "Channel: 157  BW: 20000000.0\n",
      "Channel: 157  BW: 20000000.0\n"
     ]
    },
    {
     "name": "stderr",
     "output_type": "stream",
     "text": [
      "256it [00:16, 15.15it/s]"
     ]
    },
    {
     "name": "stdout",
     "output_type": "stream",
     "text": [
      "Channel: 157  BW: 20000000.0\n",
      "Channel: 157  BW: 20000000.0\n",
      "Channel: 157  BW: 20000000.0\n",
      "Channel: 157  BW: 20000000.0\n"
     ]
    },
    {
     "name": "stderr",
     "output_type": "stream",
     "text": [
      "258it [00:17, 14.33it/s]"
     ]
    },
    {
     "name": "stdout",
     "output_type": "stream",
     "text": [
      "Channel: 157  BW: 20000000.0\n",
      "Channel: 157  BW: 20000000.0\n",
      "Channel: 157  BW: 20000000.0\n"
     ]
    },
    {
     "name": "stderr",
     "output_type": "stream",
     "text": [
      "262it [00:17, 15.29it/s]"
     ]
    },
    {
     "name": "stdout",
     "output_type": "stream",
     "text": [
      "Channel: 157  BW: 20000000.0\n",
      "Channel: 157  BW: 20000000.0\n",
      "Channel: 157  BW: 20000000.0\n",
      "Channel: 157  BW: 20000000.0\n"
     ]
    },
    {
     "name": "stderr",
     "output_type": "stream",
     "text": [
      "266it [00:17, 14.92it/s]"
     ]
    },
    {
     "name": "stdout",
     "output_type": "stream",
     "text": [
      "Channel: 157  BW: 20000000.0\n",
      "Channel: 157  BW: 20000000.0\n",
      "Channel: 157  BW: 20000000.0\n"
     ]
    },
    {
     "name": "stderr",
     "output_type": "stream",
     "text": [
      "268it [00:17, 15.27it/s]"
     ]
    },
    {
     "name": "stdout",
     "output_type": "stream",
     "text": [
      "Channel: 157  BW: 20000000.0\n",
      "Channel: 157  BW: 20000000.0\n",
      "Channel: 157  BW: 20000000.0\n"
     ]
    },
    {
     "name": "stderr",
     "output_type": "stream",
     "text": [
      "272it [00:17, 14.96it/s]"
     ]
    },
    {
     "name": "stdout",
     "output_type": "stream",
     "text": [
      "Channel: 157  BW: 20000000.0\n",
      "Channel: 157  BW: 20000000.0\n",
      "Channel: 157  BW: 20000000.0\n",
      "Channel: 157  BW: 20000000.0\n"
     ]
    },
    {
     "name": "stderr",
     "output_type": "stream",
     "text": [
      "276it [00:18, 15.19it/s]"
     ]
    },
    {
     "name": "stdout",
     "output_type": "stream",
     "text": [
      "Channel: 157  BW: 20000000.0\n",
      "Channel: 157  BW: 20000000.0\n",
      "Channel: 157  BW: 20000000.0\n",
      "Channel: 157  BW: 20000000.0\n"
     ]
    },
    {
     "name": "stderr",
     "output_type": "stream",
     "text": [
      "280it [00:18, 15.85it/s]"
     ]
    },
    {
     "name": "stdout",
     "output_type": "stream",
     "text": [
      "Channel: 157  BW: 20000000.0\n",
      "Channel: 157  BW: 20000000.0\n",
      "Channel: 157  BW: 20000000.0\n",
      "Channel: 157  BW: 20000000.0\n"
     ]
    },
    {
     "name": "stderr",
     "output_type": "stream",
     "text": [
      "284it [00:18, 15.12it/s]"
     ]
    },
    {
     "name": "stdout",
     "output_type": "stream",
     "text": [
      "Channel: 157  BW: 20000000.0\n",
      "Channel: 157  BW: 20000000.0\n",
      "Channel: 157  BW: 20000000.0\n"
     ]
    },
    {
     "name": "stderr",
     "output_type": "stream",
     "text": [
      "288it [00:19, 15.13it/s]"
     ]
    },
    {
     "name": "stdout",
     "output_type": "stream",
     "text": [
      "Channel: 157  BW: 20000000.0\n",
      "Channel: 157  BW: 20000000.0\n",
      "Channel: 157  BW: 20000000.0\n",
      "Channel: 157  BW: 20000000.0\n"
     ]
    },
    {
     "name": "stderr",
     "output_type": "stream",
     "text": [
      "292it [00:19, 14.89it/s]"
     ]
    },
    {
     "name": "stdout",
     "output_type": "stream",
     "text": [
      "Channel: 157  BW: 20000000.0\n",
      "Channel: 157  BW: 20000000.0\n",
      "Channel: 157  BW: 20000000.0\n",
      "Channel: 157  BW: 20000000.0\n"
     ]
    },
    {
     "name": "stderr",
     "output_type": "stream",
     "text": [
      "294it [00:19, 14.70it/s]"
     ]
    },
    {
     "name": "stdout",
     "output_type": "stream",
     "text": [
      "Channel: 157  BW: 20000000.0\n",
      "Channel: 157  BW: 20000000.0\n",
      "Channel: 157  BW: 20000000.0\n"
     ]
    },
    {
     "name": "stderr",
     "output_type": "stream",
     "text": [
      "298it [00:19, 14.56it/s]"
     ]
    },
    {
     "name": "stdout",
     "output_type": "stream",
     "text": [
      "Channel: 157  BW: 20000000.0\n",
      "Channel: 157  BW: 20000000.0\n",
      "Channel: 157  BW: 20000000.0\n"
     ]
    },
    {
     "name": "stderr",
     "output_type": "stream",
     "text": [
      "300it [00:19, 14.62it/s]"
     ]
    },
    {
     "name": "stdout",
     "output_type": "stream",
     "text": [
      "Channel: 157  BW: 20000000.0\n",
      "Channel: 157  BW: 20000000.0\n",
      "Channel: 157  BW: 20000000.0\n"
     ]
    },
    {
     "name": "stderr",
     "output_type": "stream",
     "text": [
      "304it [00:20, 14.82it/s]"
     ]
    },
    {
     "name": "stdout",
     "output_type": "stream",
     "text": [
      "Channel: 157  BW: 20000000.0\n",
      "Channel: 157  BW: 20000000.0\n",
      "Channel: 157  BW: 20000000.0\n",
      "Channel: 157  BW: 20000000.0\n"
     ]
    },
    {
     "name": "stderr",
     "output_type": "stream",
     "text": [
      "308it [00:20, 15.01it/s]"
     ]
    },
    {
     "name": "stdout",
     "output_type": "stream",
     "text": [
      "Channel: 157  BW: 20000000.0\n",
      "Channel: 157  BW: 20000000.0\n",
      "Channel: 157  BW: 20000000.0\n",
      "Channel: 157  BW: 20000000.0\n"
     ]
    },
    {
     "name": "stderr",
     "output_type": "stream",
     "text": [
      "312it [00:20, 15.11it/s]"
     ]
    },
    {
     "name": "stdout",
     "output_type": "stream",
     "text": [
      "Channel: 157  BW: 20000000.0\n",
      "Channel: 157  BW: 20000000.0\n",
      "Channel: 157  BW: 20000000.0\n",
      "Channel: 157  BW: 20000000.0\n"
     ]
    },
    {
     "name": "stderr",
     "output_type": "stream",
     "text": [
      "316it [00:20, 14.76it/s]"
     ]
    },
    {
     "name": "stdout",
     "output_type": "stream",
     "text": [
      "Channel: 157  BW: 20000000.0\n",
      "Channel: 157  BW: 20000000.0\n",
      "Channel: 157  BW: 20000000.0\n"
     ]
    },
    {
     "name": "stderr",
     "output_type": "stream",
     "text": [
      "318it [00:21, 14.67it/s]"
     ]
    },
    {
     "name": "stdout",
     "output_type": "stream",
     "text": [
      "Channel: 157  BW: 20000000.0\n",
      "Channel: 157  BW: 20000000.0\n",
      "Channel: 157  BW: 20000000.0\n"
     ]
    },
    {
     "name": "stderr",
     "output_type": "stream",
     "text": [
      "322it [00:21, 14.70it/s]"
     ]
    },
    {
     "name": "stdout",
     "output_type": "stream",
     "text": [
      "Channel: 157  BW: 20000000.0\n",
      "Channel: 157  BW: 20000000.0\n",
      "Channel: 157  BW: 20000000.0\n",
      "Channel: 157  BW: 20000000.0\n"
     ]
    },
    {
     "name": "stderr",
     "output_type": "stream",
     "text": [
      "326it [00:21, 14.63it/s]"
     ]
    },
    {
     "name": "stdout",
     "output_type": "stream",
     "text": [
      "Channel: 157  BW: 20000000.0\n",
      "Channel: 157  BW: 20000000.0\n",
      "Channel: 157  BW: 20000000.0\n"
     ]
    },
    {
     "name": "stderr",
     "output_type": "stream",
     "text": [
      "330it [00:21, 14.96it/s]"
     ]
    },
    {
     "name": "stdout",
     "output_type": "stream",
     "text": [
      "Channel: 157  BW: 20000000.0\n",
      "Channel: 157  BW: 20000000.0\n",
      "Channel: 157  BW: 20000000.0\n",
      "Channel: 157  BW: 20000000.0\n"
     ]
    },
    {
     "name": "stderr",
     "output_type": "stream",
     "text": [
      "334it [00:22, 15.06it/s]"
     ]
    },
    {
     "name": "stdout",
     "output_type": "stream",
     "text": [
      "Channel: 157  BW: 20000000.0\n",
      "Channel: 157  BW: 20000000.0\n",
      "Channel: 157  BW: 20000000.0\n",
      "Channel: 157  BW: 20000000.0\n"
     ]
    },
    {
     "name": "stderr",
     "output_type": "stream",
     "text": [
      "338it [00:22, 15.21it/s]"
     ]
    },
    {
     "name": "stdout",
     "output_type": "stream",
     "text": [
      "Channel: 157  BW: 20000000.0\n",
      "Channel: 157  BW: 20000000.0\n",
      "Channel: 157  BW: 20000000.0\n",
      "Channel: 157  BW: 20000000.0\n"
     ]
    },
    {
     "name": "stderr",
     "output_type": "stream",
     "text": [
      "340it [00:22, 14.94it/s]"
     ]
    },
    {
     "name": "stdout",
     "output_type": "stream",
     "text": [
      "Channel: 157  BW: 20000000.0\n",
      "Channel: 157  BW: 20000000.0\n",
      "Channel: 157  BW: 20000000.0\n"
     ]
    },
    {
     "name": "stderr",
     "output_type": "stream",
     "text": [
      "344it [00:22, 14.70it/s]"
     ]
    },
    {
     "name": "stdout",
     "output_type": "stream",
     "text": [
      "Channel: 157  BW: 20000000.0\n",
      "Channel: 157  BW: 20000000.0\n",
      "Channel: 157  BW: 20000000.0\n"
     ]
    },
    {
     "name": "stderr",
     "output_type": "stream",
     "text": [
      "346it [00:22, 14.76it/s]"
     ]
    },
    {
     "name": "stdout",
     "output_type": "stream",
     "text": [
      "Channel: 157  BW: 20000000.0\n",
      "Channel: 157  BW: 20000000.0\n",
      "Channel: 157  BW: 20000000.0\n"
     ]
    },
    {
     "name": "stderr",
     "output_type": "stream",
     "text": [
      "350it [00:23, 15.12it/s]"
     ]
    },
    {
     "name": "stdout",
     "output_type": "stream",
     "text": [
      "Channel: 157  BW: 20000000.0\n",
      "Channel: 157  BW: 20000000.0\n",
      "Channel: 157  BW: 20000000.0\n",
      "Channel: 157  BW: 20000000.0\n"
     ]
    },
    {
     "name": "stderr",
     "output_type": "stream",
     "text": [
      "354it [00:23, 15.59it/s]"
     ]
    },
    {
     "name": "stdout",
     "output_type": "stream",
     "text": [
      "Channel: 157  BW: 20000000.0\n",
      "Channel: 157  BW: 20000000.0\n",
      "Channel: 157  BW: 20000000.0\n",
      "Channel: 157  BW: 20000000.0\n"
     ]
    },
    {
     "name": "stderr",
     "output_type": "stream",
     "text": [
      "358it [00:23, 15.47it/s]"
     ]
    },
    {
     "name": "stdout",
     "output_type": "stream",
     "text": [
      "Channel: 157  BW: 20000000.0\n",
      "Channel: 157  BW: 20000000.0\n",
      "Channel: 157  BW: 20000000.0\n",
      "Channel: 157  BW: 20000000.0\n"
     ]
    },
    {
     "name": "stderr",
     "output_type": "stream",
     "text": [
      "362it [00:23, 15.48it/s]"
     ]
    },
    {
     "name": "stdout",
     "output_type": "stream",
     "text": [
      "Channel: 157  BW: 20000000.0\n",
      "Channel: 157  BW: 20000000.0\n",
      "Channel: 157  BW: 20000000.0\n",
      "Channel: 157  BW: 20000000.0\n"
     ]
    },
    {
     "name": "stderr",
     "output_type": "stream",
     "text": [
      "366it [00:24, 15.57it/s]"
     ]
    },
    {
     "name": "stdout",
     "output_type": "stream",
     "text": [
      "Channel: 157  BW: 20000000.0\n",
      "Channel: 157  BW: 20000000.0\n",
      "Channel: 157  BW: 20000000.0\n"
     ]
    },
    {
     "name": "stderr",
     "output_type": "stream",
     "text": [
      "368it [00:24, 14.56it/s]"
     ]
    },
    {
     "name": "stdout",
     "output_type": "stream",
     "text": [
      "Channel: 157  BW: 20000000.0\n",
      "Channel: 157  BW: 20000000.0\n",
      "Channel: 157  BW: 20000000.0\n"
     ]
    },
    {
     "name": "stderr",
     "output_type": "stream",
     "text": [
      "372it [00:24, 15.50it/s]"
     ]
    },
    {
     "name": "stdout",
     "output_type": "stream",
     "text": [
      "Channel: 157  BW: 20000000.0\n",
      "Channel: 157  BW: 20000000.0\n",
      "Channel: 157  BW: 20000000.0\n",
      "Channel: 157  BW: 20000000.0\n"
     ]
    },
    {
     "name": "stderr",
     "output_type": "stream",
     "text": [
      "376it [00:24, 15.03it/s]"
     ]
    },
    {
     "name": "stdout",
     "output_type": "stream",
     "text": [
      "Channel: 157  BW: 20000000.0\n",
      "Channel: 157  BW: 20000000.0\n",
      "Channel: 157  BW: 20000000.0\n",
      "Channel: 157  BW: 20000000.0\n"
     ]
    },
    {
     "name": "stderr",
     "output_type": "stream",
     "text": [
      "380it [00:25, 15.11it/s]"
     ]
    },
    {
     "name": "stdout",
     "output_type": "stream",
     "text": [
      "Channel: 157  BW: 20000000.0\n",
      "Channel: 157  BW: 20000000.0\n",
      "Channel: 157  BW: 20000000.0\n"
     ]
    },
    {
     "name": "stderr",
     "output_type": "stream",
     "text": [
      "382it [00:25, 14.53it/s]"
     ]
    },
    {
     "name": "stdout",
     "output_type": "stream",
     "text": [
      "Channel: 157  BW: 20000000.0\n",
      "Channel: 157  BW: 20000000.0\n",
      "Channel: 157  BW: 20000000.0\n"
     ]
    },
    {
     "name": "stderr",
     "output_type": "stream",
     "text": [
      "386it [00:25, 14.62it/s]"
     ]
    },
    {
     "name": "stdout",
     "output_type": "stream",
     "text": [
      "Channel: 157  BW: 20000000.0\n",
      "Channel: 157  BW: 20000000.0\n",
      "Channel: 157  BW: 20000000.0\n",
      "Channel: 157  BW: 20000000.0\n"
     ]
    },
    {
     "name": "stderr",
     "output_type": "stream",
     "text": [
      "390it [00:25, 14.49it/s]"
     ]
    },
    {
     "name": "stdout",
     "output_type": "stream",
     "text": [
      "Channel: 157  BW: 20000000.0\n",
      "Channel: 157  BW: 20000000.0\n",
      "Channel: 157  BW: 20000000.0\n"
     ]
    },
    {
     "name": "stderr",
     "output_type": "stream",
     "text": [
      "392it [00:26, 13.90it/s]"
     ]
    },
    {
     "name": "stdout",
     "output_type": "stream",
     "text": [
      "Channel: 157  BW: 20000000.0\n",
      "Channel: 157  BW: 20000000.0\n",
      "Channel: 157  BW: 20000000.0\n"
     ]
    },
    {
     "name": "stderr",
     "output_type": "stream",
     "text": [
      "396it [00:26, 14.45it/s]"
     ]
    },
    {
     "name": "stdout",
     "output_type": "stream",
     "text": [
      "Channel: 157  BW: 20000000.0\n",
      "Channel: 157  BW: 20000000.0\n",
      "Channel: 157  BW: 20000000.0\n"
     ]
    },
    {
     "name": "stderr",
     "output_type": "stream",
     "text": [
      "398it [00:26, 14.71it/s]"
     ]
    },
    {
     "name": "stdout",
     "output_type": "stream",
     "text": [
      "Channel: 157  BW: 20000000.0\n",
      "Channel: 157  BW: 20000000.0\n",
      "Channel: 157  BW: 20000000.0\n"
     ]
    },
    {
     "name": "stderr",
     "output_type": "stream",
     "text": [
      "402it [00:26, 14.38it/s]"
     ]
    },
    {
     "name": "stdout",
     "output_type": "stream",
     "text": [
      "Channel: 157  BW: 20000000.0\n",
      "Channel: 157  BW: 20000000.0\n",
      "Channel: 157  BW: 20000000.0\n",
      "Channel: 157  BW: 20000000.0\n"
     ]
    },
    {
     "name": "stderr",
     "output_type": "stream",
     "text": [
      "406it [00:26, 15.11it/s]"
     ]
    },
    {
     "name": "stdout",
     "output_type": "stream",
     "text": [
      "Channel: 157  BW: 20000000.0\n",
      "Channel: 157  BW: 20000000.0\n",
      "Channel: 157  BW: 20000000.0\n",
      "Channel: 157  BW: 20000000.0\n"
     ]
    },
    {
     "name": "stderr",
     "output_type": "stream",
     "text": [
      "408it [00:27, 15.06it/s]\n"
     ]
    },
    {
     "name": "stdout",
     "output_type": "stream",
     "text": [
      "Channel: 157  BW: 20000000.0\n",
      "Packets: 408\n",
      "ALGORITHM: music\n"
     ]
    },
    {
     "name": "stderr",
     "output_type": "stream",
     "text": [
      "416it [00:00, 3082.33it/s]\n"
     ]
    },
    {
     "name": "stdout",
     "output_type": "stream",
     "text": [
      "(50, 4, 4)\n",
      "Packets: 416\n",
      "ALGORITHM: aoa\n"
     ]
    },
    {
     "name": "stderr",
     "output_type": "stream",
     "text": [
      "0it [00:00, ?it/s]"
     ]
    },
    {
     "name": "stdout",
     "output_type": "stream",
     "text": [
      "(50, 4, 4)\n"
     ]
    },
    {
     "name": "stderr",
     "output_type": "stream",
     "text": [
      "416it [00:00, 2968.12it/s]\n"
     ]
    },
    {
     "name": "stdout",
     "output_type": "stream",
     "text": [
      "Packets: 416\n",
      "ALGORITHM: othermusic\n"
     ]
    },
    {
     "name": "stderr",
     "output_type": "stream",
     "text": [
      "0it [00:00, ?it/s]"
     ]
    },
    {
     "name": "stdout",
     "output_type": "stream",
     "text": [
      "Channel: 157  BW: 20000000.0\n",
      "(50, 4, 4)\n"
     ]
    },
    {
     "name": "stderr",
     "output_type": "stream",
     "text": [
      "2it [00:00, 16.51it/s]"
     ]
    },
    {
     "name": "stdout",
     "output_type": "stream",
     "text": [
      "Channel: 157  BW: 20000000.0\n",
      "Channel: 157  BW: 20000000.0\n"
     ]
    },
    {
     "name": "stderr",
     "output_type": "stream",
     "text": [
      "4it [00:00, 16.24it/s]"
     ]
    },
    {
     "name": "stdout",
     "output_type": "stream",
     "text": [
      "Channel: 157  BW: 20000000.0\n",
      "Channel: 157  BW: 20000000.0\n"
     ]
    },
    {
     "name": "stderr",
     "output_type": "stream",
     "text": [
      "6it [00:00, 16.61it/s]"
     ]
    },
    {
     "name": "stdout",
     "output_type": "stream",
     "text": [
      "Channel: 157  BW: 20000000.0\n",
      "Channel: 157  BW: 20000000.0\n"
     ]
    },
    {
     "name": "stderr",
     "output_type": "stream",
     "text": [
      "8it [00:00, 15.78it/s]"
     ]
    },
    {
     "name": "stdout",
     "output_type": "stream",
     "text": [
      "Channel: 157  BW: 20000000.0\n",
      "Channel: 157  BW: 20000000.0\n"
     ]
    },
    {
     "name": "stderr",
     "output_type": "stream",
     "text": [
      "10it [00:00, 16.03it/s]"
     ]
    },
    {
     "name": "stdout",
     "output_type": "stream",
     "text": [
      "Channel: 157  BW: 20000000.0\n",
      "Channel: 157  BW: 20000000.0\n"
     ]
    },
    {
     "name": "stderr",
     "output_type": "stream",
     "text": [
      "12it [00:00, 16.18it/s]"
     ]
    },
    {
     "name": "stdout",
     "output_type": "stream",
     "text": [
      "Channel: 157  BW: 20000000.0\n",
      "Channel: 157  BW: 20000000.0\n"
     ]
    },
    {
     "name": "stderr",
     "output_type": "stream",
     "text": [
      "14it [00:00, 16.63it/s]"
     ]
    },
    {
     "name": "stdout",
     "output_type": "stream",
     "text": [
      "Channel: 157  BW: 20000000.0\n",
      "Channel: 157  BW: 20000000.0\n"
     ]
    },
    {
     "name": "stderr",
     "output_type": "stream",
     "text": [
      "16it [00:00, 16.78it/s]"
     ]
    },
    {
     "name": "stdout",
     "output_type": "stream",
     "text": [
      "Channel: 157  BW: 20000000.0\n",
      "Channel: 157  BW: 20000000.0\n"
     ]
    },
    {
     "name": "stderr",
     "output_type": "stream",
     "text": [
      "18it [00:01, 16.79it/s]"
     ]
    },
    {
     "name": "stdout",
     "output_type": "stream",
     "text": [
      "Channel: 157  BW: 20000000.0\n",
      "Channel: 157  BW: 20000000.0\n"
     ]
    },
    {
     "name": "stderr",
     "output_type": "stream",
     "text": [
      "20it [00:01, 15.99it/s]"
     ]
    },
    {
     "name": "stdout",
     "output_type": "stream",
     "text": [
      "Channel: 157  BW: 20000000.0\n"
     ]
    },
    {
     "name": "stderr",
     "output_type": "stream",
     "text": [
      "22it [00:01, 16.03it/s]"
     ]
    },
    {
     "name": "stdout",
     "output_type": "stream",
     "text": [
      "Channel: 157  BW: 20000000.0\n",
      "Channel: 157  BW: 20000000.0\n",
      "Channel: 157  BW: 20000000.0\n"
     ]
    },
    {
     "name": "stderr",
     "output_type": "stream",
     "text": [
      "24it [00:01, 16.36it/s]"
     ]
    },
    {
     "name": "stdout",
     "output_type": "stream",
     "text": [
      "Channel: 157  BW: 20000000.0\n"
     ]
    },
    {
     "name": "stderr",
     "output_type": "stream",
     "text": [
      "26it [00:01, 16.46it/s]"
     ]
    },
    {
     "name": "stdout",
     "output_type": "stream",
     "text": [
      "Channel: 157  BW: 20000000.0\n",
      "Channel: 157  BW: 20000000.0\n",
      "Channel: 157  BW: 20000000.0\n"
     ]
    },
    {
     "name": "stderr",
     "output_type": "stream",
     "text": [
      "28it [00:01, 16.81it/s]"
     ]
    },
    {
     "name": "stdout",
     "output_type": "stream",
     "text": [
      "Channel: 157  BW: 20000000.0\n"
     ]
    },
    {
     "name": "stderr",
     "output_type": "stream",
     "text": [
      "30it [00:01, 15.84it/s]"
     ]
    },
    {
     "name": "stdout",
     "output_type": "stream",
     "text": [
      "Channel: 157  BW: 20000000.0\n",
      "Channel: 157  BW: 20000000.0\n",
      "Channel: 157  BW: 20000000.0\n",
      "Channel: 157  BW: 20000000.0\n"
     ]
    },
    {
     "name": "stderr",
     "output_type": "stream",
     "text": [
      "34it [00:02, 16.07it/s]"
     ]
    },
    {
     "name": "stdout",
     "output_type": "stream",
     "text": [
      "Channel: 157  BW: 20000000.0\n",
      "Channel: 157  BW: 20000000.0\n"
     ]
    },
    {
     "name": "stderr",
     "output_type": "stream",
     "text": [
      "36it [00:02, 16.42it/s]"
     ]
    },
    {
     "name": "stdout",
     "output_type": "stream",
     "text": [
      "Channel: 157  BW: 20000000.0\n",
      "Channel: 157  BW: 20000000.0\n"
     ]
    },
    {
     "name": "stderr",
     "output_type": "stream",
     "text": [
      "38it [00:02, 16.92it/s]"
     ]
    },
    {
     "name": "stdout",
     "output_type": "stream",
     "text": [
      "Channel: 157  BW: 20000000.0\n",
      "Channel: 157  BW: 20000000.0\n"
     ]
    },
    {
     "name": "stderr",
     "output_type": "stream",
     "text": [
      "40it [00:02, 16.56it/s]"
     ]
    },
    {
     "name": "stdout",
     "output_type": "stream",
     "text": [
      "Channel: 157  BW: 20000000.0\n",
      "Channel: 157  BW: 20000000.0\n"
     ]
    },
    {
     "name": "stderr",
     "output_type": "stream",
     "text": [
      "42it [00:02, 16.90it/s]"
     ]
    },
    {
     "name": "stdout",
     "output_type": "stream",
     "text": [
      "Channel: 157  BW: 20000000.0\n",
      "Channel: 157  BW: 20000000.0\n"
     ]
    },
    {
     "name": "stderr",
     "output_type": "stream",
     "text": [
      "44it [00:02, 16.55it/s]"
     ]
    },
    {
     "name": "stdout",
     "output_type": "stream",
     "text": [
      "Channel: 157  BW: 20000000.0\n",
      "Channel: 157  BW: 20000000.0\n"
     ]
    },
    {
     "name": "stderr",
     "output_type": "stream",
     "text": [
      "46it [00:02, 17.00it/s]"
     ]
    },
    {
     "name": "stdout",
     "output_type": "stream",
     "text": [
      "Channel: 157  BW: 20000000.0\n",
      "Channel: 157  BW: 20000000.0\n"
     ]
    },
    {
     "name": "stderr",
     "output_type": "stream",
     "text": [
      "48it [00:02, 16.20it/s]"
     ]
    },
    {
     "name": "stdout",
     "output_type": "stream",
     "text": [
      "Channel: 157  BW: 20000000.0\n",
      "Channel: 157  BW: 20000000.0\n"
     ]
    },
    {
     "name": "stderr",
     "output_type": "stream",
     "text": [
      "50it [00:03, 16.07it/s]"
     ]
    },
    {
     "name": "stdout",
     "output_type": "stream",
     "text": [
      "Channel: 157  BW: 20000000.0\n",
      "Channel: 157  BW: 20000000.0\n"
     ]
    },
    {
     "name": "stderr",
     "output_type": "stream",
     "text": [
      "52it [00:03, 15.96it/s]"
     ]
    },
    {
     "name": "stdout",
     "output_type": "stream",
     "text": [
      "Channel: 157  BW: 20000000.0\n",
      "Channel: 157  BW: 20000000.0\n"
     ]
    },
    {
     "name": "stderr",
     "output_type": "stream",
     "text": [
      "54it [00:03, 15.99it/s]"
     ]
    },
    {
     "name": "stdout",
     "output_type": "stream",
     "text": [
      "Channel: 157  BW: 20000000.0\n",
      "Channel: 157  BW: 20000000.0\n"
     ]
    },
    {
     "name": "stderr",
     "output_type": "stream",
     "text": [
      "56it [00:03, 15.77it/s]"
     ]
    },
    {
     "name": "stdout",
     "output_type": "stream",
     "text": [
      "Channel: 157  BW: 20000000.0\n",
      "Channel: 157  BW: 20000000.0\n"
     ]
    },
    {
     "name": "stderr",
     "output_type": "stream",
     "text": [
      "58it [00:03, 16.22it/s]"
     ]
    },
    {
     "name": "stdout",
     "output_type": "stream",
     "text": [
      "Channel: 157  BW: 20000000.0\n",
      "Channel: 157  BW: 20000000.0\n"
     ]
    },
    {
     "name": "stderr",
     "output_type": "stream",
     "text": [
      "60it [00:03, 15.84it/s]"
     ]
    },
    {
     "name": "stdout",
     "output_type": "stream",
     "text": [
      "Channel: 157  BW: 20000000.0\n",
      "Channel: 157  BW: 20000000.0\n"
     ]
    },
    {
     "name": "stderr",
     "output_type": "stream",
     "text": [
      "62it [00:03, 15.87it/s]"
     ]
    },
    {
     "name": "stdout",
     "output_type": "stream",
     "text": [
      "Channel: 157  BW: 20000000.0\n",
      "Channel: 157  BW: 20000000.0\n",
      "Channel: 157  BW: 20000000.0\n"
     ]
    },
    {
     "name": "stderr",
     "output_type": "stream",
     "text": [
      "66it [00:04, 15.98it/s]"
     ]
    },
    {
     "name": "stdout",
     "output_type": "stream",
     "text": [
      "Channel: 157  BW: 20000000.0\n",
      "Channel: 157  BW: 20000000.0\n",
      "Channel: 157  BW: 20000000.0\n",
      "Channel: 157  BW: 20000000.0\n"
     ]
    },
    {
     "name": "stderr",
     "output_type": "stream",
     "text": [
      "70it [00:04, 16.45it/s]"
     ]
    },
    {
     "name": "stdout",
     "output_type": "stream",
     "text": [
      "Channel: 157  BW: 20000000.0\n",
      "Channel: 157  BW: 20000000.0\n",
      "Channel: 157  BW: 20000000.0\n",
      "Channel: 157  BW: 20000000.0\n"
     ]
    },
    {
     "name": "stderr",
     "output_type": "stream",
     "text": [
      "74it [00:04, 16.17it/s]"
     ]
    },
    {
     "name": "stdout",
     "output_type": "stream",
     "text": [
      "Channel: 157  BW: 20000000.0\n",
      "Channel: 157  BW: 20000000.0\n",
      "Channel: 157  BW: 20000000.0\n",
      "Channel: 157  BW: 20000000.0\n"
     ]
    },
    {
     "name": "stderr",
     "output_type": "stream",
     "text": [
      "78it [00:04, 15.90it/s]"
     ]
    },
    {
     "name": "stdout",
     "output_type": "stream",
     "text": [
      "Channel: 157  BW: 20000000.0\n",
      "Channel: 157  BW: 20000000.0\n",
      "Channel: 157  BW: 20000000.0\n",
      "Channel: 157  BW: 20000000.0\n"
     ]
    },
    {
     "name": "stderr",
     "output_type": "stream",
     "text": [
      "82it [00:05, 15.92it/s]"
     ]
    },
    {
     "name": "stdout",
     "output_type": "stream",
     "text": [
      "Channel: 157  BW: 20000000.0\n",
      "Channel: 157  BW: 20000000.0\n",
      "Channel: 157  BW: 20000000.0\n",
      "Channel: 157  BW: 20000000.0\n"
     ]
    },
    {
     "name": "stderr",
     "output_type": "stream",
     "text": [
      "84it [00:05, 13.91it/s]"
     ]
    },
    {
     "name": "stdout",
     "output_type": "stream",
     "text": [
      "Channel: 157  BW: 20000000.0\n",
      "Channel: 157  BW: 20000000.0\n"
     ]
    },
    {
     "name": "stderr",
     "output_type": "stream",
     "text": [
      "86it [00:05, 14.30it/s]"
     ]
    },
    {
     "name": "stdout",
     "output_type": "stream",
     "text": [
      "Channel: 157  BW: 20000000.0\n"
     ]
    },
    {
     "name": "stderr",
     "output_type": "stream",
     "text": [
      "88it [00:05, 14.22it/s]"
     ]
    },
    {
     "name": "stdout",
     "output_type": "stream",
     "text": [
      "Channel: 157  BW: 20000000.0\n",
      "Channel: 157  BW: 20000000.0\n",
      "Channel: 157  BW: 20000000.0\n"
     ]
    },
    {
     "name": "stderr",
     "output_type": "stream",
     "text": [
      "90it [00:05, 13.94it/s]"
     ]
    },
    {
     "name": "stdout",
     "output_type": "stream",
     "text": [
      "Channel: 157  BW: 20000000.0\n",
      "Channel: 157  BW: 20000000.0\n"
     ]
    },
    {
     "name": "stderr",
     "output_type": "stream",
     "text": [
      "92it [00:05, 13.68it/s]"
     ]
    },
    {
     "name": "stdout",
     "output_type": "stream",
     "text": [
      "Channel: 157  BW: 20000000.0\n"
     ]
    },
    {
     "name": "stderr",
     "output_type": "stream",
     "text": [
      "94it [00:05, 13.97it/s]"
     ]
    },
    {
     "name": "stdout",
     "output_type": "stream",
     "text": [
      "Channel: 157  BW: 20000000.0\n",
      "Channel: 157  BW: 20000000.0\n",
      "Channel: 157  BW: 20000000.0\n"
     ]
    },
    {
     "name": "stderr",
     "output_type": "stream",
     "text": [
      "96it [00:06, 14.23it/s]"
     ]
    },
    {
     "name": "stdout",
     "output_type": "stream",
     "text": [
      "Channel: 157  BW: 20000000.0\n"
     ]
    },
    {
     "name": "stderr",
     "output_type": "stream",
     "text": [
      "98it [00:06, 14.73it/s]"
     ]
    },
    {
     "name": "stdout",
     "output_type": "stream",
     "text": [
      "Channel: 157  BW: 20000000.0\n",
      "Channel: 157  BW: 20000000.0\n",
      "Channel: 157  BW: 20000000.0\n"
     ]
    },
    {
     "name": "stderr",
     "output_type": "stream",
     "text": [
      "102it [00:06, 15.06it/s]"
     ]
    },
    {
     "name": "stdout",
     "output_type": "stream",
     "text": [
      "Channel: 157  BW: 20000000.0\n",
      "Channel: 157  BW: 20000000.0\n",
      "Channel: 157  BW: 20000000.0\n",
      "Channel: 157  BW: 20000000.0\n"
     ]
    },
    {
     "name": "stderr",
     "output_type": "stream",
     "text": [
      "106it [00:06, 14.94it/s]"
     ]
    },
    {
     "name": "stdout",
     "output_type": "stream",
     "text": [
      "Channel: 157  BW: 20000000.0\n",
      "Channel: 157  BW: 20000000.0\n",
      "Channel: 157  BW: 20000000.0\n"
     ]
    },
    {
     "name": "stderr",
     "output_type": "stream",
     "text": [
      "110it [00:07, 15.02it/s]"
     ]
    },
    {
     "name": "stdout",
     "output_type": "stream",
     "text": [
      "Channel: 157  BW: 20000000.0\n",
      "Channel: 157  BW: 20000000.0\n",
      "Channel: 157  BW: 20000000.0\n",
      "Channel: 157  BW: 20000000.0\n"
     ]
    },
    {
     "name": "stderr",
     "output_type": "stream",
     "text": [
      "112it [00:07, 15.44it/s]"
     ]
    },
    {
     "name": "stdout",
     "output_type": "stream",
     "text": [
      "Channel: 157  BW: 20000000.0\n",
      "Channel: 157  BW: 20000000.0\n",
      "Channel: 157  BW: 20000000.0\n"
     ]
    },
    {
     "name": "stderr",
     "output_type": "stream",
     "text": [
      "116it [00:07, 15.37it/s]"
     ]
    },
    {
     "name": "stdout",
     "output_type": "stream",
     "text": [
      "Channel: 157  BW: 20000000.0\n",
      "Channel: 157  BW: 20000000.0\n",
      "Channel: 157  BW: 20000000.0\n",
      "Channel: 157  BW: 20000000.0\n"
     ]
    },
    {
     "name": "stderr",
     "output_type": "stream",
     "text": [
      "120it [00:07, 15.37it/s]"
     ]
    },
    {
     "name": "stdout",
     "output_type": "stream",
     "text": [
      "Channel: 157  BW: 20000000.0\n",
      "Channel: 157  BW: 20000000.0\n",
      "Channel: 157  BW: 20000000.0\n",
      "Channel: 157  BW: 20000000.0\n"
     ]
    },
    {
     "name": "stderr",
     "output_type": "stream",
     "text": [
      "124it [00:07, 15.07it/s]"
     ]
    },
    {
     "name": "stdout",
     "output_type": "stream",
     "text": [
      "Channel: 157  BW: 20000000.0\n",
      "Channel: 157  BW: 20000000.0\n",
      "Channel: 157  BW: 20000000.0\n"
     ]
    },
    {
     "name": "stderr",
     "output_type": "stream",
     "text": [
      "126it [00:08, 14.68it/s]"
     ]
    },
    {
     "name": "stdout",
     "output_type": "stream",
     "text": [
      "Channel: 157  BW: 20000000.0\n",
      "Channel: 157  BW: 20000000.0\n",
      "Channel: 157  BW: 20000000.0\n"
     ]
    },
    {
     "name": "stderr",
     "output_type": "stream",
     "text": [
      "130it [00:08, 14.64it/s]"
     ]
    },
    {
     "name": "stdout",
     "output_type": "stream",
     "text": [
      "Channel: 157  BW: 20000000.0\n",
      "Channel: 157  BW: 20000000.0\n",
      "Channel: 157  BW: 20000000.0\n"
     ]
    },
    {
     "name": "stderr",
     "output_type": "stream",
     "text": [
      "132it [00:08, 14.22it/s]"
     ]
    },
    {
     "name": "stdout",
     "output_type": "stream",
     "text": [
      "Channel: 157  BW: 20000000.0\n",
      "Channel: 157  BW: 20000000.0\n",
      "Channel: 157  BW: 20000000.0\n"
     ]
    },
    {
     "name": "stderr",
     "output_type": "stream",
     "text": [
      "136it [00:08, 14.06it/s]"
     ]
    },
    {
     "name": "stdout",
     "output_type": "stream",
     "text": [
      "Channel: 157  BW: 20000000.0\n",
      "Channel: 157  BW: 20000000.0\n",
      "Channel: 157  BW: 20000000.0\n"
     ]
    },
    {
     "name": "stderr",
     "output_type": "stream",
     "text": [
      "140it [00:09, 15.13it/s]"
     ]
    },
    {
     "name": "stdout",
     "output_type": "stream",
     "text": [
      "Channel: 157  BW: 20000000.0\n",
      "Channel: 157  BW: 20000000.0\n",
      "Channel: 157  BW: 20000000.0\n",
      "Channel: 157  BW: 20000000.0\n"
     ]
    },
    {
     "name": "stderr",
     "output_type": "stream",
     "text": [
      "144it [00:09, 15.21it/s]"
     ]
    },
    {
     "name": "stdout",
     "output_type": "stream",
     "text": [
      "Channel: 157  BW: 20000000.0\n",
      "Channel: 157  BW: 20000000.0\n",
      "Channel: 157  BW: 20000000.0\n",
      "Channel: 157  BW: 20000000.0\n"
     ]
    },
    {
     "name": "stderr",
     "output_type": "stream",
     "text": [
      "148it [00:09, 15.62it/s]"
     ]
    },
    {
     "name": "stdout",
     "output_type": "stream",
     "text": [
      "Channel: 157  BW: 20000000.0\n",
      "Channel: 157  BW: 20000000.0\n",
      "Channel: 157  BW: 20000000.0\n",
      "Channel: 157  BW: 20000000.0\n"
     ]
    },
    {
     "name": "stderr",
     "output_type": "stream",
     "text": [
      "152it [00:09, 15.81it/s]"
     ]
    },
    {
     "name": "stdout",
     "output_type": "stream",
     "text": [
      "Channel: 157  BW: 20000000.0\n",
      "Channel: 157  BW: 20000000.0\n",
      "Channel: 157  BW: 20000000.0\n",
      "Channel: 157  BW: 20000000.0\n"
     ]
    },
    {
     "name": "stderr",
     "output_type": "stream",
     "text": [
      "156it [00:10, 15.61it/s]"
     ]
    },
    {
     "name": "stdout",
     "output_type": "stream",
     "text": [
      "Channel: 157  BW: 20000000.0\n",
      "Channel: 157  BW: 20000000.0\n",
      "Channel: 157  BW: 20000000.0\n",
      "Channel: 157  BW: 20000000.0\n"
     ]
    },
    {
     "name": "stderr",
     "output_type": "stream",
     "text": [
      "160it [00:10, 15.58it/s]"
     ]
    },
    {
     "name": "stdout",
     "output_type": "stream",
     "text": [
      "Channel: 157  BW: 20000000.0\n",
      "Channel: 157  BW: 20000000.0\n",
      "Channel: 157  BW: 20000000.0\n",
      "Channel: 157  BW: 20000000.0\n"
     ]
    },
    {
     "name": "stderr",
     "output_type": "stream",
     "text": [
      "164it [00:10, 15.44it/s]"
     ]
    },
    {
     "name": "stdout",
     "output_type": "stream",
     "text": [
      "Channel: 157  BW: 20000000.0\n",
      "Channel: 157  BW: 20000000.0\n",
      "Channel: 157  BW: 20000000.0\n",
      "Channel: 157  BW: 20000000.0\n"
     ]
    },
    {
     "name": "stderr",
     "output_type": "stream",
     "text": [
      "168it [00:10, 14.96it/s]"
     ]
    },
    {
     "name": "stdout",
     "output_type": "stream",
     "text": [
      "Channel: 157  BW: 20000000.0\n",
      "Channel: 157  BW: 20000000.0\n",
      "Channel: 157  BW: 20000000.0\n",
      "Channel: 157  BW: 20000000.0\n"
     ]
    },
    {
     "name": "stderr",
     "output_type": "stream",
     "text": [
      "172it [00:11, 14.87it/s]"
     ]
    },
    {
     "name": "stdout",
     "output_type": "stream",
     "text": [
      "Channel: 157  BW: 20000000.0\n",
      "Channel: 157  BW: 20000000.0\n",
      "Channel: 157  BW: 20000000.0\n",
      "Channel: 157  BW: 20000000.0\n"
     ]
    },
    {
     "name": "stderr",
     "output_type": "stream",
     "text": [
      "174it [00:11, 14.35it/s]"
     ]
    },
    {
     "name": "stdout",
     "output_type": "stream",
     "text": [
      "Channel: 157  BW: 20000000.0\n",
      "Channel: 157  BW: 20000000.0\n",
      "Channel: 157  BW: 20000000.0\n"
     ]
    },
    {
     "name": "stderr",
     "output_type": "stream",
     "text": [
      "178it [00:11, 14.47it/s]"
     ]
    },
    {
     "name": "stdout",
     "output_type": "stream",
     "text": [
      "Channel: 157  BW: 20000000.0\n",
      "Channel: 157  BW: 20000000.0\n",
      "Channel: 157  BW: 20000000.0\n"
     ]
    },
    {
     "name": "stderr",
     "output_type": "stream",
     "text": [
      "182it [00:11, 15.72it/s]"
     ]
    },
    {
     "name": "stdout",
     "output_type": "stream",
     "text": [
      "Channel: 157  BW: 20000000.0\n",
      "Channel: 157  BW: 20000000.0\n",
      "Channel: 157  BW: 20000000.0\n",
      "Channel: 157  BW: 20000000.0\n"
     ]
    },
    {
     "name": "stderr",
     "output_type": "stream",
     "text": [
      "186it [00:12, 15.64it/s]"
     ]
    },
    {
     "name": "stdout",
     "output_type": "stream",
     "text": [
      "Channel: 157  BW: 20000000.0\n",
      "Channel: 157  BW: 20000000.0\n",
      "Channel: 157  BW: 20000000.0\n",
      "Channel: 157  BW: 20000000.0\n"
     ]
    },
    {
     "name": "stderr",
     "output_type": "stream",
     "text": [
      "188it [00:12, 15.84it/s]"
     ]
    },
    {
     "name": "stdout",
     "output_type": "stream",
     "text": [
      "Channel: 157  BW: 20000000.0\n",
      "Channel: 157  BW: 20000000.0\n",
      "Channel: 157  BW: 20000000.0\n"
     ]
    },
    {
     "name": "stderr",
     "output_type": "stream",
     "text": [
      "192it [00:12, 14.31it/s]"
     ]
    },
    {
     "name": "stdout",
     "output_type": "stream",
     "text": [
      "Channel: 157  BW: 20000000.0\n",
      "Channel: 157  BW: 20000000.0\n",
      "Channel: 157  BW: 20000000.0\n"
     ]
    },
    {
     "name": "stderr",
     "output_type": "stream",
     "text": [
      "194it [00:12, 14.22it/s]"
     ]
    },
    {
     "name": "stdout",
     "output_type": "stream",
     "text": [
      "Channel: 157  BW: 20000000.0\n",
      "Channel: 157  BW: 20000000.0\n",
      "Channel: 157  BW: 20000000.0\n"
     ]
    },
    {
     "name": "stderr",
     "output_type": "stream",
     "text": [
      "198it [00:12, 14.46it/s]"
     ]
    },
    {
     "name": "stdout",
     "output_type": "stream",
     "text": [
      "Channel: 157  BW: 20000000.0\n",
      "Channel: 157  BW: 20000000.0\n",
      "Channel: 157  BW: 20000000.0\n"
     ]
    },
    {
     "name": "stderr",
     "output_type": "stream",
     "text": [
      "200it [00:13, 14.35it/s]"
     ]
    },
    {
     "name": "stdout",
     "output_type": "stream",
     "text": [
      "Channel: 157  BW: 20000000.0\n",
      "Channel: 157  BW: 20000000.0\n",
      "Channel: 157  BW: 20000000.0\n"
     ]
    },
    {
     "name": "stderr",
     "output_type": "stream",
     "text": [
      "204it [00:13, 14.98it/s]"
     ]
    },
    {
     "name": "stdout",
     "output_type": "stream",
     "text": [
      "Channel: 157  BW: 20000000.0\n",
      "Channel: 157  BW: 20000000.0\n",
      "Channel: 157  BW: 20000000.0\n",
      "Channel: 157  BW: 20000000.0\n"
     ]
    },
    {
     "name": "stderr",
     "output_type": "stream",
     "text": [
      "208it [00:13, 14.77it/s]"
     ]
    },
    {
     "name": "stdout",
     "output_type": "stream",
     "text": [
      "Channel: 157  BW: 20000000.0\n",
      "Channel: 157  BW: 20000000.0\n",
      "Channel: 157  BW: 20000000.0\n",
      "Channel: 157  BW: 20000000.0\n"
     ]
    },
    {
     "name": "stderr",
     "output_type": "stream",
     "text": [
      "212it [00:13, 14.19it/s]"
     ]
    },
    {
     "name": "stdout",
     "output_type": "stream",
     "text": [
      "Channel: 157  BW: 20000000.0\n",
      "Channel: 157  BW: 20000000.0\n",
      "Channel: 157  BW: 20000000.0\n"
     ]
    },
    {
     "name": "stderr",
     "output_type": "stream",
     "text": [
      "214it [00:14, 13.81it/s]"
     ]
    },
    {
     "name": "stdout",
     "output_type": "stream",
     "text": [
      "Channel: 157  BW: 20000000.0\n",
      "Channel: 157  BW: 20000000.0\n",
      "Channel: 157  BW: 20000000.0\n"
     ]
    },
    {
     "name": "stderr",
     "output_type": "stream",
     "text": [
      "218it [00:14, 14.80it/s]"
     ]
    },
    {
     "name": "stdout",
     "output_type": "stream",
     "text": [
      "Channel: 157  BW: 20000000.0\n",
      "Channel: 157  BW: 20000000.0\n",
      "Channel: 157  BW: 20000000.0\n",
      "Channel: 157  BW: 20000000.0\n"
     ]
    },
    {
     "name": "stderr",
     "output_type": "stream",
     "text": [
      "222it [00:14, 14.22it/s]"
     ]
    },
    {
     "name": "stdout",
     "output_type": "stream",
     "text": [
      "Channel: 157  BW: 20000000.0\n",
      "Channel: 157  BW: 20000000.0\n",
      "Channel: 157  BW: 20000000.0\n"
     ]
    },
    {
     "name": "stderr",
     "output_type": "stream",
     "text": [
      "224it [00:14, 14.57it/s]"
     ]
    },
    {
     "name": "stdout",
     "output_type": "stream",
     "text": [
      "Channel: 157  BW: 20000000.0\n",
      "Channel: 157  BW: 20000000.0\n",
      "Channel: 157  BW: 20000000.0\n"
     ]
    },
    {
     "name": "stderr",
     "output_type": "stream",
     "text": [
      "228it [00:14, 14.52it/s]"
     ]
    },
    {
     "name": "stdout",
     "output_type": "stream",
     "text": [
      "Channel: 157  BW: 20000000.0\n",
      "Channel: 157  BW: 20000000.0\n",
      "Channel: 157  BW: 20000000.0\n",
      "Channel: 157  BW: 20000000.0\n"
     ]
    },
    {
     "name": "stderr",
     "output_type": "stream",
     "text": [
      "232it [00:15, 13.71it/s]"
     ]
    },
    {
     "name": "stdout",
     "output_type": "stream",
     "text": [
      "Channel: 157  BW: 20000000.0\n",
      "Channel: 157  BW: 20000000.0\n",
      "Channel: 157  BW: 20000000.0\n"
     ]
    },
    {
     "name": "stderr",
     "output_type": "stream",
     "text": [
      "234it [00:15, 13.83it/s]"
     ]
    },
    {
     "name": "stdout",
     "output_type": "stream",
     "text": [
      "Channel: 157  BW: 20000000.0\n",
      "Channel: 157  BW: 20000000.0\n",
      "Channel: 157  BW: 20000000.0\n"
     ]
    },
    {
     "name": "stderr",
     "output_type": "stream",
     "text": [
      "238it [00:15, 13.21it/s]"
     ]
    },
    {
     "name": "stdout",
     "output_type": "stream",
     "text": [
      "Channel: 157  BW: 20000000.0\n",
      "Channel: 157  BW: 20000000.0\n",
      "Channel: 157  BW: 20000000.0\n"
     ]
    },
    {
     "name": "stderr",
     "output_type": "stream",
     "text": [
      "240it [00:15, 12.93it/s]"
     ]
    },
    {
     "name": "stdout",
     "output_type": "stream",
     "text": [
      "Channel: 157  BW: 20000000.0\n",
      "Channel: 157  BW: 20000000.0\n",
      "Channel: 157  BW: 20000000.0\n"
     ]
    },
    {
     "name": "stderr",
     "output_type": "stream",
     "text": [
      "244it [00:16, 14.32it/s]"
     ]
    },
    {
     "name": "stdout",
     "output_type": "stream",
     "text": [
      "Channel: 157  BW: 20000000.0\n",
      "Channel: 157  BW: 20000000.0\n",
      "Channel: 157  BW: 20000000.0\n",
      "Channel: 157  BW: 20000000.0\n"
     ]
    },
    {
     "name": "stderr",
     "output_type": "stream",
     "text": [
      "248it [00:16, 14.37it/s]"
     ]
    },
    {
     "name": "stdout",
     "output_type": "stream",
     "text": [
      "Channel: 157  BW: 20000000.0\n",
      "Channel: 157  BW: 20000000.0\n",
      "Channel: 157  BW: 20000000.0\n"
     ]
    },
    {
     "name": "stderr",
     "output_type": "stream",
     "text": [
      "250it [00:16, 14.16it/s]"
     ]
    },
    {
     "name": "stdout",
     "output_type": "stream",
     "text": [
      "Channel: 157  BW: 20000000.0\n",
      "Channel: 157  BW: 20000000.0\n",
      "Channel: 157  BW: 20000000.0\n"
     ]
    },
    {
     "name": "stderr",
     "output_type": "stream",
     "text": [
      "254it [00:16, 14.29it/s]"
     ]
    },
    {
     "name": "stdout",
     "output_type": "stream",
     "text": [
      "Channel: 157  BW: 20000000.0\n",
      "Channel: 157  BW: 20000000.0\n",
      "Channel: 157  BW: 20000000.0\n"
     ]
    },
    {
     "name": "stderr",
     "output_type": "stream",
     "text": [
      "258it [00:17, 14.71it/s]"
     ]
    },
    {
     "name": "stdout",
     "output_type": "stream",
     "text": [
      "Channel: 157  BW: 20000000.0\n",
      "Channel: 157  BW: 20000000.0\n",
      "Channel: 157  BW: 20000000.0\n",
      "Channel: 157  BW: 20000000.0\n"
     ]
    },
    {
     "name": "stderr",
     "output_type": "stream",
     "text": [
      "262it [00:17, 14.98it/s]"
     ]
    },
    {
     "name": "stdout",
     "output_type": "stream",
     "text": [
      "Channel: 157  BW: 20000000.0\n",
      "Channel: 157  BW: 20000000.0\n",
      "Channel: 157  BW: 20000000.0\n",
      "Channel: 157  BW: 20000000.0\n"
     ]
    },
    {
     "name": "stderr",
     "output_type": "stream",
     "text": [
      "266it [00:17, 15.25it/s]"
     ]
    },
    {
     "name": "stdout",
     "output_type": "stream",
     "text": [
      "Channel: 157  BW: 20000000.0\n",
      "Channel: 157  BW: 20000000.0\n",
      "Channel: 157  BW: 20000000.0\n",
      "Channel: 157  BW: 20000000.0\n"
     ]
    },
    {
     "name": "stderr",
     "output_type": "stream",
     "text": [
      "268it [00:17, 15.16it/s]"
     ]
    },
    {
     "name": "stdout",
     "output_type": "stream",
     "text": [
      "Channel: 157  BW: 20000000.0\n",
      "Channel: 157  BW: 20000000.0\n",
      "Channel: 157  BW: 20000000.0\n"
     ]
    },
    {
     "name": "stderr",
     "output_type": "stream",
     "text": [
      "272it [00:18, 14.89it/s]"
     ]
    },
    {
     "name": "stdout",
     "output_type": "stream",
     "text": [
      "Channel: 157  BW: 20000000.0\n",
      "Channel: 157  BW: 20000000.0\n",
      "Channel: 157  BW: 20000000.0\n",
      "Channel: 157  BW: 20000000.0\n"
     ]
    },
    {
     "name": "stderr",
     "output_type": "stream",
     "text": [
      "276it [00:18, 14.72it/s]"
     ]
    },
    {
     "name": "stdout",
     "output_type": "stream",
     "text": [
      "Channel: 157  BW: 20000000.0\n",
      "Channel: 157  BW: 20000000.0\n",
      "Channel: 157  BW: 20000000.0\n"
     ]
    },
    {
     "name": "stderr",
     "output_type": "stream",
     "text": [
      "280it [00:18, 15.37it/s]"
     ]
    },
    {
     "name": "stdout",
     "output_type": "stream",
     "text": [
      "Channel: 157  BW: 20000000.0\n",
      "Channel: 157  BW: 20000000.0\n",
      "Channel: 157  BW: 20000000.0\n",
      "Channel: 157  BW: 20000000.0\n"
     ]
    },
    {
     "name": "stderr",
     "output_type": "stream",
     "text": [
      "282it [00:18, 14.21it/s]"
     ]
    },
    {
     "name": "stdout",
     "output_type": "stream",
     "text": [
      "Channel: 157  BW: 20000000.0\n",
      "Channel: 157  BW: 20000000.0\n",
      "Channel: 157  BW: 20000000.0\n"
     ]
    },
    {
     "name": "stderr",
     "output_type": "stream",
     "text": [
      "286it [00:19, 14.89it/s]"
     ]
    },
    {
     "name": "stdout",
     "output_type": "stream",
     "text": [
      "Channel: 157  BW: 20000000.0\n",
      "Channel: 157  BW: 20000000.0\n",
      "Channel: 157  BW: 20000000.0\n",
      "Channel: 157  BW: 20000000.0\n"
     ]
    },
    {
     "name": "stderr",
     "output_type": "stream",
     "text": [
      "290it [00:19, 15.84it/s]"
     ]
    },
    {
     "name": "stdout",
     "output_type": "stream",
     "text": [
      "Channel: 157  BW: 20000000.0\n",
      "Channel: 157  BW: 20000000.0\n",
      "Channel: 157  BW: 20000000.0\n",
      "Channel: 157  BW: 20000000.0\n"
     ]
    },
    {
     "name": "stderr",
     "output_type": "stream",
     "text": [
      "294it [00:19, 15.51it/s]"
     ]
    },
    {
     "name": "stdout",
     "output_type": "stream",
     "text": [
      "Channel: 157  BW: 20000000.0\n",
      "Channel: 157  BW: 20000000.0\n",
      "Channel: 157  BW: 20000000.0\n"
     ]
    },
    {
     "name": "stderr",
     "output_type": "stream",
     "text": [
      "296it [00:19, 14.80it/s]"
     ]
    },
    {
     "name": "stdout",
     "output_type": "stream",
     "text": [
      "Channel: 157  BW: 20000000.0\n",
      "Channel: 157  BW: 20000000.0\n",
      "Channel: 157  BW: 20000000.0\n"
     ]
    },
    {
     "name": "stderr",
     "output_type": "stream",
     "text": [
      "300it [00:19, 14.56it/s]"
     ]
    },
    {
     "name": "stdout",
     "output_type": "stream",
     "text": [
      "Channel: 157  BW: 20000000.0\n",
      "Channel: 157  BW: 20000000.0\n",
      "Channel: 157  BW: 20000000.0\n"
     ]
    },
    {
     "name": "stderr",
     "output_type": "stream",
     "text": [
      "302it [00:20, 13.24it/s]"
     ]
    },
    {
     "name": "stdout",
     "output_type": "stream",
     "text": [
      "Channel: 157  BW: 20000000.0\n",
      "Channel: 157  BW: 20000000.0\n",
      "Channel: 157  BW: 20000000.0\n"
     ]
    },
    {
     "name": "stderr",
     "output_type": "stream",
     "text": [
      "306it [00:20, 13.89it/s]"
     ]
    },
    {
     "name": "stdout",
     "output_type": "stream",
     "text": [
      "Channel: 157  BW: 20000000.0\n",
      "Channel: 157  BW: 20000000.0\n",
      "Channel: 157  BW: 20000000.0\n"
     ]
    },
    {
     "name": "stderr",
     "output_type": "stream",
     "text": [
      "308it [00:20, 13.93it/s]"
     ]
    },
    {
     "name": "stdout",
     "output_type": "stream",
     "text": [
      "Channel: 157  BW: 20000000.0\n",
      "Channel: 157  BW: 20000000.0\n",
      "Channel: 157  BW: 20000000.0\n"
     ]
    },
    {
     "name": "stderr",
     "output_type": "stream",
     "text": [
      "312it [00:20, 13.43it/s]"
     ]
    },
    {
     "name": "stdout",
     "output_type": "stream",
     "text": [
      "Channel: 157  BW: 20000000.0\n",
      "Channel: 157  BW: 20000000.0\n",
      "Channel: 157  BW: 20000000.0\n"
     ]
    },
    {
     "name": "stderr",
     "output_type": "stream",
     "text": [
      "316it [00:21, 14.16it/s]"
     ]
    },
    {
     "name": "stdout",
     "output_type": "stream",
     "text": [
      "Channel: 157  BW: 20000000.0\n",
      "Channel: 157  BW: 20000000.0\n",
      "Channel: 157  BW: 20000000.0\n",
      "Channel: 157  BW: 20000000.0\n"
     ]
    },
    {
     "name": "stderr",
     "output_type": "stream",
     "text": [
      "320it [00:21, 15.01it/s]"
     ]
    },
    {
     "name": "stdout",
     "output_type": "stream",
     "text": [
      "Channel: 157  BW: 20000000.0\n",
      "Channel: 157  BW: 20000000.0\n",
      "Channel: 157  BW: 20000000.0\n",
      "Channel: 157  BW: 20000000.0\n"
     ]
    },
    {
     "name": "stderr",
     "output_type": "stream",
     "text": [
      "324it [00:21, 15.37it/s]"
     ]
    },
    {
     "name": "stdout",
     "output_type": "stream",
     "text": [
      "Channel: 157  BW: 20000000.0\n",
      "Channel: 157  BW: 20000000.0\n",
      "Channel: 157  BW: 20000000.0\n",
      "Channel: 157  BW: 20000000.0\n"
     ]
    },
    {
     "name": "stderr",
     "output_type": "stream",
     "text": [
      "328it [00:21, 15.24it/s]"
     ]
    },
    {
     "name": "stdout",
     "output_type": "stream",
     "text": [
      "Channel: 157  BW: 20000000.0\n",
      "Channel: 157  BW: 20000000.0\n",
      "Channel: 157  BW: 20000000.0\n",
      "Channel: 157  BW: 20000000.0\n"
     ]
    },
    {
     "name": "stderr",
     "output_type": "stream",
     "text": [
      "332it [00:22, 15.43it/s]"
     ]
    },
    {
     "name": "stdout",
     "output_type": "stream",
     "text": [
      "Channel: 157  BW: 20000000.0\n",
      "Channel: 157  BW: 20000000.0\n",
      "Channel: 157  BW: 20000000.0\n",
      "Channel: 157  BW: 20000000.0\n"
     ]
    },
    {
     "name": "stderr",
     "output_type": "stream",
     "text": [
      "334it [00:22, 15.19it/s]"
     ]
    },
    {
     "name": "stdout",
     "output_type": "stream",
     "text": [
      "Channel: 157  BW: 20000000.0\n",
      "Channel: 157  BW: 20000000.0\n",
      "Channel: 157  BW: 20000000.0\n"
     ]
    },
    {
     "name": "stderr",
     "output_type": "stream",
     "text": [
      "338it [00:22, 13.71it/s]"
     ]
    },
    {
     "name": "stdout",
     "output_type": "stream",
     "text": [
      "Channel: 157  BW: 20000000.0\n",
      "Channel: 157  BW: 20000000.0\n",
      "Channel: 157  BW: 20000000.0\n"
     ]
    },
    {
     "name": "stderr",
     "output_type": "stream",
     "text": [
      "340it [00:22, 13.25it/s]"
     ]
    },
    {
     "name": "stdout",
     "output_type": "stream",
     "text": [
      "Channel: 157  BW: 20000000.0\n",
      "Channel: 157  BW: 20000000.0\n",
      "Channel: 157  BW: 20000000.0\n"
     ]
    },
    {
     "name": "stderr",
     "output_type": "stream",
     "text": [
      "344it [00:23, 12.60it/s]"
     ]
    },
    {
     "name": "stdout",
     "output_type": "stream",
     "text": [
      "Channel: 157  BW: 20000000.0\n",
      "Channel: 157  BW: 20000000.0\n",
      "Channel: 157  BW: 20000000.0\n"
     ]
    },
    {
     "name": "stderr",
     "output_type": "stream",
     "text": [
      "348it [00:23, 13.81it/s]"
     ]
    },
    {
     "name": "stdout",
     "output_type": "stream",
     "text": [
      "Channel: 157  BW: 20000000.0\n",
      "Channel: 157  BW: 20000000.0\n",
      "Channel: 157  BW: 20000000.0\n",
      "Channel: 157  BW: 20000000.0\n"
     ]
    },
    {
     "name": "stderr",
     "output_type": "stream",
     "text": [
      "350it [00:23, 13.84it/s]"
     ]
    },
    {
     "name": "stdout",
     "output_type": "stream",
     "text": [
      "Channel: 157  BW: 20000000.0\n",
      "Channel: 157  BW: 20000000.0\n",
      "Channel: 157  BW: 20000000.0\n"
     ]
    },
    {
     "name": "stderr",
     "output_type": "stream",
     "text": [
      "354it [00:23, 15.13it/s]"
     ]
    },
    {
     "name": "stdout",
     "output_type": "stream",
     "text": [
      "Channel: 157  BW: 20000000.0\n",
      "Channel: 157  BW: 20000000.0\n",
      "Channel: 157  BW: 20000000.0\n",
      "Channel: 157  BW: 20000000.0\n"
     ]
    },
    {
     "name": "stderr",
     "output_type": "stream",
     "text": [
      "358it [00:24, 13.91it/s]"
     ]
    },
    {
     "name": "stdout",
     "output_type": "stream",
     "text": [
      "Channel: 157  BW: 20000000.0\n",
      "Channel: 157  BW: 20000000.0\n",
      "Channel: 157  BW: 20000000.0\n"
     ]
    },
    {
     "name": "stderr",
     "output_type": "stream",
     "text": [
      "362it [00:24, 14.76it/s]"
     ]
    },
    {
     "name": "stdout",
     "output_type": "stream",
     "text": [
      "Channel: 157  BW: 20000000.0\n",
      "Channel: 157  BW: 20000000.0\n",
      "Channel: 157  BW: 20000000.0\n",
      "Channel: 157  BW: 20000000.0\n"
     ]
    },
    {
     "name": "stderr",
     "output_type": "stream",
     "text": [
      "364it [00:24, 14.65it/s]"
     ]
    },
    {
     "name": "stdout",
     "output_type": "stream",
     "text": [
      "Channel: 157  BW: 20000000.0\n",
      "Channel: 157  BW: 20000000.0\n",
      "Channel: 157  BW: 20000000.0\n"
     ]
    },
    {
     "name": "stderr",
     "output_type": "stream",
     "text": [
      "368it [00:24, 12.84it/s]"
     ]
    },
    {
     "name": "stdout",
     "output_type": "stream",
     "text": [
      "Channel: 157  BW: 20000000.0\n",
      "Channel: 157  BW: 20000000.0\n",
      "Channel: 157  BW: 20000000.0\n"
     ]
    },
    {
     "name": "stderr",
     "output_type": "stream",
     "text": [
      "370it [00:25, 11.78it/s]"
     ]
    },
    {
     "name": "stdout",
     "output_type": "stream",
     "text": [
      "Channel: 157  BW: 20000000.0\n",
      "Channel: 157  BW: 20000000.0\n",
      "Channel: 157  BW: 20000000.0\n"
     ]
    },
    {
     "name": "stderr",
     "output_type": "stream",
     "text": [
      "374it [00:25, 12.59it/s]"
     ]
    },
    {
     "name": "stdout",
     "output_type": "stream",
     "text": [
      "Channel: 157  BW: 20000000.0\n",
      "Channel: 157  BW: 20000000.0\n",
      "Channel: 157  BW: 20000000.0\n"
     ]
    },
    {
     "name": "stderr",
     "output_type": "stream",
     "text": [
      "378it [00:25, 13.47it/s]"
     ]
    },
    {
     "name": "stdout",
     "output_type": "stream",
     "text": [
      "Channel: 157  BW: 20000000.0\n",
      "Channel: 157  BW: 20000000.0\n",
      "Channel: 157  BW: 20000000.0\n",
      "Channel: 157  BW: 20000000.0\n"
     ]
    },
    {
     "name": "stderr",
     "output_type": "stream",
     "text": [
      "380it [00:25, 13.87it/s]"
     ]
    },
    {
     "name": "stdout",
     "output_type": "stream",
     "text": [
      "Channel: 157  BW: 20000000.0\n",
      "Channel: 157  BW: 20000000.0\n",
      "Channel: 157  BW: 20000000.0\n"
     ]
    },
    {
     "name": "stderr",
     "output_type": "stream",
     "text": [
      "384it [00:26, 13.64it/s]"
     ]
    },
    {
     "name": "stdout",
     "output_type": "stream",
     "text": [
      "Channel: 157  BW: 20000000.0\n",
      "Channel: 157  BW: 20000000.0\n",
      "Channel: 157  BW: 20000000.0\n"
     ]
    },
    {
     "name": "stderr",
     "output_type": "stream",
     "text": [
      "386it [00:26, 13.67it/s]"
     ]
    },
    {
     "name": "stdout",
     "output_type": "stream",
     "text": [
      "Channel: 157  BW: 20000000.0\n",
      "Channel: 157  BW: 20000000.0\n",
      "Channel: 157  BW: 20000000.0\n"
     ]
    },
    {
     "name": "stderr",
     "output_type": "stream",
     "text": [
      "390it [00:26, 13.63it/s]"
     ]
    },
    {
     "name": "stdout",
     "output_type": "stream",
     "text": [
      "Channel: 157  BW: 20000000.0\n",
      "Channel: 157  BW: 20000000.0\n",
      "Channel: 157  BW: 20000000.0\n"
     ]
    },
    {
     "name": "stderr",
     "output_type": "stream",
     "text": [
      "392it [00:26, 13.96it/s]"
     ]
    },
    {
     "name": "stdout",
     "output_type": "stream",
     "text": [
      "Channel: 157  BW: 20000000.0\n",
      "Channel: 157  BW: 20000000.0\n",
      "Channel: 157  BW: 20000000.0\n"
     ]
    },
    {
     "name": "stderr",
     "output_type": "stream",
     "text": [
      "396it [00:26, 13.32it/s]"
     ]
    },
    {
     "name": "stdout",
     "output_type": "stream",
     "text": [
      "Channel: 157  BW: 20000000.0\n",
      "Channel: 157  BW: 20000000.0\n",
      "Channel: 157  BW: 20000000.0\n"
     ]
    },
    {
     "name": "stderr",
     "output_type": "stream",
     "text": [
      "398it [00:27, 13.68it/s]"
     ]
    },
    {
     "name": "stdout",
     "output_type": "stream",
     "text": [
      "Channel: 157  BW: 20000000.0\n",
      "Channel: 157  BW: 20000000.0\n",
      "Channel: 157  BW: 20000000.0\n"
     ]
    },
    {
     "name": "stderr",
     "output_type": "stream",
     "text": [
      "402it [00:27, 13.83it/s]"
     ]
    },
    {
     "name": "stdout",
     "output_type": "stream",
     "text": [
      "Channel: 157  BW: 20000000.0\n",
      "Channel: 157  BW: 20000000.0\n",
      "Channel: 157  BW: 20000000.0\n"
     ]
    },
    {
     "name": "stderr",
     "output_type": "stream",
     "text": [
      "404it [00:27, 14.08it/s]"
     ]
    },
    {
     "name": "stdout",
     "output_type": "stream",
     "text": [
      "Channel: 157  BW: 20000000.0\n",
      "Channel: 157  BW: 20000000.0\n",
      "Channel: 157  BW: 20000000.0\n"
     ]
    },
    {
     "name": "stderr",
     "output_type": "stream",
     "text": [
      "408it [00:27, 13.76it/s]"
     ]
    },
    {
     "name": "stdout",
     "output_type": "stream",
     "text": [
      "Channel: 157  BW: 20000000.0\n",
      "Channel: 157  BW: 20000000.0\n",
      "Channel: 157  BW: 20000000.0\n"
     ]
    },
    {
     "name": "stderr",
     "output_type": "stream",
     "text": [
      "410it [00:27, 12.80it/s]"
     ]
    },
    {
     "name": "stdout",
     "output_type": "stream",
     "text": [
      "Channel: 157  BW: 20000000.0\n",
      "Channel: 157  BW: 20000000.0\n",
      "Channel: 157  BW: 20000000.0\n"
     ]
    },
    {
     "name": "stderr",
     "output_type": "stream",
     "text": [
      "414it [00:28, 13.76it/s]"
     ]
    },
    {
     "name": "stdout",
     "output_type": "stream",
     "text": [
      "Channel: 157  BW: 20000000.0\n",
      "Channel: 157  BW: 20000000.0\n",
      "Channel: 157  BW: 20000000.0\n",
      "Channel: 157  BW: 20000000.0\n"
     ]
    },
    {
     "name": "stderr",
     "output_type": "stream",
     "text": [
      "416it [00:28, 14.66it/s]\n"
     ]
    },
    {
     "name": "stdout",
     "output_type": "stream",
     "text": [
      "Channel: 157  BW: 20000000.0\n",
      "Packets: 416\n"
     ]
    },
    {
     "data": {
      "image/png": "[encoded data removed]",
      "text/plain": [
       "<Figure size 640x480 with 1 Axes>"
      ]
     },
     "metadata": {},
     "output_type": "display_data"
    }
   ],
   "source": [
    "rotationData = rosbag.Bag(\"rotationData.bag\")\n",
    "controlData = rosbag.Bag(\"testingData/control.bag\")\n",
    "musicData1 = get_angle_profiles(rotationData, \"music\", [0, 10, 20, 30, 40, 49])\n",
    "musicData2 = get_angle_profiles(rotationData, \"music\")\n",
    "\n",
    "controlAnglesMusic = get_angle_profiles(controlData, \"music\")\n",
    "controlAnglesAOA = get_angle_profiles(controlData, \"aoa\")\n",
    "\n",
    "neg45Data = rosbag.Bag(\"testingData/reflector1.bag\")\n",
    "neg45AnglesMusic = get_angle_profiles(neg45Data, \"music\")\n",
    "neg45AnglesAOA = get_angle_profiles(neg45Data, \"aoa\")\n",
    "neg45AnglesOtherMusic = get_angle_profiles(neg45Data, \"othermusic\")\n",
    "\n",
    "\n",
    "pos45Data = rosbag.Bag(\"testingData/reflector3.bag\")\n",
    "pos45AnglesMusic = get_angle_profiles(pos45Data, \"music\")\n",
    "pos45AnglesAOA = get_angle_profiles(pos45Data, \"aoa\")\n",
    "pos45AnglesOtherMusic = get_angle_profiles(pos45Data, \"othermusic\")\n",
    "# aoaData = get_angle_profiles(rotationData, \"aoa\")\n",
    "# clippedMusic = []\n",
    "# for i in range(len(musicData)):\n",
    "#   row = musicData[i][2].copy()\n",
    "#   row[row < 1] = 0\n",
    "#   clippedMusic.append((musicData[i][0], musicData[i][1], row))\n",
    "# clippedAoa = []\n",
    "# for i in range(len(aoaData)):\n",
    "#   row = aoaData[i][2].copy()\n",
    "#   row[row < 1] = 0\n",
    "#   clippedAoa.append((aoaData[i][0], aoaData[i][1], row))\n",
    "# clippedCombined = []\n",
    "# for i in range(len(musicData)):\n",
    "#   clippedCombined.append((musicData[i][0], musicData[i][1], clippedMusic[i][2] * clippedMusic[i][2]))\n",
    "\n",
    "# differences = []\n",
    "# for i in range(len(musicData)):\n",
    "#   differences.append((musicData[i][0], musicData[i][1], np.isclose(musicData[i][2], aoaData[i][2], rtol=0.3)))\n",
    "\n",
    "# print(neg45AnglesMusic)\n",
    "\n",
    "# plot_angle_profiles(neg45AnglesAOA, \"Negative Angle Reflector (AOA)\")\n",
    "plot_angle_profiles(neg45AnglesMusic, \"Negative Angle Reflector (MUSIC)\")\n",
    "# plot_angle_profiles(neg45AnglesOtherMusic, \"Negative Angle Reflector (Other MUSIC)\")"
   ]
  },
  {
   "cell_type": "code",
   "execution_count": 98,
   "metadata": {},
   "outputs": [
    {
     "name": "stdout",
     "output_type": "stream",
     "text": [
      "ALGORITHM: othermusic\n"
     ]
    },
    {
     "name": "stderr",
     "output_type": "stream",
     "text": [
      "5it [00:00, 42.71it/s]"
     ]
    },
    {
     "name": "stdout",
     "output_type": "stream",
     "text": [
      "(50, 4, 4)\n"
     ]
    },
    {
     "name": "stderr",
     "output_type": "stream",
     "text": [
      "231it [00:08, 28.43it/s]"
     ]
    },
    {
     "name": "stdout",
     "output_type": "stream",
     "text": [
      "Packets: 231\n"
     ]
    },
    {
     "name": "stderr",
     "output_type": "stream",
     "text": [
      "\n"
     ]
    }
   ],
   "source": [
    "controlAnglesOtherMusic = get_angle_profiles(controlData, \"othermusic\")"
   ]
  },
  {
   "cell_type": "code",
   "execution_count": 131,
   "metadata": {},
   "outputs": [
    {
     "data": {
      "image/png": "[encoded data removed]",
      "text/plain": [
       "<Figure size 640x480 with 1 Axes>"
      ]
     },
     "metadata": {},
     "output_type": "display_data"
    }
   ],
   "source": [
    "\n",
    "# plot_angle_profiles(neg45AnglesMusic, \"Positive Angle Reflector (MUSIC)\")\n",
    "# print(\"HEYYYY\")\n",
    "fig, ax = plt.subplots()\n",
    "plt.title(\"oops\")\n",
    "plt.ylabel(\"Angle (degrees)\")\n",
    "plt.xlabel(\"Time\")\n",
    "for time, angles, profile in pos45AnglesOtherMusic:\n",
    "  # print(len(angles), len(profile))\n",
    "  # print(np.max(profile))\n",
    "  # print(type(profile))\n",
    "  # idx = np.argmax(profile)\n",
    "  newprofile = []\n",
    "  for i in range(360):\n",
    "    # print(profile[i])\n",
    "    newprofile.append(profile[i][0])\n",
    "    # newprofile.append(np.average(profile[i][0:8]))\n",
    "  newprofile = np.array(newprofile)\n",
    "  # print(np.shape(profile))\n",
    "  # print(idx)\n",
    "  # ax.scatter(time, angles[idx], s=10)\n",
    "  ax.scatter([time] * len(angles), angles, c=newprofile * 10, s=10)"
   ]
  },
  {
   "cell_type": "code",
   "execution_count": null,
   "metadata": {},
   "outputs": [],
   "source": [
    "# print(\"HEYYYY\")\n",
    "fig, ax = plt.subplots()\n",
    "plt.title(\"oops\")\n",
    "plt.ylabel(\"Angle (degrees)\")\n",
    "plt.xlabel(\"Time\")\n",
    "for time, angles, profile in neg45AnglesOtherMusic:\n",
    "  # print(len(angles), len(profile))\n",
    "  # print(np.max(profile))\n",
    "  # print(type(profile))\n",
    "  # idx = np.argmax(profile)\n",
    "  newprofile = []\n",
    "  for i in range(360):\n",
    "    # print(profile[i])\n",
    "    # newprofile.append(np.average(profile[i]))\n",
    "    newprofile.append(np.average(profile[i][40:49]))\n",
    "  newprofile = np.array(newprofile)\n",
    "  print(np.shape(profile))\n",
    "  # print(idx)\n",
    "  # ax.scatter(time, angles[idx], s=10)\n",
    "  ax.scatter([time] * len(angles), angles, c=newprofile * 10, s=10)"
   ]
  },
  {
   "cell_type": "markdown",
   "metadata": {},
   "source": [
    "time_visualizeprofile(rotationData, \"Rotation Data Over Time (1d AOA)\", \"aoa\")"
   ]
  },
  {
   "cell_type": "code",
   "execution_count": 10,
   "metadata": {},
   "outputs": [
    {
     "name": "stdout",
     "output_type": "stream",
     "text": [
      "ALGORITHM: aoa\n"
     ]
    },
    {
     "name": "stderr",
     "output_type": "stream",
     "text": [
      "311it [00:00, 1805.03it/s]"
     ]
    },
    {
     "name": "stdout",
     "output_type": "stream",
     "text": [
      "(50, 4, 4)\n",
      "Packets: 311\n"
     ]
    },
    {
     "name": "stderr",
     "output_type": "stream",
     "text": [
      "\n"
     ]
    },
    {
     "data": {
      "image/png": "[encoded data removed]",
      "text/plain": [
       "<Figure size 640x480 with 1 Axes>"
      ]
     },
     "metadata": {},
     "output_type": "display_data"
    }
   ],
   "source": [
    "plot_angle_profiles(get_angle_profiles(rotationData, \"aoa\", range(0, 10)), f\"Sparse AOA\")"
   ]
  },
  {
   "cell_type": "code",
   "execution_count": 10,
   "metadata": {},
   "outputs": [
    {
     "ename": "FileNotFoundError",
     "evalue": "[Errno 2] No such file or directory: '../foil.bag'",
     "output_type": "error",
     "traceback": [
      "\u001b[0;31m---------------------------------------------------------------------------\u001b[0m",
      "\u001b[0;31mFileNotFoundError\u001b[0m                         Traceback (most recent call last)",
      "\u001b[1;32m/Users/Navid/WirelessProjects/SignalPropogation/visualization.ipynb Cell 11\u001b[0m line \u001b[0;36m1\n\u001b[1;32m      <a href='vscode-notebook-cell:/Users/Navid/WirelessProjects/SignalPropogation/visualization.ipynb#X13sZmlsZQ%3D%3D?line=0'>1</a>\u001b[0m \u001b[39m# Load the ROS bag file\u001b[39;00m\n\u001b[1;32m      <a href='vscode-notebook-cell:/Users/Navid/WirelessProjects/SignalPropogation/visualization.ipynb#X13sZmlsZQ%3D%3D?line=1'>2</a>\u001b[0m \u001b[39m# bag_1 = rosbag.Bag(\"../2023-11-10-15-38-09.bag\")\u001b[39;00m\n\u001b[1;32m      <a href='vscode-notebook-cell:/Users/Navid/WirelessProjects/SignalPropogation/visualization.ipynb#X13sZmlsZQ%3D%3D?line=2'>3</a>\u001b[0m \u001b[39m# no_antennae = rosbag.Bag(\"../los_no_r_antennae_no_t_antennae.bag\")\u001b[39;00m\n\u001b[0;32m   (...)\u001b[0m\n\u001b[1;32m     <a href='vscode-notebook-cell:/Users/Navid/WirelessProjects/SignalPropogation/visualization.ipynb#X13sZmlsZQ%3D%3D?line=9'>10</a>\u001b[0m \u001b[39m# los_no_blocker = rosbag.Bag(\"../los_no_signal_blocker.bag\")\u001b[39;00m\n\u001b[1;32m     <a href='vscode-notebook-cell:/Users/Navid/WirelessProjects/SignalPropogation/visualization.ipynb#X13sZmlsZQ%3D%3D?line=10'>11</a>\u001b[0m \u001b[39m# los_blocker = rosbag.Bag(\"../los_signal_blocker.bag\")\u001b[39;00m\n\u001b[0;32m---> <a href='vscode-notebook-cell:/Users/Navid/WirelessProjects/SignalPropogation/visualization.ipynb#X13sZmlsZQ%3D%3D?line=11'>12</a>\u001b[0m foil \u001b[39m=\u001b[39m rosbag\u001b[39m.\u001b[39;49mBag(\u001b[39m\"\u001b[39;49m\u001b[39m../foil.bag\u001b[39;49m\u001b[39m\"\u001b[39;49m)\n\u001b[1;32m     <a href='vscode-notebook-cell:/Users/Navid/WirelessProjects/SignalPropogation/visualization.ipynb#X13sZmlsZQ%3D%3D?line=12'>13</a>\u001b[0m foil2 \u001b[39m=\u001b[39m rosbag\u001b[39m.\u001b[39mBag(\u001b[39m\"\u001b[39m\u001b[39m../foil2.bag\u001b[39m\u001b[39m\"\u001b[39m)\n\u001b[1;32m     <a href='vscode-notebook-cell:/Users/Navid/WirelessProjects/SignalPropogation/visualization.ipynb#X13sZmlsZQ%3D%3D?line=13'>14</a>\u001b[0m nofoil \u001b[39m=\u001b[39m rosbag\u001b[39m.\u001b[39mBag(\u001b[39m\"\u001b[39m\u001b[39m../nofoil.bag\u001b[39m\u001b[39m\"\u001b[39m)\n",
      "File \u001b[0;32m/opt/homebrew/lib/python3.11/site-packages/rosbag/bag.py:467\u001b[0m, in \u001b[0;36mBag.__init__\u001b[0;34m(self, f, mode, compression, chunk_threshold, allow_unindexed, options, skip_index)\u001b[0m\n\u001b[1;32m    463\u001b[0m \u001b[39mself\u001b[39m\u001b[39m.\u001b[39m_curr_compression \u001b[39m=\u001b[39m Compression\u001b[39m.\u001b[39mNONE\n\u001b[1;32m    465\u001b[0m \u001b[39mself\u001b[39m\u001b[39m.\u001b[39m_encryptor \u001b[39m=\u001b[39m _ROSBagNoEncryptor()\n\u001b[0;32m--> 467\u001b[0m \u001b[39mself\u001b[39;49m\u001b[39m.\u001b[39;49m_open(f, mode, allow_unindexed)\n\u001b[1;32m    469\u001b[0m \u001b[39mself\u001b[39m\u001b[39m.\u001b[39m_output_file \u001b[39m=\u001b[39m \u001b[39mself\u001b[39m\u001b[39m.\u001b[39m_file\n",
      "File \u001b[0;32m/opt/homebrew/lib/python3.11/site-packages/rosbag/bag.py:1427\u001b[0m, in \u001b[0;36mBag._open\u001b[0;34m(self, f, mode, allow_unindexed)\u001b[0m\n\u001b[1;32m   1424\u001b[0m     \u001b[39mraise\u001b[39;00m \u001b[39mValueError\u001b[39;00m(\u001b[39m'\u001b[39m\u001b[39mfilename (or stream) is invalid\u001b[39m\u001b[39m'\u001b[39m)\n\u001b[1;32m   1426\u001b[0m \u001b[39mtry\u001b[39;00m:\n\u001b[0;32m-> 1427\u001b[0m     \u001b[39mif\u001b[39;00m   mode \u001b[39m==\u001b[39m \u001b[39m'\u001b[39m\u001b[39mr\u001b[39m\u001b[39m'\u001b[39m: \u001b[39mself\u001b[39;49m\u001b[39m.\u001b[39;49m_open_read(f, allow_unindexed)\n\u001b[1;32m   1428\u001b[0m     \u001b[39melif\u001b[39;00m mode \u001b[39m==\u001b[39m \u001b[39m'\u001b[39m\u001b[39mw\u001b[39m\u001b[39m'\u001b[39m: \u001b[39mself\u001b[39m\u001b[39m.\u001b[39m_open_write(f)\n\u001b[1;32m   1429\u001b[0m     \u001b[39melif\u001b[39;00m mode \u001b[39m==\u001b[39m \u001b[39m'\u001b[39m\u001b[39ma\u001b[39m\u001b[39m'\u001b[39m: \u001b[39mself\u001b[39m\u001b[39m.\u001b[39m_open_append(f, allow_unindexed)\n",
      "File \u001b[0;32m/opt/homebrew/lib/python3.11/site-packages/rosbag/bag.py:1449\u001b[0m, in \u001b[0;36mBag._open_read\u001b[0;34m(self, f, allow_unindexed)\u001b[0m\n\u001b[1;32m   1447\u001b[0m     \u001b[39mself\u001b[39m\u001b[39m.\u001b[39m_filename \u001b[39m=\u001b[39m \u001b[39mNone\u001b[39;00m\n\u001b[1;32m   1448\u001b[0m \u001b[39melse\u001b[39;00m:\n\u001b[0;32m-> 1449\u001b[0m     \u001b[39mself\u001b[39m\u001b[39m.\u001b[39m_file     \u001b[39m=\u001b[39m \u001b[39mopen\u001b[39;49m(f, \u001b[39m'\u001b[39;49m\u001b[39mrb\u001b[39;49m\u001b[39m'\u001b[39;49m)\n\u001b[1;32m   1450\u001b[0m     \u001b[39mself\u001b[39m\u001b[39m.\u001b[39m_filename \u001b[39m=\u001b[39m f        \n\u001b[1;32m   1452\u001b[0m \u001b[39mself\u001b[39m\u001b[39m.\u001b[39m_mode \u001b[39m=\u001b[39m \u001b[39m'\u001b[39m\u001b[39mr\u001b[39m\u001b[39m'\u001b[39m\n",
      "\u001b[0;31mFileNotFoundError\u001b[0m: [Errno 2] No such file or directory: '../foil.bag'"
     ]
    }
   ],
   "source": [
    "# Load the ROS bag file\n",
    "# bag_1 = rosbag.Bag(\"../2023-11-10-15-38-09.bag\")\n",
    "# no_antennae = rosbag.Bag(\"../los_no_r_antennae_no_t_antennae.bag\")\n",
    "# no_rx_antennae = rosbag.Bag(\"../los_no_rx_antennae.bag\")\n",
    "# no_rx_antennae_2 = rosbag.Bag(\"../los_no_rx_2.bag\")\n",
    "# both_antennae_low = rosbag.Bag(\"../los_lowpower.bag\")\n",
    "# both_antennae = rosbag.Bag(\"../los_both_antennae.bag\")\n",
    "# los_nonatt = rosbag.Bag(\"../los_nonattenuated.bag\")\n",
    "# los_att = rosbag.Bag(\"../los_attenuated.bag\")\n",
    "# los_no_blocker = rosbag.Bag(\"../los_no_signal_blocker.bag\")\n",
    "# los_blocker = rosbag.Bag(\"../los_signal_blocker.bag\")\n",
    "foil = rosbag.Bag(\"../foil.bag\")\n",
    "foil2 = rosbag.Bag(\"../foil2.bag\")\n",
    "nofoil = rosbag.Bag(\"../nofoil.bag\")\n",
    "onefoil = rosbag.Bag(\"../one_foil.bag\")\n",
    "onefoil2 = rosbag.Bag(\"../one_foil2.bag\")\n",
    "test = rosbag.Bag(\"../test.bag\")\n",
    "test2 = rosbag.Bag(\"../test2.bag\")\n",
    "test3 = rosbag.Bag(\"../test3.bag\")\n",
    "calibration_data = rosbag.Bag(\"../new_calibration_data.bag\")\n",
    "headon = rosbag.Bag(\"../HeadOn.bag\")\n",
    "ninetydeg = rosbag.Bag(\"../90degrees.bag\")\n",
    "nlosbags = []\n",
    "for k in range(1, 6):\n",
    "    filename = f\"../nlos_{k}.bag\"\n",
    "    nlosbags.append(rosbag.Bag(filename))\n",
    "# bag_2 = rosbag.Bag('/home/sora/wifi_ws/rosbag_res/20 11 nlos.bag')"
   ]
  },
  {
   "cell_type": "code",
   "execution_count": null,
   "metadata": {},
   "outputs": [],
   "source": []
  },
  {
   "cell_type": "code",
   "execution_count": null,
   "metadata": {},
   "outputs": [],
   "source": [
    "# no_antennae_channel = pipeline_utils.extract_csi(next(no_antennae.read_messages())[1], None, apply_nts, valid_tx_ant)\n",
    "# no_rx_antennae_channel = pipeline_utils.extract_csi(next(no_rx_antennae.read_messages())[1], None, apply_nts, valid_tx_ant)\n",
    "# both_antennae_channel = pipeline_utils.extract_csi(next(both_antennae.read_messages())[1], None, apply_nts, valid_tx_ant)\n",
    "# i = 0\n",
    "# for ((_, na, _), (_, nra, _), (_, ba, _)) in zip(no_antennae, no_rx_antennae, both_antennae):\n",
    "#     draw_amplitude_4x4(pipeline_utils.extract_csi(na, None, apply_nts, valid_tx_ant), \"3.76m LOS, No Antennae\")\n",
    "#     draw_amplitude_4x4(pipeline_utils.extract_csi(nra, None, apply_nts, valid_tx_ant), \"3.76 LOS, No Rx Antennae\")\n",
    "#     draw_amplitude_4x4(pipeline_utils.extract_csi(ba, None, apply_nts, valid_tx_ant), \"3.76 LOS, All Antennae\")\n",
    "#     i += 1\n",
    "#     if (i == 10):\n",
    "        # break\n",
    "print(type(onefoil))\n",
    "print(type(nofoil))\n",
    "compare_amplitudes_4x4([test, test2, test3])\n",
    "# draw_amplitudes_4x4(test)\n",
    "# compare_amplitudes_4x4(nlosbags, \"4.88m nlos\")\n",
    "# draw_amplitudes_4x4(nofoil, \"4.88m No Foil\", True)\n",
    "# draw_amplitudes_4x4(onefoil2, \"4.88m OneFoil\")\n",
    "# draw_amplitudes_4x4(foil, \"4.88m Foil\")\n",
    "# draw_amplitudes_4x4(foil, \"4.88m Foil2\")\n",
    "\n",
    "\n",
    "# draw_amplitudes_4x4(both_antennae, \"3.76m LOS, Both Antennae\")\n",
    "# draw_amplitudes_4x4(both_antennae_low, \"4.88m LOS low power, Both Antennae\")\n",
    "# draw_amplitudes_4x4(no_rx_antennae, \"3.76m LOS, No Rx Antennae\")\n",
    "# draw_amplitudes_4x4(no_rx_antennae_2, \"3.76m LOS, No Rx Antennae 3\")\n",
    "# draw_amplitudes_4x4(no_antennae, \"3.76m LOS, No Antennae\")\n",
    "# draw_amplitude_4x4(no_antennae_channel, \"3.76m LOS, No Antennae\")\n",
    "# draw_amplitude_4x4(no_rx_antennae_channel, \"3.76 LOS, No Rx Antennae\")\n",
    "# draw_amplitude_4x4(no_rx_antennae_channel, \"3.76 LOS, All Antennae\")"
   ]
  },
  {
   "cell_type": "code",
   "execution_count": null,
   "metadata": {},
   "outputs": [],
   "source": [
    "bearings = rosbag.Bag(\"../bearingTest5.bag\")\n",
    "\n",
    "def get_aoa(data, degrees=True):\n",
    "    if degrees:\n",
    "        return 180/np.pi * data[1].aoa[0]\n",
    "    return data[1].aoa[0]\n",
    "\n",
    "def graph_aoa(bag):\n",
    "    times = []\n",
    "    angles = []\n",
    "    for data in bag:\n",
    "        angles.append(get_aoa(data))\n",
    "        times.append(data[1].header.stamp.secs + 0.000000001 * data[1].header.stamp.nsecs - bag.get_start_time())\n",
    "    plt.scatter(times, angles, s=7)\n",
    "    plt.xlabel(\"Time (s)\")\n",
    "    plt.ylabel(\"Angle (degrees)\")\n",
    "    plt.show()\n",
    "# print(bearings.get_start_time())\n",
    "# for data in bearings:\n",
    "#     # pass\n",
    "#     # print(data)\n",
    "#     # print(get_aoa(data))\n",
    "#     print(data)\n",
    "#     # print(data[1].header.stamp.secs)\n",
    "#     # channel = pipeline_utils(data[1], None, False, valid_tx_ant)\n",
    "#     # amplitude = (np.abs(channel))\n",
    "graph_aoa(bearings)"
   ]
  },
  {
   "cell_type": "code",
   "execution_count": null,
   "metadata": {},
   "outputs": [],
   "source": []
  },
  {
   "cell_type": "code",
   "execution_count": null,
   "metadata": {},
   "outputs": [],
   "source": [
    "def graph_angle(bagfile):\n",
    "    return"
   ]
  }
 ],
 "metadata": {
  "kernelspec": {
   "display_name": "Python 3 (ipykernel)",
   "language": "python",
   "name": "python3"
  },
  "language_info": {
   "codemirror_mode": {
    "name": "ipython",
    "version": 3
   },
   "file_extension": ".py",
   "mimetype": "text/x-python",
   "name": "python",
   "nbconvert_exporter": "python",
   "pygments_lexer": "ipython3",
   "version": "3.11.6"
  }
 },
 "nbformat": 4,
 "nbformat_minor": 4
}
