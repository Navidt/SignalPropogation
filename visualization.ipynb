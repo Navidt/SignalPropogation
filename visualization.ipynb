{
 "cells": [
  {
   "cell_type": "code",
   "execution_count": null,
   "metadata": {},
   "outputs": [
    {
     "ename": "",
     "evalue": "",
     "output_type": "error",
     "traceback": [
      "\u001b[1;31mRunning cells with 'Python 3.12.3' requires the ipykernel package.\n",
      "\u001b[1;31mRun the following command to install 'ipykernel' into the Python environment. \n",
      "\u001b[1;31mCommand: '/opt/homebrew/bin/python3 -m pip install ipykernel -U --user --force-reinstall'"
     ]
    }
   ],
   "source": [
    "import rosbag\n",
    "import numpy as np\n",
    "import sys\n",
    "import csi_utils.constants as constants\n",
    "import csi_utils.transform_utils as transform_utils\n",
    "import csi_utils.pipeline_utils as pipeline_utils\n",
    "import csi_utils.comp_utils as comp_utils\n",
    "import matplotlib.pyplot as plt\n",
    "import matplotlib.colors as mc\n",
    "from matplotlib.backends.backend_agg import FigureCanvasAgg as FigureCanvas\n",
    "from matplotlib.figure import Figure\n",
    "from matplotlib.cm import ScalarMappable\n",
    "# import mne\n",
    "import tqdm\n",
    "# import cv2"
   ]
  },
  {
   "cell_type": "code",
   "execution_count": null,
   "metadata": {},
   "outputs": [
    {
     "ename": "",
     "evalue": "",
     "output_type": "error",
     "traceback": [
      "\u001b[1;31mRunning cells with '/opt/homebrew/bin/python3' requires the ipykernel package.\n",
      "\u001b[1;31mRun the following command to install 'ipykernel' into the Python environment. \n",
      "\u001b[1;31mCommand: '/opt/homebrew/bin/python3 -m pip install ipykernel -U --user --force-reinstall'"
     ]
    }
   ],
   "source": [
    "# Define variables to store your data\n",
    "comp0 = np.load(\"./tx0-192.168.43.1-157.npy\")\n",
    "comp = np.load(\"./192.168.43.1-157.npy\")\n",
    "apply_nts = True\n",
    "idx = 0\n",
    "valid_tx_ant = [0,1,2,3]\n",
    "# mne.beamformer.rap_music()"
   ]
  },
  {
   "cell_type": "code",
   "execution_count": null,
   "metadata": {},
   "outputs": [
    {
     "ename": "",
     "evalue": "",
     "output_type": "error",
     "traceback": [
      "\u001b[1;31mRunning cells with '/opt/homebrew/bin/python3' requires the ipykernel package.\n",
      "\u001b[1;31mRun the following command to install 'ipykernel' into the Python environment. \n",
      "\u001b[1;31mCommand: '/opt/homebrew/bin/python3 -m pip install ipykernel -U --user --force-reinstall'"
     ]
    }
   ],
   "source": [
    "compInv = 1/comp"
   ]
  },
  {
   "cell_type": "code",
   "execution_count": null,
   "metadata": {},
   "outputs": [
    {
     "ename": "",
     "evalue": "",
     "output_type": "error",
     "traceback": [
      "\u001b[1;31mRunning cells with '/opt/homebrew/bin/python3' requires the ipykernel package.\n",
      "\u001b[1;31mRun the following command to install 'ipykernel' into the Python environment. \n",
      "\u001b[1;31mCommand: '/opt/homebrew/bin/python3 -m pip install ipykernel -U --user --force-reinstall'"
     ]
    }
   ],
   "source": []
  },
  {
   "cell_type": "code",
   "execution_count": null,
   "metadata": {},
   "outputs": [
    {
     "ename": "",
     "evalue": "",
     "output_type": "error",
     "traceback": [
      "\u001b[1;31mRunning cells with '/opt/homebrew/bin/python3' requires the ipykernel package.\n",
      "\u001b[1;31mRun the following command to install 'ipykernel' into the Python environment. \n",
      "\u001b[1;31mCommand: '/opt/homebrew/bin/python3 -m pip install ipykernel -U --user --force-reinstall'"
     ]
    }
   ],
   "source": [
    "#open the experiment1 folder and read all the files into a list\n",
    "from os import listdir\n",
    "files = listdir(\"./csiTesting/experiment1\")\n",
    "files = [file for file in files if file.endswith(\".bag\")]\n",
    "bags = [rosbag.Bag(f\"./csiTesting/experiment1/{file}\") for file in files]\n",
    "positions = []\n",
    "for file in files:\n",
    "  strs = file.split(\"_\")\n",
    "  strs[3] = strs[3].split(\".\")[0]\n",
    "  positions.append([int(strs[1]), int(strs[2]), int(strs[3])])\n",
    "positions\n"
   ]
  },
  {
   "cell_type": "code",
   "execution_count": null,
   "metadata": {},
   "outputs": [
    {
     "ename": "",
     "evalue": "",
     "output_type": "error",
     "traceback": [
      "\u001b[1;31mRunning cells with '/opt/homebrew/bin/python3' requires the ipykernel package.\n",
      "\u001b[1;31mRun the following command to install 'ipykernel' into the Python environment. \n",
      "\u001b[1;31mCommand: '/opt/homebrew/bin/python3 -m pip install ipykernel -U --user --force-reinstall'"
     ]
    }
   ],
   "source": [
    "bagFar = rosbag.Bag(\"./csiTesting/packetRateTest/100far_2024-03-21-11-12-01.bag\")\n",
    "bagClose = rosbag.Bag(\"./csiTesting/packetRateTest/100close_2024-03-21-11-14-38.bag\")\n",
    "newClose = rosbag.Bag(\"./csiTesting/packetRateTest/10close_2024-03-21-11-39-36.bag\")\n",
    "newCloseNomsg = rosbag.Bag(\"./csiTesting/packetRateTest/10closeNomsg_2024-03-21-11-43-03.bag\")\n",
    "def printRate(bag):\n",
    "    deltaT = bag.get_end_time() - bag.get_start_time()\n",
    "    print(bag.get_message_count()/deltaT)\n",
    "printRate(bagFar)\n",
    "printRate(bagClose)\n",
    "printRate(newClose)\n",
    "printRate(newCloseNomsg)\n",
    "printRate(rosbag.Bag(\"./csiTesting/packetRateTest/5closeNomsg_2024-03-21-11-45-20.bag\"))\n",
    "printRate(rosbag.Bag(\"./csiTesting/packetRateTest/1closeNomsg_2024-03-21-11-49-48.bag\"))\n",
    "printRate(rosbag.Bag(\"./csiTesting/packetRateTest/5farNomsg_2024-03-21-11-52-19.bag\"))\n",
    "printRate(rosbag.Bag(\"./csiTesting/packetRateTest/5farSparse_2024-03-21-11-59-22.bag\"))"
   ]
  },
  {
   "cell_type": "code",
   "execution_count": null,
   "metadata": {},
   "outputs": [
    {
     "ename": "",
     "evalue": "",
     "output_type": "error",
     "traceback": [
      "\u001b[1;31mRunning cells with '/opt/homebrew/bin/python3' requires the ipykernel package.\n",
      "\u001b[1;31mRun the following command to install 'ipykernel' into the Python environment. \n",
      "\u001b[1;31mCommand: '/opt/homebrew/bin/python3 -m pip install ipykernel -U --user --force-reinstall'"
     ]
    }
   ],
   "source": [
    "from irobot_edu_sdk.backend.bluetooth import Bluetooth\n",
    "from irobot_edu_sdk.robots import event, hand_over, Color, Robot, Root, Create3\n",
    "from irobot_edu_sdk.music import Note\n",
    "\n"
   ]
  },
  {
   "cell_type": "code",
   "execution_count": null,
   "metadata": {},
   "outputs": [
    {
     "ename": "",
     "evalue": "",
     "output_type": "error",
     "traceback": [
      "\u001b[1;31mRunning cells with '/opt/homebrew/bin/python3' requires the ipykernel package.\n",
      "\u001b[1;31mRun the following command to install 'ipykernel' into the Python environment. \n",
      "\u001b[1;31mCommand: '/opt/homebrew/bin/python3 -m pip install ipykernel -U --user --force-reinstall'"
     ]
    }
   ],
   "source": []
  },
  {
   "cell_type": "code",
   "execution_count": null,
   "metadata": {},
   "outputs": [
    {
     "ename": "",
     "evalue": "",
     "output_type": "error",
     "traceback": [
      "\u001b[1;31mRunning cells with '/opt/homebrew/bin/python3' requires the ipykernel package.\n",
      "\u001b[1;31mRun the following command to install 'ipykernel' into the Python environment. \n",
      "\u001b[1;31mCommand: '/opt/homebrew/bin/python3 -m pip install ipykernel -U --user --force-reinstall'"
     ]
    }
   ],
   "source": [
    "bag1 = rosbag.Bag(\"./csiTesting/experiment1/CSI_-1_0_0.bag\")\n",
    "bag2 = rosbag.Bag(\"./csiTesting/experiment1/CSI_-2_0_0.bag\")\n",
    "bag3 = rosbag.Bag(\"./csiTesting/experiment1/CSI_-3_0_0.bag\")\n",
    "bag4 = rosbag.Bag(\"./csiTesting/experiment1/CSI_-1_1_0.bag\")\n",
    "bag4 = rosbag.Bag(\"./csiTesting/experiment1/CSI_-1_1_0.bag\")\n",
    "bag4 = rosbag.Bag(\"./csiTesting/experiment1/CSI_-1_1_0.bag\")\n",
    "bag4 = rosbag.Bag(\"./csiTesting/experiment1/CSI_-1_1_0.bag\")\n",
    "def plot_csi_data_complex(bag, tx, subcarrier, title=None, saveName=None):\n",
    "  allData = {0: [[], []], 1: [[], []], 2: [[], []], 3: [[], []]}\n",
    "  colors = [\"red\", \"green\", \"blue\", \"purple\"]\n",
    "  fig, ax = plt.subplots()\n",
    "  ax.set(xlim=(-1, 3), ylim=(-1, 3))\n",
    "  if title == None:\n",
    "    title = f\"CSI data from Tx{tx} and subcarrier {subcarrier}\"\n",
    "  plt.title(title)\n",
    "  plt.ylabel(\"Imaginary\")\n",
    "  plt.xlabel(\"Real\")\n",
    "  num = 0\n",
    "  for topic, msg, t in tqdm.tqdm(bag.read_messages('/csi')):\n",
    "      csi = pipeline_utils.extract_csi(msg, comp)\n",
    "      # print(np.shape(csi))\n",
    "      benchmark = csi[subcarrier, 0, tx]\n",
    "      for i in range(0, 4):\n",
    "          data = csi[subcarrier, i, tx] / benchmark\n",
    "          allData[i][0].append(data.real)\n",
    "          allData[i][1].append(data.imag)\n",
    "      num += 1\n",
    "            # print(np.abs(csi[subcarrier, i, j]))\n",
    "      # return\n",
    "  for i in range(0, 4):\n",
    "    ax.scatter(allData[i][0], allData[i][1], c=colors[i], label=f\"Rx{i}\", s=1)\n",
    "  # ax.scatter(reals, imags, c=colors * num, s=1)\n",
    "  ax.legend()\n",
    "  if (saveName == None):\n",
    "    plt.show()\n",
    "  else:\n",
    "    plt.savefig(saveName)\n",
    "# plot_csi_data_complex(bag1, 2, 1, title=f\"CSI data from Tx{2} and subcarrier {1}, Position (-1, 0, 0)\")\n",
    "# plot_csi_data_complex(bag2, 2, 1, title=f\"CSI data from Tx{2} and subcarrier {1}, Position (-2, 0, 0)\")\n",
    "# plot_csi_data_complex(bag4, 2, 1, title=f\"CSI data from Tx{2} and subcarrier {1}, Position (-3, 0, 0)\")\n",
    "i = 0\n",
    "pos = positions[i]\n",
    "plot_csi_data_complex(bags[i], 2, 1, title=f\"CSI data from Tx{2} and subcarrier {1}, Position ({pos[0]}, {pos[1]}, {pos[2]})\")\n",
    "# plot_csi_data(bag2, 2, 1)\n",
    "# for i in range(0, 49):\n",
    "  # plot_csi_data(bag1, 2, i, f\"./csiTesting/normalizedImages/subcarrier{i}.png\")"
   ]
  },
  {
   "cell_type": "code",
   "execution_count": null,
   "metadata": {},
   "outputs": [
    {
     "ename": "",
     "evalue": "",
     "output_type": "error",
     "traceback": [
      "\u001b[1;31mRunning cells with '/opt/homebrew/bin/python3' requires the ipykernel package.\n",
      "\u001b[1;31mRun the following command to install 'ipykernel' into the Python environment. \n",
      "\u001b[1;31mCommand: '/opt/homebrew/bin/python3 -m pip install ipykernel -U --user --force-reinstall'"
     ]
    }
   ],
   "source": [
    "def plot_phase_data(data, tx, rx, normalize=False, ax=None, color='green', title=None, saveName=None, **kwargs):\n",
    "  allData = {0: [[], []], 1: [[], []], 2: [[], []], 3: [[], []]}\n",
    "  colors = [\"red\", \"green\", \"blue\", \"purple\"]\n",
    "  newplot = False\n",
    "  if ax == None:\n",
    "    fig, ax = plt.subplots()\n",
    "    newplot = True\n",
    "  if title == None:\n",
    "    title = f\"Phase data from Tx{tx} to Rx{rx}\"\n",
    "  ax.set_title(title)\n",
    "  if 'xlabel' not in kwargs.keys() or kwargs['xlabel']:\n",
    "    ax.set_xlabel(\"Subcarrier\")\n",
    "  if 'ylabel' not in kwargs.keys() or kwargs['ylabel']:\n",
    "    ax.set_ylabel(\"Phase (radians)\")\n",
    "  num = 0\n",
    "  for csi, t in data:\n",
    "      subcarriers = np.arange(0, 50)\n",
    "      phases = []\n",
    "      for subcarrier in range(0, 50):\n",
    "        benchmark = csi[subcarrier, 0, tx]\n",
    "        data = csi[subcarrier, rx, tx]\n",
    "        if normalize:\n",
    "           data /= benchmark\n",
    "        phase = np.angle(data)\n",
    "        phases.append(phase)\n",
    "      ax.plot(subcarriers, np.unwrap(phases), alpha=1)\n",
    "      num += 1\n",
    "  if (saveName == None and newplot):\n",
    "    print(\"SHOWING1\")\n",
    "    plt.show()\n",
    "  elif saveName != None:\n",
    "    plt.savefig(saveName)\n",
    "\n",
    "def plot_phase(bag, tx, rx, normalize=False, ax=None, color='green', title=None, saveName=None):\n",
    "  data = []\n",
    "  for topic, msg, t in tqdm.tqdm(bag.read_messages('/csi')):\n",
    "      data.append((pipeline_utils.extract_csi(msg), t))\n",
    "  plot_phase_data(data, tx, rx, normalize, ax, color, title, saveName)\n",
    "      \n",
    "# for rx in range(0, 4):\n",
    "plot_phase(bags[2], 2, 1, False)"
   ]
  },
  {
   "cell_type": "code",
   "execution_count": null,
   "metadata": {},
   "outputs": [
    {
     "ename": "",
     "evalue": "",
     "output_type": "error",
     "traceback": [
      "\u001b[1;31mRunning cells with '/opt/homebrew/bin/python3' requires the ipykernel package.\n",
      "\u001b[1;31mRun the following command to install 'ipykernel' into the Python environment. \n",
      "\u001b[1;31mCommand: '/opt/homebrew/bin/python3 -m pip install ipykernel -U --user --force-reinstall'"
     ]
    }
   ],
   "source": [
    "def g(no=True, **kwargs):\n",
    "  print(kwargs)\n",
    "g(hi=False)"
   ]
  },
  {
   "cell_type": "code",
   "execution_count": null,
   "metadata": {},
   "outputs": [
    {
     "ename": "",
     "evalue": "",
     "output_type": "error",
     "traceback": [
      "\u001b[1;31mRunning cells with '/opt/homebrew/bin/python3' requires the ipykernel package.\n",
      "\u001b[1;31mRun the following command to install 'ipykernel' into the Python environment. \n",
      "\u001b[1;31mCommand: '/opt/homebrew/bin/python3 -m pip install ipykernel -U --user --force-reinstall'"
     ]
    }
   ],
   "source": [
    "def plot_magnitude_data(data, tx, rx, normalize=False, ax=None, color='green', title=None, saveName=None):\n",
    "  allData = {0: [[], []], 1: [[], []], 2: [[], []], 3: [[], []]}\n",
    "  colors = [\"red\", \"green\", \"blue\", \"purple\"]\n",
    "  newplot = False\n",
    "  if ax == None:\n",
    "    fig, ax = plt.subplots()\n",
    "    newplot = True\n",
    "  # ax.set(xlim=(-1, 3), ylim=(-1, 3))\n",
    "  if title == None:\n",
    "    title = f\"Magnitude data from Tx{tx} to Rx{rx}\"\n",
    "  ax.set_title(title)\n",
    "  ax.set_ylabel(\"Magnitude (dBm)\")\n",
    "  ax.set_xlabel(\"Subcarrier\")\n",
    "  num = 0\n",
    "  for csi, t in data:\n",
    "      subcarriers = np.arange(0, 50)\n",
    "      magnitudes = []\n",
    "      for subcarrier in range(0, 50):\n",
    "        benchmark = csi[subcarrier, 0, tx]\n",
    "        data = csi[subcarrier, rx, tx]\n",
    "        if normalize:\n",
    "           data /= benchmark\n",
    "        magnitude = 20*np.log10(np.abs(data))\n",
    "        magnitudes.append(magnitude)\n",
    "      ax.plot(subcarriers, magnitudes, alpha=1)\n",
    "      num += 1\n",
    "  if (saveName == None and newplot):\n",
    "    print(\"SHOWING2\")\n",
    "    plt.show()\n",
    "  elif saveName != None:\n",
    "    plt.savefig(saveName)\n",
    "\n",
    "def plot_magnitude(bag, tx, rx, normalize=False, ax=None, color='green', title=None, saveName=None):\n",
    "  data = []\n",
    "  for topic, msg, t in tqdm.tqdm(bag.read_messages('/csi')):\n",
    "      data.append((pipeline_utils.extract_csi(msg, comp), t))\n",
    "  plot_magnitude_data(data, tx, rx, normalize, ax, color, title, saveName)\n",
    "      \n",
    "# for rx in range(0, 4):\n",
    "plot_magnitude(bags[2], 2, 0, True)"
   ]
  },
  {
   "cell_type": "code",
   "execution_count": null,
   "metadata": {},
   "outputs": [
    {
     "ename": "",
     "evalue": "",
     "output_type": "error",
     "traceback": [
      "\u001b[1;31mRunning cells with '/opt/homebrew/bin/python3' requires the ipykernel package.\n",
      "\u001b[1;31mRun the following command to install 'ipykernel' into the Python environment. \n",
      "\u001b[1;31mCommand: '/opt/homebrew/bin/python3 -m pip install ipykernel -U --user --force-reinstall'"
     ]
    }
   ],
   "source": [
    "def phase_amplidude_2x4(bag, figure_title=\"\", phaseRange=None, magRange=None, normalize=False):\n",
    "  fig, axs = plt.subplots(2, 4, figsize=(10, 6),\n",
    "                            sharey=False, layout='constrained')\n",
    "  colors = [\"red\", \"green\", \"blue\", \"purple\"]\n",
    "  fig.suptitle(figure_title)\n",
    "  \n",
    "  for rx in range(0, 4):\n",
    "    if phaseRange != None:\n",
    "      axs[0, rx].set_ylim(phaseRange)\n",
    "    if magRange != None:\n",
    "      axs[1, rx].set_ylim(magRange)\n",
    "    plot_phase(bag, 2, rx, normalize, axs[0, rx], colors[rx], f\"Rx{rx}\")\n",
    "    plot_magnitude(bag, 2, rx, False, axs[1, rx], colors[rx], \"\")\n",
    "  plt.show()\n",
    "# for bag, pos in zip(bags, positions):\n",
    "  # phase_amplidude_2x4(bag, f\"CSI data from Tx{2}, Position ({pos[0]}, {pos[1]}, {pos[2]})\", (-10, 10), (100, 150))"
   ]
  },
  {
   "cell_type": "code",
   "execution_count": null,
   "metadata": {},
   "outputs": [
    {
     "ename": "",
     "evalue": "",
     "output_type": "error",
     "traceback": [
      "\u001b[1;31mRunning cells with '/opt/homebrew/bin/python3' requires the ipykernel package.\n",
      "\u001b[1;31mRun the following command to install 'ipykernel' into the Python environment. \n",
      "\u001b[1;31mCommand: '/opt/homebrew/bin/python3 -m pip install ipykernel -U --user --force-reinstall'"
     ]
    }
   ],
   "source": [
    "# phase_amplidude_2x4(testBag2, \"CSI data from Tx2\", (-15, 15), (100, 160))"
   ]
  },
  {
   "cell_type": "code",
   "execution_count": null,
   "metadata": {},
   "outputs": [
    {
     "ename": "",
     "evalue": "",
     "output_type": "error",
     "traceback": [
      "\u001b[1;31mRunning cells with '/opt/homebrew/bin/python3' requires the ipykernel package.\n",
      "\u001b[1;31mRun the following command to install 'ipykernel' into the Python environment. \n",
      "\u001b[1;31mCommand: '/opt/homebrew/bin/python3 -m pip install ipykernel -U --user --force-reinstall'"
     ]
    }
   ],
   "source": [
    "def plot_subcarrier_phase(bag, tx, subcarrier, title=None, saveName=None, invert=False):\n",
    "  allData = {0: [[], []], 1: [[], []], 2: [[], []], 3: [[], []]}\n",
    "  colors = [\"red\", \"green\", \"blue\", \"purple\"]\n",
    "  fig, ax = plt.subplots()\n",
    "  if title == None:\n",
    "    title = f\"Phase data from Tx{tx}\"\n",
    "  plt.title(title)\n",
    "  plt.ylabel(\"Phase (radians)\")\n",
    "  plt.xlabel(\"Time\")\n",
    "  num = 0\n",
    "  for topic, msg, t in tqdm.tqdm(bag.read_messages('/csi')):\n",
    "      csi = pipeline_utils.extract_csi(msg, comp)\n",
    "      if invert:\n",
    "        csi = csi.transpose(0, 2, 1)\n",
    "      for i in range(0, 4):\n",
    "          # for subcarrier in range(0, 50):\n",
    "        benchmark = csi[subcarrier, 0, tx]\n",
    "        data = csi[subcarrier, i, tx] / benchmark\n",
    "        phase = np.angle(data)\n",
    "        allData[i][0].append(t.to_sec())\n",
    "        allData[i][1].append(phase)\n",
    "      num += 1\n",
    "      # break\n",
    "            # print(np.abs(csi[subcarrier, i, j]))\n",
    "      # return\n",
    "  for i in range(0, 4):\n",
    "    ax.scatter(allData[i][0], np.unwrap(allData[i][1]), c=colors[i], label=f\"Rx{i}\", s=1, alpha=1)\n",
    "    # ax.scatter(allData[i][0], np.array(allData[i][1]) + 360, c=colors[i], label=f\"Rx{i}\", s=1, alpha=0.2)\n",
    "    # ax.scatter(allData[i][0], np.array(allData[i][1]) - 360, c=colors[i], label=f\"Rx{i}\", s=1, alpha=0.2)\n",
    "  # ax.scatter(reals, imags, c=colors * num, s=1)\n",
    "  ax.legend()\n",
    "  if (saveName == None):\n",
    "    print(\"SHOWING5\")\n",
    "    plt.show()\n",
    "  else:\n",
    "    plt.savefig(saveName)\n",
    "# for i in range(0, 10):\n",
    "  # plot_subcarrier_phase(bag4, 2, i, title=f\"CSI data from Tx{2}, Subcarrier {i}, Position (-2, 0, 0)\")"
   ]
  },
  {
   "cell_type": "code",
   "execution_count": null,
   "metadata": {},
   "outputs": [
    {
     "ename": "",
     "evalue": "",
     "output_type": "error",
     "traceback": [
      "\u001b[1;31mRunning cells with '/opt/homebrew/bin/python3' requires the ipykernel package.\n",
      "\u001b[1;31mRun the following command to install 'ipykernel' into the Python environment. \n",
      "\u001b[1;31mCommand: '/opt/homebrew/bin/python3 -m pip install ipykernel -U --user --force-reinstall'"
     ]
    }
   ],
   "source": [
    "def plot_csi_data_phases_unwrap(bag, tx, title=None, saveName=None):\n",
    "  allData = {0: [[], []], 1: [[], []], 2: [[], []], 3: [[], []]}\n",
    "  colors = [\"red\", \"green\", \"blue\", \"purple\"]\n",
    "  fig, ax = plt.subplots()\n",
    "  # ax.set(xlim=(-1, 3), ylim=(-1, 3))\n",
    "  if title == None:\n",
    "    title = f\"Phase data from Tx{tx}\"\n",
    "  plt.title(title)\n",
    "  plt.ylabel(\"Phase (degrees)\")\n",
    "  plt.xlabel(\"Subcarrier\")\n",
    "  num = 0\n",
    "  for topic, msg, t in tqdm.tqdm(bag.read_messages('/csi')):\n",
    "      csi = pipeline_utils.extract_csi(msg, comp)\n",
    "      # print(np.shape(csi))\n",
    "      for i in range(0, 4):\n",
    "          for subcarrier in range(0, 50):\n",
    "            benchmark = csi[subcarrier, 0, tx]\n",
    "            data = csi[subcarrier, i, tx] / benchmark\n",
    "            phase = np.angle(data, True)\n",
    "            allData[i][0].append(subcarrier)\n",
    "            allData[i][1].append(phase)\n",
    "      num += 1\n",
    "            # print(np.abs(csi[subcarrier, i, j]))\n",
    "      # return\n",
    "  for i in range(0, 2):\n",
    "    ax.scatter(allData[i][0], np.unwrap(allData[i][1]), c=colors[i], label=f\"Rx{i}\", s=1, alpha=0.2)\n",
    "    # ax.scatter(allData[i][0], np.array(allData[i][1]) + 360, c=colors[i], label=f\"Rx{i}\", s=1, alpha=0.2)\n",
    "    # ax.scatter(allData[i][0], np.array(allData[i][1]) - 360, c=colors[i], label=f\"Rx{i}\", s=1, alpha=0.2)\n",
    "  # ax.scatter(reals, imags, c=colors * num, s=1)\n",
    "  ax.legend()\n",
    "  if (saveName == None):\n",
    "    plt.show()\n",
    "  else:\n",
    "    plt.savefig(saveName)\n",
    "\n",
    "  plot_csi_data_phases_unwrap(bags[2], 2, title=f\"CSI data from Tx{2} and subcarrier {1}, Position (-2, 0, 0)\")"
   ]
  },
  {
   "cell_type": "code",
   "execution_count": null,
   "metadata": {},
   "outputs": [
    {
     "ename": "",
     "evalue": "",
     "output_type": "error",
     "traceback": [
      "\u001b[1;31mRunning cells with '/opt/homebrew/bin/python3' requires the ipykernel package.\n",
      "\u001b[1;31mRun the following command to install 'ipykernel' into the Python environment. \n",
      "\u001b[1;31mCommand: '/opt/homebrew/bin/python3 -m pip install ipykernel -U --user --force-reinstall'"
     ]
    }
   ],
   "source": [
    "timestamps = []\n",
    "with open(\"./csiTesting/poses227.txt\") as f:\n",
    "  for line in f.readlines():\n",
    "    if line[0] == \"#\":\n",
    "      continue\n",
    "    parts = list(map(lambda x: float(x), line.split(\" \")))\n",
    "    if (parts[0] < 1709065780):\n",
    "      continue\n",
    "    timestamps.append((parts[0], parts[1], parts[2], parts[3]))\n",
    "timestamps"
   ]
  },
  {
   "cell_type": "code",
   "execution_count": null,
   "metadata": {},
   "outputs": [
    {
     "ename": "",
     "evalue": "",
     "output_type": "error",
     "traceback": [
      "\u001b[1;31mRunning cells with '/opt/homebrew/bin/python3' requires the ipykernel package.\n",
      "\u001b[1;31mRun the following command to install 'ipykernel' into the Python environment. \n",
      "\u001b[1;31mCommand: '/opt/homebrew/bin/python3 -m pip install ipykernel -U --user --force-reinstall'"
     ]
    }
   ],
   "source": [
    "testBag2 = rosbag.Bag(\"./csiTesting/roomba1_2024-02-27-14-26-43.bag\")\n",
    "\n",
    "def interpolate_data(bag, timestamps):\n",
    "  # list of tuples (time, x, y, z, csi, rssi)\n",
    "  data = []\n",
    "  upperIndex = 1\n",
    "  for (topic, msg, t), k in zip(tqdm.tqdm(bag.read_messages('/csi')), bag):\n",
    "    t = t.to_sec()\n",
    "    if (t < timestamps[0][0]):\n",
    "      continue\n",
    "    if (t > timestamps[-1][0]):\n",
    "      break\n",
    "    if (t >= timestamps[upperIndex][0]):\n",
    "      upperIndex += 1\n",
    "    lowerIndex = upperIndex - 1\n",
    "    lowerTime, lowerX, lowerY, lowerZ = timestamps[lowerIndex]\n",
    "    upperTime, upperX, upperY, upperZ = timestamps[upperIndex]\n",
    "    frac = (t - lowerTime) / (upperTime - lowerTime)\n",
    "    x = lowerX + frac * (upperX - lowerX)\n",
    "    y = lowerY + frac * (upperY - lowerY)\n",
    "    z = lowerZ + frac * (upperZ - lowerZ)\n",
    "    csi = pipeline_utils.extract_csi(msg, comp)\n",
    "    rssi = k[1].rssi\n",
    "    data.append((t, x, y, z, csi, rssi))\n",
    "  return data\n",
    "allData = interpolate_data(testBag2, timestamps)\n",
    "# print(timeToPositionToCSI[0])\n",
    "for i in allData:\n",
    "  print(i[5])\n",
    "# print(allData[0][5])"
   ]
  },
  {
   "cell_type": "code",
   "execution_count": null,
   "metadata": {},
   "outputs": [
    {
     "ename": "",
     "evalue": "",
     "output_type": "error",
     "traceback": [
      "\u001b[1;31mRunning cells with '/opt/homebrew/bin/python3' requires the ipykernel package.\n",
      "\u001b[1;31mRun the following command to install 'ipykernel' into the Python environment. \n",
      "\u001b[1;31mCommand: '/opt/homebrew/bin/python3 -m pip install ipykernel -U --user --force-reinstall'"
     ]
    }
   ],
   "source": [
    "from mpl_toolkits.mplot3d import Axes3D\n",
    "def consolidate(data, n=10):\n",
    "  newData = []\n",
    "  for i in range(0, len(data), n):\n",
    "    sum = 0\n",
    "    for j in range(0, n):\n",
    "      if (i + j >= len(data)):\n",
    "        n = j\n",
    "        break\n",
    "      sum += data[i+j]\n",
    "    newData.append(sum / n)\n",
    "  return newData\n",
    "\n",
    "def consolidateSOA(data, n=10):\n",
    "  newData = []\n",
    "  for d in data:\n",
    "    newData.append(consolidate(d, n))\n",
    "  return newData\n",
    "\n",
    "\n",
    "def get_median_magnitude(csi, rx):\n",
    "  sum = 0\n",
    "  allMagnitudes = [csi[subcarrier, rx, 2] for subcarrier in range(0, 50)]\n",
    "  allMagnitudes.sort()\n",
    "  return 20*np.log10(np.abs(allMagnitudes[25]))\n",
    "\n",
    "def get_mean_magnitude(csi, rx):\n",
    "  sum = 0\n",
    "  allMagnitudes = [csi[subcarrier, rx, 2] for subcarrier in range(0, 50)]\n",
    "  for data in allMagnitudes:\n",
    "    sum += 20*np.log10(np.abs(data))\n",
    "    # sum += np.abs(data)\n",
    "  return sum / 50\n",
    "\n",
    "def plot_3d_data(plotData, i=None, ax=None, title=None, savename=None):\n",
    "  fig = None\n",
    "  newPlot = False\n",
    "  if ax == None:\n",
    "    fig = plt.figure()\n",
    "    ax = fig.add_subplot(projection='3d')\n",
    "    newPlot = True\n",
    "  ax.set_xlabel(\"X\")\n",
    "  ax.set_ylabel(\"Y\")\n",
    "  ax.set_zlabel(\"Z\")\n",
    "  ax.set_xlim(-1, 1)\n",
    "  ax.set_ylim(-1.5, 0.5)\n",
    "  ax.set_zlim(0, 2)\n",
    "  if title == None:\n",
    "    # title = f\"Magnitude of CSI data from Tx2 (Mean over subcarriers)\"\n",
    "    title = f\"RSSI data\"\n",
    "  ax.set_title(title)\n",
    "  sc = ax.scatter(plotData[0], plotData[1], plotData[2], c=plotData[3], cmap=\"viridis\", alpha=0.5)\n",
    "  if i != None:\n",
    "    ax.scatter(plotData[0][i], plotData[1][i], plotData[2][i], color=\"red\", s=100)\n",
    "  if fig != None:\n",
    "    fig.colorbar(sc)\n",
    "  # ax.set_box_aspect((1,1,1))\n",
    "  ax.azim = 20\n",
    "  if (savename == None and newPlot):\n",
    "    plt.show()\n",
    "  elif savename != None:\n",
    "    plt.savefig(savename)\n",
    "\n",
    "def get_plot_data(combinedData):\n",
    "  plotData = [[], [], [], []]\n",
    "  for time, x, y, z, csi, rssi in combinedData:\n",
    "    # magnitude = (get_mean_magnitude(csi, 0) + get_mean_magnitude(csi, 1) + get_mean_magnitude(csi, 2) + get_mean_magnitude(csi, 3))/4\n",
    "    magnitude = rssi\n",
    "    plotData[0].append(x)\n",
    "    plotData[1].append(y)\n",
    "    plotData[2].append(z)\n",
    "    plotData[3].append(magnitude)\n",
    "  return plotData\n",
    "\n",
    "def plot_csi_data_3d(bag, timestamps, ax=None, title=None, savename=None):\n",
    "  combinedData = interpolate_data(bag, timestamps)\n",
    "  plotData = get_plot_data(combinedData)\n",
    "  plotData = np.array(consolidateSOA(plotData, 1))\n",
    "  plot_3d_data(plotData, ax, title, savename)\n",
    "\n",
    "plot_csi_data_3d(testBag2, timestamps)\n"
   ]
  },
  {
   "cell_type": "code",
   "execution_count": null,
   "metadata": {},
   "outputs": [
    {
     "ename": "",
     "evalue": "",
     "output_type": "error",
     "traceback": [
      "\u001b[1;31mRunning cells with '/opt/homebrew/bin/python3' requires the ipykernel package.\n",
      "\u001b[1;31mRun the following command to install 'ipykernel' into the Python environment. \n",
      "\u001b[1;31mCommand: '/opt/homebrew/bin/python3 -m pip install ipykernel -U --user --force-reinstall'"
     ]
    }
   ],
   "source": [
    "def generate_frame(consolidatedData, frame, phaseRange=None, magRange=None, saveName=None):\n",
    "  frameSize = 3\n",
    "  fig = plt.figure(figsize=(15, 5))\n",
    "  axs = [[], []]\n",
    "  for i in range(0, 4):\n",
    "    axs[0].append(fig.add_subplot(2, 6, i + 1))\n",
    "    axs[1].append(fig.add_subplot(2, 6, i + 7))\n",
    "  thingy = fig.add_subplot(1, 3, 3, projection='3d')\n",
    "  thingy.set_title(\"OOPS\")\n",
    "  fig.suptitle(\"CSI data from Tx2\")\n",
    "  data = []\n",
    "  for i in range(0, frameSize):\n",
    "    part = consolidatedData[frame * frameSize + i]\n",
    "    # print(part)\n",
    "    data.append((part[4], part[0]))\n",
    "  for rx in range(0, 4):\n",
    "    if phaseRange != None:\n",
    "      axs[0][rx].set_ylim(phaseRange)\n",
    "    if magRange != None:\n",
    "      axs[1][rx].set_ylim(magRange)\n",
    "    ylabel = True\n",
    "    if rx > 0:\n",
    "      axs[0][rx].set_yticklabels([])\n",
    "      axs[1][rx].set_yticklabels([])\n",
    "      ylabel = False\n",
    "    plot_phase_data(data, 2, rx, False, axs[0][rx], \"helli\", f\"Rx{rx}\", ylabel=ylabel, xlabel=False)\n",
    "    plot_magnitude_data(data, 2, rx, False, axs[1][rx], \"hello\", \"\")\n",
    "  plot_3d_data(np.array(consolidateSOA(get_plot_data(consolidatedData), frameSize)), i=frame, ax=thingy, title=\"Position\")\n",
    "  if saveName == None:\n",
    "    print(\"SHOWING\")\n",
    "    plt.show()\n",
    "  else:\n",
    "    plt.savefig(saveName)\n",
    "    plt.close()\n",
    "\n",
    "\n",
    "generate_frame(allData, 2, (-15, 15), (100, 160), \"Testimage.png\")\n",
    "numFrames = int(len(allData) / 3)\n",
    "# for i in range(0, numFrames):\n",
    "  # generate_frame(allData, i, (-15, 15), (100, 160), f\"./consolidatedFrames/frame{i}.png\")"
   ]
  },
  {
   "cell_type": "code",
   "execution_count": null,
   "metadata": {},
   "outputs": [
    {
     "ename": "",
     "evalue": "",
     "output_type": "error",
     "traceback": [
      "\u001b[1;31mRunning cells with '/opt/homebrew/bin/python3' requires the ipykernel package.\n",
      "\u001b[1;31mRun the following command to install 'ipykernel' into the Python environment. \n",
      "\u001b[1;31mCommand: '/opt/homebrew/bin/python3 -m pip install ipykernel -U --user --force-reinstall'"
     ]
    }
   ],
   "source": [
    "# code = cv2.VideoWriter_fourcc(*'M4S2')\n",
    "# out = cv2.VideoWriter(\"newVideo.mp4\", code, 5, (1500, 500))\n",
    "# for i in range(0, numFrames):\n",
    "#   frame = cv2.imread(f\"./consolidatedFrames/frame{i}.png\")\n",
    "#   out.write(frame)\n",
    "# out.release()\n"
   ]
  },
  {
   "cell_type": "code",
   "execution_count": null,
   "metadata": {},
   "outputs": [
    {
     "ename": "",
     "evalue": "",
     "output_type": "error",
     "traceback": [
      "\u001b[1;31mRunning cells with '/opt/homebrew/bin/python3' requires the ipykernel package.\n",
      "\u001b[1;31mRun the following command to install 'ipykernel' into the Python environment. \n",
      "\u001b[1;31mCommand: '/opt/homebrew/bin/python3 -m pip install ipykernel -U --user --force-reinstall'"
     ]
    }
   ],
   "source": [
    "def draw_channel_image_4x4(channel_1, channel_2):\n",
    "    print(\"afad\")\n",
    "    num_tx_slots = channel_1.shape[2]\n",
    "    num_rx_slots = channel_1.shape[1]\n",
    "    tx_ant_labels = [f\"Tx Ant {i}\" for i in range(num_tx_slots)]\n",
    "    rx_ant_labels = [f\"Rx Ant {i}\" for i in range(num_rx_slots)]\n",
    "    fig, axs = plt.subplots(num_tx_slots*2, num_rx_slots, figsize=(24, 24),\n",
    "                            gridspec_kw={'height_ratios': [1, 0.7] * num_tx_slots})\n",
    "    # add tick for phase plot\n",
    "    y_tick_positions = [-np.pi, -np.pi/2, 0, np.pi/2, np.pi]\n",
    "    y_tick_labels = [r'$-\\pi$', r'$-\\frac{\\pi}{2}$', '0', r'$\\frac{\\pi}{2}$', r'$\\pi$']\n",
    "    amplitude_1 = (np.abs(channel_1))\n",
    "    amplitude_2 = (np.abs(channel_2))\n",
    "    min_amp = min(np.min(amplitude_1), np.min(amplitude_2))\n",
    "    max_amp = max(np.max(amplitude_1), np.max(amplitude_2))\n",
    "    phase_1 = np.unwrap(np.angle(channel_1))\n",
    "    phase_2 = np.unwrap(np.angle(channel_2))\n",
    "    min_phase = min(np.min(phase_1), np.min(phase_2))\n",
    "    max_phase = max(np.max(phase_1), np.max(phase_2))\n",
    "    print(min_phase, max_phase)\n",
    "    for i in range(0, num_tx_slots*2, 2):\n",
    "        for j in range(num_rx_slots):\n",
    "            if i == 0:\n",
    "                # Place Rx antenna labels at the top\n",
    "                axs[i, j].set_title(f\"Rx Ant {j}\", fontsize=16)\n",
    "            if j == 0:\n",
    "                # Place Tx antenna labels on the left \n",
    "                axs[i, j].text(-0.2, 0, f\"Tx Ant {i//2}\", va='center', ha='center',\n",
    "                               rotation='vertical', transform=axs[i, 0].transAxes, fontsize=16)\n",
    "            # plot magnitude\n",
    "            axs[i, j].set_xlabel(\"Subcarrier indices\")\n",
    "            axs[i, j].set_ylabel(\"Magnitude (dB)\")\n",
    "            axs[i, j].set_ylim(min_amp-10, max_amp+10)\n",
    "            # axs[i, j].plot(20*np.log10(np.abs(channel_1[:, j, i//2])),\n",
    "            #                label=\"LOS\")\n",
    "            axs[i, j].plot((np.abs(channel_1[:, j, i//2])),\n",
    "                           label=\"LOS\")\n",
    "            # axs[i, j].plot(20*np.log10(np.abs(channel_2[:, j, i//2])),\n",
    "                        #    label=\"NLOS\")\n",
    "            axs[i, j].legend()\n",
    "            # plot phase\n",
    "            axs[i+1, j].set_xlabel(\"Subcarrier indices\")\n",
    "            axs[i+1, j].set_ylabel(\"Phase (deg)\")\n",
    "            axs[i+1, j].set_ylim(min_phase, max_phase)\n",
    "            axs[i+1, j].set_yticks(y_tick_positions)\n",
    "            axs[i+1, j].set_yticklabels(y_tick_labels)\n",
    "            # don't wrap \n",
    "            # axs[i+1, j].plot(np.angle(channel_1[:, j, i//2]),\n",
    "            #                  label=\"LOS\")\n",
    "            # axs[i+1, j].plot(np.angle(channel_2[:, j, i//2]),\n",
    "            #                  label=\"NLOS\")\n",
    "            axs[i+1, j].plot(np.unwrap(np.angle(channel_1[:, j, i//2])),\n",
    "                             label=\"LOS\")\n",
    "            axs[i+1, j].plot(np.unwrap(np.angle(channel_2[:, j, i//2])),\n",
    "                             label=\"NLOS2\")\n",
    "            axs[i+1, j].legend() \n",
    "    fig.set_tight_layout(True)   \n",
    "    plt.savefig('40 157 los vs nlos.png')\n",
    "    plt.show()\n",
    "   \n",
    "\n",
    "def draw_amplitude_4x4(channel, figure_title=\"\"):\n",
    "    print(\"afad\")\n",
    "    num_tx_slots = channel.shape[2]\n",
    "    num_rx_slots = channel.shape[1]\n",
    "    fig, axs = plt.subplots(num_tx_slots, num_rx_slots, figsize=(24, 24),\n",
    "                            sharey=True, layout='constrained')\n",
    "    fig.suptitle(figure_title, fontsize=24)\n",
    "    # add tick for phase plot\n",
    "    amplitude = (np.abs(channel))\n",
    "    min_amp = np.min(amplitude)\n",
    "    max_amp = np.max(amplitude)\n",
    "    for i in range(num_tx_slots):\n",
    "        for j in range(num_rx_slots):\n",
    "            if i == 0:\n",
    "                # Place Rx antenna labels at the top\n",
    "                axs[i, j].set_title(f\"Rx Ant {j}\", fontsize=16)\n",
    "            if j == 0:\n",
    "                # Place Tx antenna labels on the left \n",
    "                axs[i, j].text(-0.2, 0.5, f\"Tx Ant {i}\", va='center', ha='center',\n",
    "                               rotation='vertical', transform=axs[i, 0].transAxes, fontsize=16)\n",
    "                \n",
    "            # plot magnitude\n",
    "            axs[i, j].set_xlabel(\"Subcarrier indices\")\n",
    "            axs[i, j].set_ylabel(\"Magnitude\")\n",
    "            axs[i, j].set_ylim(min_amp-10, max_amp+10)\n",
    "            axs[i, j].plot((np.abs(channel[:, j, i])),\n",
    "                           label=\"LOS\")\n",
    "            axs[i, j].legend()\n",
    "    fig.set_tight_layout(True)   \n",
    "    # plt.savefig('40 157 los vs nlos.png')\n",
    "    plt.show()"
   ]
  },
  {
   "cell_type": "code",
   "execution_count": null,
   "metadata": {},
   "outputs": [
    {
     "ename": "",
     "evalue": "",
     "output_type": "error",
     "traceback": [
      "\u001b[1;31mRunning cells with '/opt/homebrew/bin/python3' requires the ipykernel package.\n",
      "\u001b[1;31mRun the following command to install 'ipykernel' into the Python environment. \n",
      "\u001b[1;31mCommand: '/opt/homebrew/bin/python3 -m pip install ipykernel -U --user --force-reinstall'"
     ]
    }
   ],
   "source": [
    "def draw_amplitudes_4x4(bag, figure_title=\"\", average=False, fig=None, axs=None, show=True, min_a=None, max_a=None):\n",
    "    print(\"afad\")\n",
    "    num_tx_slots = 4\n",
    "    num_rx_slots = 4\n",
    "    tx_ant_labels = [f\"Tx Ant {i}\" for i in range(num_tx_slots)]\n",
    "    rx_ant_labels = [f\"Rx Ant {i}\" for i in range(num_rx_slots)]\n",
    "    if (fig is None):\n",
    "        fig, axs = plt.subplots(num_tx_slots, num_rx_slots, figsize=(24, 24),\n",
    "                            sharey=True, layout='constrained')\n",
    "        fig.suptitle(figure_title, fontsize=24)\n",
    "    # add tick for phase plot\n",
    "    y_tick_positions = [-np.pi, -np.pi/2, 0, np.pi/2, np.pi]\n",
    "    y_tick_labels = [r'$-\\pi$', r'$-\\frac{\\pi}{2}$', '0', r'$\\frac{\\pi}{2}$', r'$\\pi$']\n",
    "    # amplitude = (np.abs(channel))\n",
    "    min_amp = 1000\n",
    "    max_amp = -1000\n",
    "    # phase = np.unwrap(np.angle(channel))\n",
    "    # min_phase = np.min(phase)\n",
    "    # max_phase = np.max(phase)\n",
    "    \n",
    "    for i in range(num_tx_slots):\n",
    "        for j in range(num_rx_slots):\n",
    "                if i == 0:\n",
    "                    # Place Rx antenna labels at the top\n",
    "                    axs[i, j].set_title(f\"Rx Ant {j}\", fontsize=16)\n",
    "                if j == 0:\n",
    "                # Place Tx antenna labels on the left \n",
    "                    axs[i, j].text(-0.2, 0.5, f\"Tx Ant {i}\", va='center', ha='center',\n",
    "                rotation='vertical', transform=axs[i, 0].transAxes, fontsize=16)\n",
    "                k = 20\n",
    "                if not average:\n",
    "                    for data in bag:\n",
    "                        channel = pipeline_utils.extract_csi(data[1], comp, False, valid_tx_ant)\n",
    "                        amplitude = (np.abs(channel))\n",
    "                        min_amp = min(np.min(amplitude), min_amp)\n",
    "                        max_amp = max(np.max(amplitude), max_amp)\n",
    "                        # axs[i, j].plot((np.abs(channel[:, j, i])), label=\"l\")\n",
    "                        axs[i, j].plot((amplitude[:, j, i]), label=\"l\")\n",
    "                        k += 1\n",
    "                        if k == 30:\n",
    "                            break\n",
    "                else:\n",
    "                    totalValues = None\n",
    "                    for data in bag:\n",
    "                        channel = pipeline_utils.extract_csi(data[1], None, False, valid_tx_ant)\n",
    "                        if totalValues is None:\n",
    "                            totalValues = channel\n",
    "                        else:\n",
    "                            totalValues += channel\n",
    "                        k += 1\n",
    "                        if k == 30:\n",
    "                            break\n",
    "                    amplitude = (np.abs(totalValues))\n",
    "                    min_amp = min(np.min(amplitude), min_amp)\n",
    "                    max_amp = max(np.max(amplitude), max_amp)\n",
    "                    # axs[i, j].plot((np.abs(channel[:, j, i])), label=\"l\")\n",
    "                    axs[i, j].plot((amplitude[:, j, i]), label=\"l\")\n",
    "                     \n",
    "\n",
    "                    \n",
    "                # plot magnitude\n",
    "                axs[i, j].set_xlabel(\"Subcarrier indices\")\n",
    "                axs[i, j].set_ylabel(\"Magnitude\")\n",
    "                if (min_a != None):\n",
    "                     min_amp = min_a\n",
    "                if (max_a != None):\n",
    "                     max_amp = max_a\n",
    "                mi, ma = axs[i, j].get_ylim()\n",
    "                axs[i, j].set_ylim(min(mi,min_amp-10), max(ma, max_amp+10))\n",
    "\n",
    "                # axs[i, j].legend()\n",
    "    fig.set_tight_layout(True)   \n",
    "    # plt.savefig('40 157 los vs nlos.png')\n",
    "    if show:\n",
    "        plt.show()"
   ]
  },
  {
   "cell_type": "code",
   "execution_count": null,
   "metadata": {},
   "outputs": [
    {
     "ename": "",
     "evalue": "",
     "output_type": "error",
     "traceback": [
      "\u001b[1;31mRunning cells with '/opt/homebrew/bin/python3' requires the ipykernel package.\n",
      "\u001b[1;31mRun the following command to install 'ipykernel' into the Python environment. \n",
      "\u001b[1;31mCommand: '/opt/homebrew/bin/python3 -m pip install ipykernel -U --user --force-reinstall'"
     ]
    }
   ],
   "source": [
    "draw_amplitudes_4x4(bags[0])"
   ]
  },
  {
   "cell_type": "code",
   "execution_count": null,
   "metadata": {},
   "outputs": [
    {
     "ename": "",
     "evalue": "",
     "output_type": "error",
     "traceback": [
      "\u001b[1;31mRunning cells with '/opt/homebrew/bin/python3' requires the ipykernel package.\n",
      "\u001b[1;31mRun the following command to install 'ipykernel' into the Python environment. \n",
      "\u001b[1;31mCommand: '/opt/homebrew/bin/python3 -m pip install ipykernel -U --user --force-reinstall'"
     ]
    }
   ],
   "source": [
    "def compare_amplitudes_4x4(bags, figure_title=\"\"):\n",
    "    fig, axs = plt.subplots(4, 4, figsize=(24, 24),\n",
    "                            sharey=True, layout='constrained')\n",
    "    fig.suptitle(figure_title, fontsize=24)\n",
    "    for bag in bags:\n",
    "        print(\"drawing bag\")\n",
    "        draw_amplitudes_4x4(bag, \"\", True, fig, axs, False)\n",
    "    for i in range(4):\n",
    "        for j in range(4):\n",
    "            axs[i, j].legend([f\"Location {k}\" for k in range(1, 6)])\n",
    "    plt.show()"
   ]
  },
  {
   "cell_type": "code",
   "execution_count": null,
   "metadata": {},
   "outputs": [
    {
     "ename": "",
     "evalue": "",
     "output_type": "error",
     "traceback": [
      "\u001b[1;31mRunning cells with '/opt/homebrew/bin/python3' requires the ipykernel package.\n",
      "\u001b[1;31mRun the following command to install 'ipykernel' into the Python environment. \n",
      "\u001b[1;31mCommand: '/opt/homebrew/bin/python3 -m pip install ipykernel -U --user --force-reinstall'"
     ]
    }
   ],
   "source": []
  },
  {
   "cell_type": "code",
   "execution_count": null,
   "metadata": {},
   "outputs": [
    {
     "ename": "",
     "evalue": "",
     "output_type": "error",
     "traceback": [
      "\u001b[1;31mRunning cells with '/opt/homebrew/bin/python3' requires the ipykernel package.\n",
      "\u001b[1;31mRun the following command to install 'ipykernel' into the Python environment. \n",
      "\u001b[1;31mCommand: '/opt/homebrew/bin/python3 -m pip install ipykernel -U --user --force-reinstall'"
     ]
    }
   ],
   "source": [
    "# headon = rosbag.Bag(\"../HeadOn.bag\")\n",
    "# ninetydeg = rosbag.Bag(\"../90deg2.bag\")\n",
    "# fortyfive = rosbag.Bag(\"../45deg.bag\")\n",
    "# nfortyfive = rosbag.Bag(\"../n45deg.bag\")\n",
    "\n",
    "#aoa search space\n",
    "theta_space = np.linspace(-np.pi/2,np.pi/2,360)\n",
    "#tof search space\n",
    "tof_space = np.linspace(-40,40,240)\n",
    "\n",
    "#antenna position (interleaved x-y), see antennas.md\n",
    "rx_pos = np.asarray([0,  0,\n",
    "    0,  -0.06,\n",
    "    0,  -0.03,\n",
    "    0,  -0.09]).reshape((-1,2))\n",
    "channels = {}\n",
    "times = {}\n",
    "aoas = {}\n",
    "rssis = {}\n",
    "profs = {}\n",
    "aoa_sensors = {}\n"
   ]
  },
  {
   "cell_type": "code",
   "execution_count": null,
   "metadata": {},
   "outputs": [
    {
     "ename": "",
     "evalue": "",
     "output_type": "error",
     "traceback": [
      "\u001b[1;31mRunning cells with '/opt/homebrew/bin/python3' requires the ipykernel package.\n",
      "\u001b[1;31mRun the following command to install 'ipykernel' into the Python environment. \n",
      "\u001b[1;31mCommand: '/opt/homebrew/bin/python3 -m pip install ipykernel -U --user --force-reinstall'"
     ]
    }
   ],
   "source": [
    "print(np.shape(comp))\n",
    "print(comp[0])"
   ]
  },
  {
   "cell_type": "code",
   "execution_count": null,
   "metadata": {},
   "outputs": [
    {
     "ename": "",
     "evalue": "",
     "output_type": "error",
     "traceback": [
      "\u001b[1;31mRunning cells with '/opt/homebrew/bin/python3' requires the ipykernel package.\n",
      "\u001b[1;31mRun the following command to install 'ipykernel' into the Python environment. \n",
      "\u001b[1;31mCommand: '/opt/homebrew/bin/python3 -m pip install ipykernel -U --user --force-reinstall'"
     ]
    }
   ],
   "source": [
    "def get_angle_profiles(bag, algorithm, subcarriers = range(0, 50), txs=[0, 1, 2, 3], smoothing_window=1, compensation = comp, invert = False, conjugate=False):\n",
    "  \"\"\"Returns a list of [(time, [angles], [profile])] for each packet\n",
    "\n",
    "  Arguments:\n",
    "  - bag: The bag with csi data to get the angle profiles from\n",
    "  - algorithm: The algorithm to use to get the angle likelihood (\"music\", \"aoa\", \"fft\")\n",
    "  - subcarriers: The subcarriers to use for the algorithm. Should be a subset of the integers from 0 to 49\n",
    "  \"\"\"\n",
    "  print(\"ALGORITHM:\", algorithm)\n",
    "  num = 0\n",
    "  data = []\n",
    "  aoa_sensor = None\n",
    "  if algorithm == \"music\":\n",
    "    aoa_sensor = transform_utils.music_aoa_sensor_1d(rx_pos, theta_space, smoothing_window)\n",
    "    # aoa_sensor.prof_dim = 4\n",
    "  elif algorithm == \"aoa\":\n",
    "    aoa_sensor = transform_utils.aoa_sensor_1d(rx_pos, theta_space, smoothing_window)\n",
    "  elif algorithm == \"fft\":\n",
    "    aoa_sensor = transform_utils.fft_aoa_sensor(rx_pos, theta_space, smoothing_window)\n",
    "  elif algorithm == \"othermusic\":\n",
    "    tofs = np.linspace(-40, 40, 180)\n",
    "    aoa_sensor = transform_utils.full_music_aoa_sensor(rx_pos, theta_space, tofs, smoothing_window)\n",
    "  for topic, msg, t in tqdm.tqdm(bag.read_messages('/csi')):\n",
    "      csi = pipeline_utils.extract_csi(msg, compensation)\n",
    "      if invert:\n",
    "        csi = csi.transpose(0, 2, 1)\n",
    "      if conjugate:\n",
    "        csi = csi.conjugate()\n",
    "      #assuming this does not change\n",
    "      if algorithm == \"othermusic\":\n",
    "        res = aoa_sensor(csi, (msg.chan, msg.bw*1e6))\n",
    "        # print(\"Channel:\", msg.chan, \" BW:\", msg.bw*1e6)\n",
    "      elif algorithm == \"aoa\" or algorithm == \"music\":\n",
    "        res = aoa_sensor.run(csi, (msg.chan, msg.bw*1e6), subcarriers=subcarriers, txs=txs)\n",
    "      else:\n",
    "        res = aoa_sensor.run(csi,(msg.chan,msg.bw*1e6), subcarriers=subcarriers)\n",
    "      num += 1\n",
    "      data.append((t.to_sec(), theta_space * 180 / np.pi, res[1]))\n",
    "  print(\"Packets:\", num)\n",
    "  return data\n",
    "\n",
    "def plot_angle_profiles(data, title, ax=None, tof_indices = None, savename=None, **kwargs):\n",
    "  \"\"\"Plots a list of [(time, [angles], [profile])]\"\"\"\n",
    "  newPlot = False\n",
    "  if ax == None:\n",
    "    fig, ax = plt.subplots()\n",
    "    newPlot = True\n",
    "  ax.set_title(title)\n",
    "  if 'ylabel' in kwargs and kwargs['ylabel']:\n",
    "    ax.set_ylabel(\"Angle (degrees)\")\n",
    "  if 'xlabel' in kwargs and kwargs['xlabel']:\n",
    "    ax.set_xlabel(\"Time\")\n",
    "  for time, angles, profile in data:\n",
    "    if tof_indices is not None:\n",
    "      start_i = tof_indices[0]\n",
    "      end_i = tof_indices[1]\n",
    "      ax.scatter([time] * len(angles), angles, c=np.max(profile[:, start_i:end_i], axis=1), s=10)\n",
    "    else:\n",
    "      ax.scatter([time] * len(angles), angles, c=profile, s=10)\n",
    "  if savename is not None:\n",
    "    plt.savefig(savename)\n",
    "  elif newPlot:\n",
    "    plt.show()\n",
    "\n",
    "def plot_angle_distance_profile(profile, title=\"\", ax=None, savename=None):\n",
    "  newPlot = False\n",
    "  if ax == None:\n",
    "    fig, ax = plt.subplots()\n",
    "    newPlot = True\n",
    "  ax.set_title(title)\n",
    "  ax.set_xlabel(\"Angle (degrees)\")\n",
    "  ax.set_ylabel(\"Distance (meters)\")\n",
    "  for i, angleArray in enumerate(profile):\n",
    "    for (j, value) in enumerate(angleArray):\n",
    "      angle = i - 180\n",
    "      distance = j * 80/180 - 40\n",
    "      ax.scatter(angle, distance, c=value, s=10)\n",
    "      if j == 10:\n",
    "        break\n",
    "    if i == 10:\n",
    "      break\n",
    "  if savename is not None:\n",
    "    plt.savefig(savename)\n",
    "  elif newPlot:\n",
    "    plt.show()\n",
    "  "
   ]
  },
  {
   "cell_type": "code",
   "execution_count": null,
   "metadata": {},
   "outputs": [
    {
     "ename": "",
     "evalue": "",
     "output_type": "error",
     "traceback": [
      "\u001b[1;31mRunning cells with '/opt/homebrew/bin/python3' requires the ipykernel package.\n",
      "\u001b[1;31mRun the following command to install 'ipykernel' into the Python environment. \n",
      "\u001b[1;31mCommand: '/opt/homebrew/bin/python3 -m pip install ipykernel -U --user --force-reinstall'"
     ]
    }
   ],
   "source": [
    "# headOnData = rosbag.Bag(\"HeadOn_2024-03-13-12-17-17.bag\")\n",
    "# allProfiles = get_angle_profiles(headOnData, \"othermusic\")\n",
    "# profile = allProfiles[4][2]"
   ]
  },
  {
   "cell_type": "code",
   "execution_count": null,
   "metadata": {},
   "outputs": [
    {
     "ename": "",
     "evalue": "",
     "output_type": "error",
     "traceback": [
      "\u001b[1;31mRunning cells with '/opt/homebrew/bin/python3' requires the ipykernel package.\n",
      "\u001b[1;31mRun the following command to install 'ipykernel' into the Python environment. \n",
      "\u001b[1;31mCommand: '/opt/homebrew/bin/python3 -m pip install ipykernel -U --user --force-reinstall'"
     ]
    }
   ],
   "source": [
    "# plot_angle_distance_profile(profile)\n",
    "# print(np.shape(profile))\n",
    "headOnData = rosbag.Bag(\"HeadOn_2024-03-13-12-17-17.bag\")\n",
    "# headOnData[2][1].rssi\n",
    "for k, l in zip(headOnData, [0, 1, 2, 3]):\n",
    "  print(k[1].rssi, l)\n",
    "  # break"
   ]
  },
  {
   "cell_type": "code",
   "execution_count": null,
   "metadata": {},
   "outputs": [
    {
     "ename": "",
     "evalue": "",
     "output_type": "error",
     "traceback": [
      "\u001b[1;31mRunning cells with '/opt/homebrew/bin/python3' requires the ipykernel package.\n",
      "\u001b[1;31mRun the following command to install 'ipykernel' into the Python environment. \n",
      "\u001b[1;31mCommand: '/opt/homebrew/bin/python3 -m pip install ipykernel -U --user --force-reinstall'"
     ]
    }
   ],
   "source": [
    "def compare_angle_profiles(bags, titles, algorithm=\"aoa\", savename=None):\n",
    "    widthSize = len(bags)\n",
    "    \n",
    "    if (len(titles) != widthSize):\n",
    "        raise RuntimeError(f\"titles did not have the same length as bags (len(titles) = {len(titles)}, len(bags) = {len(bags)})\")\n",
    "    fig, axs = plt.subplots(5, widthSize, figsize=(5*widthSize, 20))\n",
    "    for i in range(0, 5):\n",
    "        if (i < 1):\n",
    "            tx = [0, 1, 2, 3]\n",
    "        else:\n",
    "            tx = [i - 1]\n",
    "        print(\"TX:\", tx)\n",
    "        # fig.suptitle(f\"Tx {tx}\")\n",
    "        for (j, bag) in enumerate(bags):\n",
    "            xlabel = i == 4\n",
    "            ylabel = j == 0\n",
    "            angleProfile = get_angle_profiles(bag, algorithm, txs=tx)\n",
    "            if (widthSize == 1):\n",
    "                ax = axs[i]\n",
    "            else:\n",
    "                ax = axs[i, j]\n",
    "            plot_angle_profiles(angleProfile, f\"Tx {tx} {titles[j]}\", ax, xlabel=xlabel, ylabel=ylabel)\n",
    "    if savename == None:\n",
    "        plt.show()\n",
    "    else:\n",
    "        plt.savefig(savename)\n"
   ]
  },
  {
   "cell_type": "code",
   "execution_count": null,
   "metadata": {},
   "outputs": [
    {
     "ename": "",
     "evalue": "",
     "output_type": "error",
     "traceback": [
      "\u001b[1;31mRunning cells with '/opt/homebrew/bin/python3' requires the ipykernel package.\n",
      "\u001b[1;31mRun the following command to install 'ipykernel' into the Python environment. \n",
      "\u001b[1;31mCommand: '/opt/homebrew/bin/python3 -m pip install ipykernel -U --user --force-reinstall'"
     ]
    }
   ],
   "source": [
    "# titles = [\"Negative AOA\"]\n",
    "# bags = [headOnData, headOnBlockedData, headOnFullBlockedData]\n",
    "# titles = [\"Head On\", \"Head On Blocked\", \"Head On Full Blocked\"]\n",
    "# testProfileAOA = get_angle_profiles(bags[0], \"aoa\", txs=[2])\n",
    "# plot_angle_profiles(testProfileAOA, \"Sense\")\n",
    "bagAoD0 = rosbag.Bag(\"csiTesting/experiment3-AoD/AoD0.bag\")\n",
    "bagAoD30 = rosbag.Bag(\"csiTesting/experiment3-AoD/AoD30.bag\")\n",
    "bagAoDn30 = rosbag.Bag(\"csiTesting/experiment3-AoD/AoD-30.bag\")\n",
    "profile = get_angle_profiles(rosbag.Bag(\"csiTesting/experiment3-AoD/AoARotating.bag\"), \"music\", txs=[2, 3], smoothing_window=5)\n",
    "# bagAoD0Profile = get_angle_profiles(bagAoD0, \"music\", txs=[0, 1, 2, 3], smoothing_window=10, invert=True, compensation=comp)\n",
    "# plot_angle_profiles(bagAoD0Profile, \"+0\")\n",
    "txs = [0]\n",
    "algo = \"music\"\n",
    "compensation = comp\n",
    "bagAoD0Profile = get_angle_profiles(bagAoD0, algo, txs=txs, smoothing_window=10, invert=True, conjugate=False, compensation=compensation)\n",
    "bagAoD0ProfileConj = get_angle_profiles(bagAoD0, algo, txs=txs, smoothing_window=10, invert=True, conjugate=False, compensation=compensation)\n",
    "bagAoD30Profile = get_angle_profiles(bagAoD30, algo, txs=txs, smoothing_window=10, invert=True, conjugate=False, compensation=compensation)\n",
    "bagAoD30ProfileConj = get_angle_profiles(bagAoD30, algo, txs=txs, smoothing_window=10, invert=True, conjugate=False, compensation=compensation)\n",
    "bagAoDn30Profile = get_angle_profiles(bagAoDn30, algo, txs=txs, smoothing_window=10, invert=True, conjugate=False, compensation=compensation)\n",
    "bagAoDn30ProfileConj = get_angle_profiles(bagAoDn30, algo, txs=txs, smoothing_window=10, invert=True, conjugate=False, compensation=compensation)\n",
    "\n",
    "# plot_angle_profiles(bagAoD0Profile, \"+0 AoD\")\n",
    "plot_angle_profiles(bagAoD0ProfileConj, \"+0 AoD\")\n",
    "# plot_angle_profiles(bagAoD30Profile, \"+30 AoD\")\n",
    "plot_angle_profiles(bagAoD30ProfileConj, \"+30 AoD\")\n",
    "# plot_angle_profiles(bagAoDn30Profile, \"-30 AoD\")\n",
    "plot_angle_profiles(bagAoDn30ProfileConj, \"-30 AoD\")\n",
    "\n"
   ]
  },
  {
   "cell_type": "code",
   "execution_count": null,
   "metadata": {},
   "outputs": [
    {
     "ename": "",
     "evalue": "",
     "output_type": "error",
     "traceback": [
      "\u001b[1;31mRunning cells with '/opt/homebrew/bin/python3' requires the ipykernel package.\n",
      "\u001b[1;31mRun the following command to install 'ipykernel' into the Python environment. \n",
      "\u001b[1;31mCommand: '/opt/homebrew/bin/python3 -m pip install ipykernel -U --user --force-reinstall'"
     ]
    }
   ],
   "source": [
    "csi = None\n",
    "for topic, msg, t in tqdm.tqdm(bagAoD0.read_messages('/csi')):\n",
    "      csi = pipeline_utils.extract_csi(msg, comp)\n",
    "      break\n",
    "# print(np.shape(csi))\n",
    "transposed = csi.transpose(0, 2, 1)\n",
    "# print(np.shape(transposed))\n",
    "# print(csi[0])\n",
    "# print(transposed[0])\n",
    "for i in range(0, 4):\n",
    "  for j in range(0, 4):\n",
    "      print(transposed[3][i][j], end=\", \")\n",
    "  print()"
   ]
  },
  {
   "cell_type": "code",
   "execution_count": null,
   "metadata": {},
   "outputs": [
    {
     "ename": "",
     "evalue": "",
     "output_type": "error",
     "traceback": [
      "\u001b[1;31mRunning cells with '/opt/homebrew/bin/python3' requires the ipykernel package.\n",
      "\u001b[1;31mRun the following command to install 'ipykernel' into the Python environment. \n",
      "\u001b[1;31mCommand: '/opt/homebrew/bin/python3 -m pip install ipykernel -U --user --force-reinstall'"
     ]
    }
   ],
   "source": []
  },
  {
   "cell_type": "code",
   "execution_count": null,
   "metadata": {},
   "outputs": [
    {
     "ename": "",
     "evalue": "",
     "output_type": "error",
     "traceback": [
      "\u001b[1;31mRunning cells with '/opt/homebrew/bin/python3' requires the ipykernel package.\n",
      "\u001b[1;31mRun the following command to install 'ipykernel' into the Python environment. \n",
      "\u001b[1;31mCommand: '/opt/homebrew/bin/python3 -m pip install ipykernel -U --user --force-reinstall'"
     ]
    }
   ],
   "source": []
  },
  {
   "cell_type": "code",
   "execution_count": null,
   "metadata": {},
   "outputs": [
    {
     "ename": "",
     "evalue": "",
     "output_type": "error",
     "traceback": [
      "\u001b[1;31mRunning cells with '/opt/homebrew/bin/python3' requires the ipykernel package.\n",
      "\u001b[1;31mRun the following command to install 'ipykernel' into the Python environment. \n",
      "\u001b[1;31mCommand: '/opt/homebrew/bin/python3 -m pip install ipykernel -U --user --force-reinstall'"
     ]
    }
   ],
   "source": []
  },
  {
   "cell_type": "code",
   "execution_count": null,
   "metadata": {},
   "outputs": [
    {
     "ename": "",
     "evalue": "",
     "output_type": "error",
     "traceback": [
      "\u001b[1;31mRunning cells with '/opt/homebrew/bin/python3' requires the ipykernel package.\n",
      "\u001b[1;31mRun the following command to install 'ipykernel' into the Python environment. \n",
      "\u001b[1;31mCommand: '/opt/homebrew/bin/python3 -m pip install ipykernel -U --user --force-reinstall'"
     ]
    }
   ],
   "source": []
  },
  {
   "cell_type": "code",
   "execution_count": null,
   "metadata": {},
   "outputs": [
    {
     "ename": "",
     "evalue": "",
     "output_type": "error",
     "traceback": [
      "\u001b[1;31mRunning cells with '/opt/homebrew/bin/python3' requires the ipykernel package.\n",
      "\u001b[1;31mRun the following command to install 'ipykernel' into the Python environment. \n",
      "\u001b[1;31mCommand: '/opt/homebrew/bin/python3 -m pip install ipykernel -U --user --force-reinstall'"
     ]
    }
   ],
   "source": [
    "phase_amplidude_2x4(headOnFullBlockedData, \"Head On\")\n",
    "p = get_angle_profiles(testBag2, \"aoa\")\n",
    "plot_angle_profiles(p, \"Music\")\n",
    "# music_aoa_sensor = transform_utils.music_aoa_sensor_1d(rx_pos, theta_space, smoothing_window)"
   ]
  },
  {
   "cell_type": "code",
   "execution_count": null,
   "metadata": {},
   "outputs": [
    {
     "ename": "",
     "evalue": "",
     "output_type": "error",
     "traceback": [
      "\u001b[1;31mRunning cells with '/opt/homebrew/bin/python3' requires the ipykernel package.\n",
      "\u001b[1;31mRun the following command to install 'ipykernel' into the Python environment. \n",
      "\u001b[1;31mCommand: '/opt/homebrew/bin/python3 -m pip install ipykernel -U --user --force-reinstall'"
     ]
    }
   ],
   "source": [
    "from scipy.io import savemat\n",
    "def generate_mat_file(bags, names, savename):\n",
    "  mat_dict = {}\n",
    "  for bag, name in zip(bags, names):\n",
    "    data = []\n",
    "    for topic, msg, t in tqdm.tqdm(bag.read_messages('/csi')):\n",
    "      csi = pipeline_utils.extract_csi(msg, comp)\n",
    "      data.append(csi)\n",
    "    data = np.array(data)\n",
    "    mat_dict[name] = data\n",
    "  savemat(savename, mat_dict)\n",
    "\n",
    "generate_mat_file([rosbag.Bag(f\"csiTesting/experiment2/AOA{x}.bag\") for x in ['-2', '0', '+']], ['negativeAOA', 'zeroAOA', 'positiveAOA'], \"experiment2.mat\")"
   ]
  }
 ],
 "metadata": {
  "kernelspec": {
   "display_name": "Python 3 (ipykernel)",
   "language": "python",
   "name": "python3"
  },
  "language_info": {
   "codemirror_mode": {
    "name": "ipython",
    "version": 3
   },
   "file_extension": ".py",
   "mimetype": "text/x-python",
   "name": "python",
   "nbconvert_exporter": "python",
   "pygments_lexer": "ipython3",
   "version": "3.12.3"
  }
 },
 "nbformat": 4,
 "nbformat_minor": 4
}
